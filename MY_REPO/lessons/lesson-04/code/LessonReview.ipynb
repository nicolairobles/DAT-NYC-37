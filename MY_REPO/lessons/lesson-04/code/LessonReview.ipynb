{
 "cells": [
  {
   "cell_type": "markdown",
   "metadata": {},
   "source": [
    "## Types of distributions"
   ]
  },
  {
   "cell_type": "code",
   "execution_count": 12,
   "metadata": {
    "collapsed": true
   },
   "outputs": [],
   "source": [
    "#General imports\n",
    "import numpy as np\n",
    "import pandas as pd\n",
    "import seaborn as sns  # Plots!\n",
    "import matplotlib.pyplot as plt\n",
    "\n",
    "# Set the figure size for plotting\n",
    "sns.mpl.rc(\"figure\", figsize=(10,4))\n",
    "\n",
    "%matplotlib inline"
   ]
  },
  {
   "cell_type": "code",
   "execution_count": 3,
   "metadata": {
    "collapsed": true
   },
   "outputs": [],
   "source": [
    "norm_data = np.random.normal(size=100000)\n",
    "skewed_data = np.concatenate((np.random.normal(size=35000)+2, \n",
    "                             np.random.exponential(size=65000)), \n",
    "                             axis=0)\n",
    "uniform_data = np.random.uniform(0,2, size=100000)\n",
    "peaked_data = np.concatenate((np.random.exponential(size=50000),\n",
    "                             np.random.exponential(size=50000)*(-1)),\n",
    "                             axis=0)\n",
    "\n",
    "data_df = pd.DataFrame({\"norm\":norm_data,\n",
    "                       \"skewed\":skewed_data,\n",
    "                       \"uniform\":uniform_data,\n",
    "                          \"peaked\":peaked_data})"
   ]
  },
  {
   "cell_type": "markdown",
   "metadata": {},
   "source": [
    "---\n",
    "## In-Class Lab\n",
    "### &nbsp; Normal Data"
   ]
  },
  {
   "cell_type": "code",
   "execution_count": 16,
   "metadata": {
    "collapsed": false
   },
   "outputs": [
    {
     "name": "stdout",
     "output_type": "stream",
     "text": [
      "mean: \n",
      "median:\n",
      "std:\n"
     ]
    },
    {
     "data": {
      "text/plain": [
       "count    100000.000000\n",
       "mean          0.000396\n",
       "std           1.001761\n",
       "min          -4.412395\n",
       "25%          -0.678758\n",
       "50%           0.001054\n",
       "75%           0.674230\n",
       "max           4.386880\n",
       "Name: norm, dtype: float64"
      ]
     },
     "execution_count": 16,
     "metadata": {},
     "output_type": "execute_result"
    }
   ],
   "source": [
    "data_df[\"norm\"].describe()"
   ]
  },
  {
   "cell_type": "markdown",
   "metadata": {},
   "source": [
    "### &nbsp; Skewed Data"
   ]
  },
  {
   "cell_type": "code",
   "execution_count": 18,
   "metadata": {
    "collapsed": false
   },
   "outputs": [
    {
     "data": {
      "text/plain": [
       "count    100000.000000\n",
       "mean          1.348463\n",
       "std           1.107911\n",
       "min          -1.590900\n",
       "25%           0.432350\n",
       "50%           1.102856\n",
       "75%           2.057653\n",
       "max          13.852224\n",
       "Name: skewed, dtype: float64"
      ]
     },
     "execution_count": 18,
     "metadata": {},
     "output_type": "execute_result"
    }
   ],
   "source": [
    "data_df[\"skewed\"].describe()"
   ]
  },
  {
   "cell_type": "markdown",
   "metadata": {},
   "source": [
    "### &nbsp;  Uniform Data"
   ]
  },
  {
   "cell_type": "code",
   "execution_count": 20,
   "metadata": {
    "collapsed": false
   },
   "outputs": [
    {
     "data": {
      "text/plain": [
       "count    100000.000000\n",
       "mean          0.999740\n",
       "std           0.578347\n",
       "min           0.000002\n",
       "25%           0.496363\n",
       "50%           1.003359\n",
       "75%           1.502214\n",
       "max           1.999916\n",
       "Name: uniform, dtype: float64"
      ]
     },
     "execution_count": 20,
     "metadata": {},
     "output_type": "execute_result"
    }
   ],
   "source": [
    "data_df[\"uniform\"].describe()"
   ]
  },
  {
   "cell_type": "markdown",
   "metadata": {},
   "source": [
    "### &nbsp;  Peaked Data"
   ]
  },
  {
   "cell_type": "code",
   "execution_count": 21,
   "metadata": {
    "collapsed": false
   },
   "outputs": [
    {
     "data": {
      "text/plain": [
       "count    1.000000e+05\n",
       "mean    -5.780562e-04\n",
       "std      1.402346e+00\n",
       "min     -1.215852e+01\n",
       "25%     -6.918423e-01\n",
       "50%      2.136533e-07\n",
       "75%      6.917743e-01\n",
       "max      1.221800e+01\n",
       "Name: peaked, dtype: float64"
      ]
     },
     "execution_count": 21,
     "metadata": {},
     "output_type": "execute_result"
    }
   ],
   "source": [
    "data_df[\"peaked\"].describe()"
   ]
  },
  {
   "cell_type": "markdown",
   "metadata": {},
   "source": [
    "### &nbsp; Exponential Data & Plot"
   ]
  },
  {
   "cell_type": "code",
   "execution_count": 26,
   "metadata": {
    "collapsed": false
   },
   "outputs": [
    {
     "data": {
      "text/html": [
       "<div>\n",
       "<table border=\"1\" class=\"dataframe\">\n",
       "  <thead>\n",
       "    <tr style=\"text-align: right;\">\n",
       "      <th></th>\n",
       "      <th>0</th>\n",
       "    </tr>\n",
       "  </thead>\n",
       "  <tbody>\n",
       "    <tr>\n",
       "      <th>count</th>\n",
       "      <td>100000.000000</td>\n",
       "    </tr>\n",
       "    <tr>\n",
       "      <th>mean</th>\n",
       "      <td>0.995081</td>\n",
       "    </tr>\n",
       "    <tr>\n",
       "      <th>std</th>\n",
       "      <td>0.997791</td>\n",
       "    </tr>\n",
       "    <tr>\n",
       "      <th>min</th>\n",
       "      <td>0.000009</td>\n",
       "    </tr>\n",
       "    <tr>\n",
       "      <th>25%</th>\n",
       "      <td>0.285455</td>\n",
       "    </tr>\n",
       "    <tr>\n",
       "      <th>50%</th>\n",
       "      <td>0.688764</td>\n",
       "    </tr>\n",
       "    <tr>\n",
       "      <th>75%</th>\n",
       "      <td>1.377690</td>\n",
       "    </tr>\n",
       "    <tr>\n",
       "      <th>max</th>\n",
       "      <td>13.429471</td>\n",
       "    </tr>\n",
       "  </tbody>\n",
       "</table>\n",
       "</div>"
      ],
      "text/plain": [
       "                   0\n",
       "count  100000.000000\n",
       "mean        0.995081\n",
       "std         0.997791\n",
       "min         0.000009\n",
       "25%         0.285455\n",
       "50%         0.688764\n",
       "75%         1.377690\n",
       "max        13.429471"
      ]
     },
     "execution_count": 26,
     "metadata": {},
     "output_type": "execute_result"
    }
   ],
   "source": [
    "exponential_dist = np.random.exponential(size=100000)\n",
    "exponential_data = pd.DataFrame(np.random.exponential(size=100000))\n",
    "exponential_data.describe()"
   ]
  },
  {
   "cell_type": "code",
   "execution_count": 30,
   "metadata": {
    "collapsed": false
   },
   "outputs": [
    {
     "data": {
      "image/png": "[encoded data removed]",
      "text/plain": [
       "<matplotlib.figure.Figure at 0x11ad04910>"
      ]
     },
     "metadata": {},
     "output_type": "display_data"
    }
   ],
   "source": [
    "plt = sns.distplot(exponential_data)\n",
    "\n",
    "# Plot black line at mean\n",
    "plt.vlines(exponential_data.mean(), ymin=0, ymax=0.2, linewidth=2.0, color=\"blue\")\n",
    "\n",
    "# Plot red line at median\n",
    "plt.vlines(exponential_data.median(), ymin=0, ymax=0.2, linewidth=2.0, color=\"red\");"
   ]
  },
  {
   "cell_type": "markdown",
   "metadata": {},
   "source": [
    "--- \n",
    "## Kurtosis & Skewness"
   ]
  },
  {
   "cell_type": "code",
   "execution_count": 35,
   "metadata": {
    "collapsed": false
   },
   "outputs": [
    {
     "data": {
      "image/png": "[encoded data removed]",
      "text/plain": [
       "<matplotlib.figure.Figure at 0x11a685150>"
      ]
     },
     "metadata": {},
     "output_type": "display_data"
    }
   ],
   "source": [
    "plt = sns.kdeplot(data_df[\"norm\"]);\n",
    "\n",
    "kurtosis = data_df[\"norm\"].kurt()\n",
    "skewness = data_df[\"norm\"].skew()\n",
    "\n",
    "plt.text(x=3, y=0.35, s=\"Kurtosis \" + str(kurtosis));\n",
    "plt.text(x=3, y=0.3, s=\"Skewness \" + str(skewness));"
   ]
  },
  {
   "cell_type": "code",
   "execution_count": 10,
   "metadata": {
    "collapsed": false
   },
   "outputs": [
    {
     "data": {
      "image/png": "[encoded data removed]",
      "text/plain": [
       "<matplotlib.figure.Figure at 0x111aa6750>"
      ]
     },
     "metadata": {},
     "output_type": "display_data"
    }
   ],
   "source": [
    "dist = data_df[\"peaked\"]\n",
    "\n",
    "plt = sns.kdeplot(dist);\n",
    "\n",
    "kurtosis = dist.kurt()\n",
    "skewness = dist.skew()\n",
    "\n",
    "plt.text(x=3, y=0.35, s=\"Kurtosis \" + str(kurtosis));\n",
    "plt.text(x=3, y=0.3, s=\"Skewness \" + str(skewness));"
   ]
  },
  {
   "cell_type": "code",
   "execution_count": 11,
   "metadata": {
    "collapsed": false
   },
   "outputs": [
    {
     "data": {
      "image/png": "[encoded data removed]",
      "text/plain": [
       "<matplotlib.figure.Figure at 0x111bfbad0>"
      ]
     },
     "metadata": {},
     "output_type": "display_data"
    }
   ],
   "source": [
    "plt = sns.kdeplot(data_df[\"uniform\"])\n",
    "\n",
    "kurtosis = data_df[\"uniform\"].kurt()\n",
    "skewness = data_df[\"uniform\"].skew()\n",
    "\n",
    "plt.text(x=2, y=0.35, s=\"Kurtosis \" + str(kurtosis));\n",
    "plt.text(x=2, y=0.3, s=\"Skewness \" + str(skewness));"
   ]
  },
  {
   "cell_type": "code",
   "execution_count": 12,
   "metadata": {
    "collapsed": false
   },
   "outputs": [
    {
     "data": {
      "image/png": "[encoded data removed]",
      "text/plain": [
       "<matplotlib.figure.Figure at 0x111dfe750>"
      ]
     },
     "metadata": {},
     "output_type": "display_data"
    }
   ],
   "source": [
    "plt = sns.kdeplot(data_df[\"uniform\"])\n",
    "sns.kdeplot(data_df[\"peaked\"])\n",
    "sns.kdeplot(data_df[\"skewed\"])\n",
    "sns.kdeplot(data_df[\"norm\"]);"
   ]
  },
  {
   "cell_type": "markdown",
   "metadata": {},
   "source": [
    "### Skewness\n",
    "\n",
    "Now let's check the skewness of each of these distributions. \n",
    "\n",
    "Since skewness measures asymmetry, we'd expect to see low skewness for all of the distributions except the skewed one, because all the others are roughly symmetric:"
   ]
  },
  {
   "cell_type": "code",
   "execution_count": 14,
   "metadata": {
    "collapsed": false
   },
   "outputs": [
    {
     "data": {
      "text/plain": [
       "norm      -0.011367\n",
       "peaked    -0.015732\n",
       "skewed     1.023281\n",
       "uniform    0.005193\n",
       "dtype: float64"
      ]
     },
     "execution_count": 14,
     "metadata": {},
     "output_type": "execute_result"
    }
   ],
   "source": [
    "data_df.skew()"
   ]
  },
  {
   "cell_type": "markdown",
   "metadata": {},
   "source": [
    "### Kurtosis\n",
    "\n",
    "Now let's check kurtosis. Since kurtosis measures peakedness, we'd expect the flat (uniform) distribution to have low kurtosis while the distributions with sharper peaks should have higher kurtosis."
   ]
  },
  {
   "cell_type": "code",
   "execution_count": 16,
   "metadata": {
    "collapsed": false
   },
   "outputs": [
    {
     "data": {
      "text/plain": [
       "norm      -0.009134\n",
       "peaked     3.152428\n",
       "skewed     1.594959\n",
       "uniform   -1.208139\n",
       "dtype: float64"
      ]
     },
     "execution_count": 16,
     "metadata": {},
     "output_type": "execute_result"
    }
   ],
   "source": [
    "data_df.kurt()"
   ]
  },
  {
   "cell_type": "markdown",
   "metadata": {},
   "source": [
    "As we can see from the output, the normally distributed data has a kurtosis near zero, the flat distribution has negative kurtosis, and the two pointier distributions have positive kurtosis."
   ]
  },
  {
   "cell_type": "markdown",
   "metadata": {},
   "source": [
    "### Post-class exercises\n",
    "\n",
    "- Review notebook in the `post-class-exercise` folder: ../post-class-exercise/04-shelter-animal-outcomes.ipynb\n",
    "\n",
    "- http://chrisalbon.com/python/pandas_with_seaborn.html\n",
    "- https://stanford.edu/~mwaskom/software/seaborn/tutorial/distributions.html\n",
    "- https://stanford.edu/~mwaskom/software/seaborn/tutorial/categorical.html"
   ]
  }
 ],
 "metadata": {
  "kernelspec": {
   "display_name": "Python 2",
   "language": "python",
   "name": "python2"
  },
  "language_info": {
   "codemirror_mode": {
    "name": "ipython",
    "version": 2
   },
   "file_extension": ".py",
   "mimetype": "text/x-python",
   "name": "python",
   "nbconvert_exporter": "python",
   "pygments_lexer": "ipython2",
   "version": "2.7.11"
  }
 },
 "nbformat": 4,
 "nbformat_minor": 0
}
