{
 "cells": [
  {
   "cell_type": "code",
   "execution_count": 1,
   "metadata": {
    "collapsed": false
   },
   "outputs": [
    {
     "data": {
      "text/html": [
       "<div>\n",
       "<table border=\"1\" class=\"dataframe\">\n",
       "  <thead>\n",
       "    <tr style=\"text-align: right;\">\n",
       "      <th></th>\n",
       "      <th>url</th>\n",
       "      <th>urlid</th>\n",
       "      <th>boilerplate</th>\n",
       "      <th>alchemy_category</th>\n",
       "      <th>alchemy_category_score</th>\n",
       "      <th>avglinksize</th>\n",
       "      <th>commonlinkratio_1</th>\n",
       "      <th>commonlinkratio_2</th>\n",
       "      <th>commonlinkratio_3</th>\n",
       "      <th>commonlinkratio_4</th>\n",
       "      <th>...</th>\n",
       "      <th>linkwordscore</th>\n",
       "      <th>news_front_page</th>\n",
       "      <th>non_markup_alphanum_characters</th>\n",
       "      <th>numberOfLinks</th>\n",
       "      <th>numwords_in_url</th>\n",
       "      <th>parametrizedLinkRatio</th>\n",
       "      <th>spelling_errors_ratio</th>\n",
       "      <th>label</th>\n",
       "      <th>title</th>\n",
       "      <th>body</th>\n",
       "    </tr>\n",
       "  </thead>\n",
       "  <tbody>\n",
       "    <tr>\n",
       "      <th>0</th>\n",
       "      <td>http://www.bloomberg.com/news/2010-12-23/ibm-p...</td>\n",
       "      <td>4042</td>\n",
       "      <td>{\"title\":\"IBM Sees Holographic Calls Air Breat...</td>\n",
       "      <td>business</td>\n",
       "      <td>0.789131</td>\n",
       "      <td>2.055556</td>\n",
       "      <td>0.676471</td>\n",
       "      <td>0.205882</td>\n",
       "      <td>0.047059</td>\n",
       "      <td>0.023529</td>\n",
       "      <td>...</td>\n",
       "      <td>24</td>\n",
       "      <td>0</td>\n",
       "      <td>5424</td>\n",
       "      <td>170</td>\n",
       "      <td>8</td>\n",
       "      <td>0.152941</td>\n",
       "      <td>0.079130</td>\n",
       "      <td>0</td>\n",
       "      <td>IBM Sees Holographic Calls Air Breathing Batte...</td>\n",
       "      <td>A sign stands outside the International Busine...</td>\n",
       "    </tr>\n",
       "    <tr>\n",
       "      <th>1</th>\n",
       "      <td>http://www.popsci.com/technology/article/2012-...</td>\n",
       "      <td>8471</td>\n",
       "      <td>{\"title\":\"The Fully Electronic Futuristic Star...</td>\n",
       "      <td>recreation</td>\n",
       "      <td>0.574147</td>\n",
       "      <td>3.677966</td>\n",
       "      <td>0.508021</td>\n",
       "      <td>0.288770</td>\n",
       "      <td>0.213904</td>\n",
       "      <td>0.144385</td>\n",
       "      <td>...</td>\n",
       "      <td>40</td>\n",
       "      <td>0</td>\n",
       "      <td>4973</td>\n",
       "      <td>187</td>\n",
       "      <td>9</td>\n",
       "      <td>0.181818</td>\n",
       "      <td>0.125448</td>\n",
       "      <td>1</td>\n",
       "      <td>The Fully Electronic Futuristic Starting Gun T...</td>\n",
       "      <td>And that can be carried on a plane without the...</td>\n",
       "    </tr>\n",
       "    <tr>\n",
       "      <th>2</th>\n",
       "      <td>http://www.menshealth.com/health/flu-fighting-...</td>\n",
       "      <td>1164</td>\n",
       "      <td>{\"title\":\"Fruits that Fight the Flu fruits tha...</td>\n",
       "      <td>health</td>\n",
       "      <td>0.996526</td>\n",
       "      <td>2.382883</td>\n",
       "      <td>0.562016</td>\n",
       "      <td>0.321705</td>\n",
       "      <td>0.120155</td>\n",
       "      <td>0.042636</td>\n",
       "      <td>...</td>\n",
       "      <td>55</td>\n",
       "      <td>0</td>\n",
       "      <td>2240</td>\n",
       "      <td>258</td>\n",
       "      <td>11</td>\n",
       "      <td>0.166667</td>\n",
       "      <td>0.057613</td>\n",
       "      <td>1</td>\n",
       "      <td>Fruits that Fight the Flu fruits that fight th...</td>\n",
       "      <td>Apples The most popular source of antioxidants...</td>\n",
       "    </tr>\n",
       "    <tr>\n",
       "      <th>3</th>\n",
       "      <td>http://www.dumblittleman.com/2007/12/10-foolpr...</td>\n",
       "      <td>6684</td>\n",
       "      <td>{\"title\":\"10 Foolproof Tips for Better Sleep \"...</td>\n",
       "      <td>health</td>\n",
       "      <td>0.801248</td>\n",
       "      <td>1.543103</td>\n",
       "      <td>0.400000</td>\n",
       "      <td>0.100000</td>\n",
       "      <td>0.016667</td>\n",
       "      <td>0.000000</td>\n",
       "      <td>...</td>\n",
       "      <td>24</td>\n",
       "      <td>0</td>\n",
       "      <td>2737</td>\n",
       "      <td>120</td>\n",
       "      <td>5</td>\n",
       "      <td>0.041667</td>\n",
       "      <td>0.100858</td>\n",
       "      <td>1</td>\n",
       "      <td>10 Foolproof Tips for Better Sleep</td>\n",
       "      <td>There was a period in my life when I had a lot...</td>\n",
       "    </tr>\n",
       "    <tr>\n",
       "      <th>4</th>\n",
       "      <td>http://bleacherreport.com/articles/1205138-the...</td>\n",
       "      <td>9006</td>\n",
       "      <td>{\"title\":\"The 50 Coolest Jerseys You Didn t Kn...</td>\n",
       "      <td>sports</td>\n",
       "      <td>0.719157</td>\n",
       "      <td>2.676471</td>\n",
       "      <td>0.500000</td>\n",
       "      <td>0.222222</td>\n",
       "      <td>0.123457</td>\n",
       "      <td>0.043210</td>\n",
       "      <td>...</td>\n",
       "      <td>14</td>\n",
       "      <td>0</td>\n",
       "      <td>12032</td>\n",
       "      <td>162</td>\n",
       "      <td>10</td>\n",
       "      <td>0.098765</td>\n",
       "      <td>0.082569</td>\n",
       "      <td>0</td>\n",
       "      <td>The 50 Coolest Jerseys You Didn t Know Existed...</td>\n",
       "      <td>Jersey sales is a curious business Whether you...</td>\n",
       "    </tr>\n",
       "  </tbody>\n",
       "</table>\n",
       "<p>5 rows × 29 columns</p>\n",
       "</div>"
      ],
      "text/plain": [
       "                                                 url  urlid  \\\n",
       "0  http://www.bloomberg.com/news/2010-12-23/ibm-p...   4042   \n",
       "1  http://www.popsci.com/technology/article/2012-...   8471   \n",
       "2  http://www.menshealth.com/health/flu-fighting-...   1164   \n",
       "3  http://www.dumblittleman.com/2007/12/10-foolpr...   6684   \n",
       "4  http://bleacherreport.com/articles/1205138-the...   9006   \n",
       "\n",
       "                                         boilerplate alchemy_category  \\\n",
       "0  {\"title\":\"IBM Sees Holographic Calls Air Breat...         business   \n",
       "1  {\"title\":\"The Fully Electronic Futuristic Star...       recreation   \n",
       "2  {\"title\":\"Fruits that Fight the Flu fruits tha...           health   \n",
       "3  {\"title\":\"10 Foolproof Tips for Better Sleep \"...           health   \n",
       "4  {\"title\":\"The 50 Coolest Jerseys You Didn t Kn...           sports   \n",
       "\n",
       "  alchemy_category_score  avglinksize  commonlinkratio_1  commonlinkratio_2  \\\n",
       "0               0.789131     2.055556           0.676471           0.205882   \n",
       "1               0.574147     3.677966           0.508021           0.288770   \n",
       "2               0.996526     2.382883           0.562016           0.321705   \n",
       "3               0.801248     1.543103           0.400000           0.100000   \n",
       "4               0.719157     2.676471           0.500000           0.222222   \n",
       "\n",
       "   commonlinkratio_3  commonlinkratio_4  \\\n",
       "0           0.047059           0.023529   \n",
       "1           0.213904           0.144385   \n",
       "2           0.120155           0.042636   \n",
       "3           0.016667           0.000000   \n",
       "4           0.123457           0.043210   \n",
       "\n",
       "                         ...                          linkwordscore  \\\n",
       "0                        ...                                     24   \n",
       "1                        ...                                     40   \n",
       "2                        ...                                     55   \n",
       "3                        ...                                     24   \n",
       "4                        ...                                     14   \n",
       "\n",
       "   news_front_page  non_markup_alphanum_characters  numberOfLinks  \\\n",
       "0                0                            5424            170   \n",
       "1                0                            4973            187   \n",
       "2                0                            2240            258   \n",
       "3                0                            2737            120   \n",
       "4                0                           12032            162   \n",
       "\n",
       "   numwords_in_url  parametrizedLinkRatio  spelling_errors_ratio label  \\\n",
       "0                8               0.152941               0.079130     0   \n",
       "1                9               0.181818               0.125448     1   \n",
       "2               11               0.166667               0.057613     1   \n",
       "3                5               0.041667               0.100858     1   \n",
       "4               10               0.098765               0.082569     0   \n",
       "\n",
       "                                               title  \\\n",
       "0  IBM Sees Holographic Calls Air Breathing Batte...   \n",
       "1  The Fully Electronic Futuristic Starting Gun T...   \n",
       "2  Fruits that Fight the Flu fruits that fight th...   \n",
       "3                10 Foolproof Tips for Better Sleep    \n",
       "4  The 50 Coolest Jerseys You Didn t Know Existed...   \n",
       "\n",
       "                                                body  \n",
       "0  A sign stands outside the International Busine...  \n",
       "1  And that can be carried on a plane without the...  \n",
       "2  Apples The most popular source of antioxidants...  \n",
       "3  There was a period in my life when I had a lot...  \n",
       "4  Jersey sales is a curious business Whether you...  \n",
       "\n",
       "[5 rows x 29 columns]"
      ]
     },
     "execution_count": 1,
     "metadata": {},
     "output_type": "execute_result"
    }
   ],
   "source": [
    "import pandas as pd\n",
    "import json\n",
    "\n",
    "data = pd.read_csv(\"https://github.com/ga-students/DAT-NYC-37/blob/master/lessons/lesson-13/assets/dataset/stumbleupon.tsv?raw=true\", sep='\\t')\n",
    "data['title'] = data.boilerplate.map(lambda x: json.loads(x).get('title', ''))\n",
    "data['body'] = data.boilerplate.map(lambda x: json.loads(x).get('body', ''))\n",
    "data.head()"
   ]
  },
  {
   "cell_type": "markdown",
   "metadata": {},
   "source": [
    "## Predicting \"Greenness\" Of Content"
   ]
  },
  {
   "cell_type": "markdown",
   "metadata": {},
   "source": [
    "This dataset comes from [stumbleupon](https://www.stumbleupon.com/), a web page recommender.  \n",
    "\n",
    "A description of the columns is below\n",
    "\n",
    "#### What are 'evergreen' sites?\n",
    "\n",
    "Evergreen sites are those that are always relevant.  As opposed to breaking news or current events, evergreen websites are relevant no matter the time or season. \n",
    "\n",
    "*A sample of URLs is below, where `label = 1` are 'evergreen' websites*"
   ]
  },
  {
   "cell_type": "markdown",
   "metadata": {},
   "source": [
    "FieldName|Type|Description\n",
    "---------|----|-----------\n",
    "url|string|Url of the webpage to be classified\n",
    "title|string|Title of the article\n",
    "body|string|Body text of article\n",
    "urlid|integer| StumbleUpon's unique identifier for each url\n",
    "boilerplate|json|Boilerplate text\n",
    "alchemy_category|string|Alchemy category (per the publicly available Alchemy API found at www.alchemyapi.com)\n",
    "alchemy_category_score|double|Alchemy category score (per the publicly available Alchemy API found at www.alchemyapi.com)\n",
    "avglinksize| double|Average number of words in each link\n",
    "commonlinkratio_1|double|# of links sharing at least 1 word with 1 other links / # of links\n",
    "commonlinkratio_2|double|# of links sharing at least 1 word with 2 other links / # of links\n",
    "commonlinkratio_3|double|# of links sharing at least 1 word with 3 other links / # of links\n",
    "commonlinkratio_4|double|# of links sharing at least 1 word with 4 other links / # of links\n",
    "compression_ratio|double|Compression achieved on this page via gzip (measure of redundancy)\n",
    "embed_ratio|double|Count of number of <embed> usage\n",
    "frameBased|integer (0 or 1)|A page is frame-based (1) if it has no body markup but have a frameset markup\n",
    "frameTagRatio|double|Ratio of iframe markups over total number of markups\n",
    "hasDomainLink|integer (0 or 1)|True (1) if it contains an <a> with an url with domain\n",
    "html_ratio|double|Ratio of tags vs text in the page\n",
    "image_ratio|double|Ratio of <img> tags vs text in the page\n",
    "is_news|integer (0 or 1) | True (1) if StumbleUpon's news classifier determines that this webpage is news\n",
    "lengthyLinkDomain| integer (0 or 1)|True (1) if at least 3 <a> 's text contains more than 30 alphanumeric characters\n",
    "linkwordscore|double|Percentage of words on the page that are in hyperlink's text\n",
    "news_front_page| integer (0 or 1)|True (1) if StumbleUpon's news classifier determines that this webpage is front-page news\n",
    "non_markup_alphanum_characters|integer| Page's text's number of alphanumeric characters\n",
    "numberOfLinks|integer Number of <a>|markups\n",
    "numwords_in_url| double|Number of words in url\n",
    "parametrizedLinkRatio|double|A link is parametrized if it's url contains parameters or has an attached onClick event\n",
    "spelling_errors_ratio|double|Ratio of words not found in wiki (considered to be a spelling mistake)\n",
    "label|integer (0 or 1)|User-determined label. Either evergreen (1) or non-evergreen (0); available for train.tsv only"
   ]
  },
  {
   "cell_type": "markdown",
   "metadata": {},
   "source": [
    "---\n",
    "\n",
    "### Objective: Predict if a given site will be evergreen based on the above features\n",
    "\n",
    "**Problem:** Some of the above features are text-only (`title`, `url`, `body`). How can I leverage the modeling techniques we've covered so far to utilize text based features?\n",
    "\n",
    "**Solution:** Transform text features into many numerical features.\n",
    "  - Count Vectorization\n",
    "  - Term frequency/inverse document frequency (TF-IDF) Vectorization.\n",
    "---"
   ]
  },
  {
   "cell_type": "code",
   "execution_count": 2,
   "metadata": {
    "collapsed": false
   },
   "outputs": [
    {
     "data": {
      "text/plain": [
       "0       IBM Sees Holographic Calls Air Breathing Batte...\n",
       "1       The Fully Electronic Futuristic Starting Gun T...\n",
       "2       Fruits that Fight the Flu fruits that fight th...\n",
       "3                     10 Foolproof Tips for Better Sleep \n",
       "4       The 50 Coolest Jerseys You Didn t Know Existed...\n",
       "5                               Genital Herpes Treatment \n",
       "6                       fashion lane American Wild Child \n",
       "7       Racing For Recovery by Dean Johnson racing for...\n",
       "8                      Valet The Handbook 31 Days 31 days\n",
       "9             Cookies and Cream Brownies How Sweet It Is \n",
       "10      Business Financial News Breaking US Internatio...\n",
       "11      A Tip of the Cap to The Greatest Iron Man of T...\n",
       "12                         9 Foods That Trash Your Teeth \n",
       "13                                                       \n",
       "14      French Onion Steaks with Red Wine Sauce french...\n",
       "15      Izabel Goulart Swimsuit by Kikidoll 2012 Sport...\n",
       "16                    Liquid Mountaineering The Awesomer \n",
       "17                                                   None\n",
       "18                          Grilled Peaches Sugarcrafter \n",
       "19      How to Make Your Home Healthier A Room by Room...\n",
       "20      Olympic Soccer Babe Alex Morgan Medal Winning ...\n",
       "21         BBC Food Recipes Blueberry and lemon traybake \n",
       "22      Quit Smoking Counter Online counter that measu...\n",
       "23            Original techniques to tie your shoe laces \n",
       "24                                                       \n",
       "25       Best College Football Fan Sign Ever Alabama Fan \n",
       "26                                    Breaking News Blog \n",
       "27                     The Alton Brown Flower Pot Smoker \n",
       "28          Supermodels show off their bikini bods Humor \n",
       "29      Genevieve Morton Swimsuit by Tyler Rose Swimwe...\n",
       "                              ...                        \n",
       "7365    Chocolate Chip S mores Cookies of the Day choc...\n",
       "7366    Money Happiness Newsweek money & happiness - n...\n",
       "7367                                                     \n",
       "7368    Sourdough Sour Cherry Bread Pudding with Cherr...\n",
       "7369    Noble Pig Mini Peanut Butter Finger Cheesecake...\n",
       "7370            Fancy Knot Dress in Clothes at Nasty Gal \n",
       "7371                        Perfect Pumpkin Bread Recipe \n",
       "7372    Get the Lead Out Cartridge Free Erasable Penci...\n",
       "7373    blog khymos org dedicated to molecular gastron...\n",
       "7374    Versace launches haute couture for autumn wint...\n",
       "7375                                 What Megan s Making \n",
       "7376        Chinese Food Recipes Cooking Chinese Cuisine \n",
       "7377    Google Gives iPhone Users Browser Choice For P...\n",
       "7378       12 Smoothies Recipes and Cooking Food Network \n",
       "7379    Toasted Sesame Ginger Salmon TechMunch Boston ...\n",
       "7380          iVillage s 25 Most Popular Recipes of 2010 \n",
       "7381                                       Caravan Style \n",
       "7382    Mountain Dew Cupcakes All Things Cupcake mount...\n",
       "7383                                  80s kids Random RR \n",
       "7384                        Homemade Cake Mix i am baker \n",
       "7385                           MARKET HQ Brands MINKPINK \n",
       "7386    How to Make No Knead Pizza Dough No Knead Pizz...\n",
       "7387                       Vintage Funk A Chic Direction \n",
       "7388    New York Best Place to Watch Wildlife Jamaica ...\n",
       "7389                      Gummy Snake Worth1000 Contests \n",
       "7390    Kno Raises 46 Million More To Build Most Power...\n",
       "7391                                  Why I Miss College \n",
       "7392    Sweet Potatoes Eat This Not That  i'm eating t...\n",
       "7393                                      Naturally Ella \n",
       "7394    Esti Ginzburg Swimsuit by Letarte by Lisa Cabr...\n",
       "Name: title, dtype: object"
      ]
     },
     "execution_count": 2,
     "metadata": {},
     "output_type": "execute_result"
    }
   ],
   "source": [
    "data.title"
   ]
  },
  {
   "cell_type": "code",
   "execution_count": 10,
   "metadata": {
    "collapsed": false
   },
   "outputs": [
    {
     "ename": "UnicodeEncodeError",
     "evalue": "'ascii' codec can't encode character u'\\u202c' in position 70: ordinal not in range(128)",
     "output_type": "error",
     "traceback": [
      "\u001b[0;31m---------------------------------------------------------------------------\u001b[0m",
      "\u001b[0;31mUnicodeEncodeError\u001b[0m                        Traceback (most recent call last)",
      "\u001b[0;32m<ipython-input-10-1a193806a643>\u001b[0m in \u001b[0;36m<module>\u001b[0;34m()\u001b[0m\n\u001b[1;32m      8\u001b[0m \u001b[0;34m\u001b[0m\u001b[0m\n\u001b[1;32m      9\u001b[0m \u001b[0;34m\u001b[0m\u001b[0m\n\u001b[0;32m---> 10\u001b[0;31m \u001b[0mdata\u001b[0m\u001b[0;34m[\u001b[0m\u001b[0;34m'recipe'\u001b[0m\u001b[0;34m]\u001b[0m \u001b[0;34m=\u001b[0m \u001b[0mdata\u001b[0m\u001b[0;34m[\u001b[0m\u001b[0;34m'title'\u001b[0m\u001b[0;34m]\u001b[0m\u001b[0;34m.\u001b[0m\u001b[0mmap\u001b[0m\u001b[0;34m(\u001b[0m\u001b[0mhas_recipe\u001b[0m\u001b[0;34m)\u001b[0m\u001b[0;34m\u001b[0m\u001b[0m\n\u001b[0m\u001b[1;32m     11\u001b[0m \u001b[0mdata\u001b[0m\u001b[0;34m[\u001b[0m\u001b[0;34m\"recipe\"\u001b[0m\u001b[0;34m]\u001b[0m\u001b[0;34m\u001b[0m\u001b[0m\n",
      "\u001b[0;32m/Users/nicolai/anaconda/lib/python2.7/site-packages/pandas/core/series.pyc\u001b[0m in \u001b[0;36mmap\u001b[0;34m(self, arg, na_action)\u001b[0m\n\u001b[1;32m   2102\u001b[0m             \u001b[0mnew_values\u001b[0m \u001b[0;34m=\u001b[0m \u001b[0malgos\u001b[0m\u001b[0;34m.\u001b[0m\u001b[0mtake_1d\u001b[0m\u001b[0;34m(\u001b[0m\u001b[0marg\u001b[0m\u001b[0;34m.\u001b[0m\u001b[0m_values\u001b[0m\u001b[0;34m,\u001b[0m \u001b[0mindexer\u001b[0m\u001b[0;34m)\u001b[0m\u001b[0;34m\u001b[0m\u001b[0m\n\u001b[1;32m   2103\u001b[0m         \u001b[0;32melse\u001b[0m\u001b[0;34m:\u001b[0m\u001b[0;34m\u001b[0m\u001b[0m\n\u001b[0;32m-> 2104\u001b[0;31m             \u001b[0mnew_values\u001b[0m \u001b[0;34m=\u001b[0m \u001b[0mmap_f\u001b[0m\u001b[0;34m(\u001b[0m\u001b[0mvalues\u001b[0m\u001b[0;34m,\u001b[0m \u001b[0marg\u001b[0m\u001b[0;34m)\u001b[0m\u001b[0;34m\u001b[0m\u001b[0m\n\u001b[0m\u001b[1;32m   2105\u001b[0m \u001b[0;34m\u001b[0m\u001b[0m\n\u001b[1;32m   2106\u001b[0m         return self._constructor(new_values,\n",
      "\u001b[0;32mpandas/src/inference.pyx\u001b[0m in \u001b[0;36mpandas.lib.map_infer (pandas/lib.c:62658)\u001b[0;34m()\u001b[0m\n",
      "\u001b[0;32m<ipython-input-10-1a193806a643>\u001b[0m in \u001b[0;36mhas_recipe\u001b[0;34m(text)\u001b[0m\n\u001b[1;32m      2\u001b[0m \u001b[0;34m\u001b[0m\u001b[0m\n\u001b[1;32m      3\u001b[0m \u001b[0;32mdef\u001b[0m \u001b[0mhas_recipe\u001b[0m\u001b[0;34m(\u001b[0m\u001b[0mtext\u001b[0m\u001b[0;34m)\u001b[0m\u001b[0;34m:\u001b[0m\u001b[0;34m\u001b[0m\u001b[0m\n\u001b[0;32m----> 4\u001b[0;31m     \u001b[0;32mif\u001b[0m \u001b[0;34m\"recipe\"\u001b[0m \u001b[0;32min\u001b[0m \u001b[0mstr\u001b[0m\u001b[0;34m(\u001b[0m\u001b[0mtext\u001b[0m\u001b[0;34m)\u001b[0m\u001b[0;34m.\u001b[0m\u001b[0mlower\u001b[0m\u001b[0;34m(\u001b[0m\u001b[0;34m)\u001b[0m\u001b[0;34m:\u001b[0m\u001b[0;34m\u001b[0m\u001b[0m\n\u001b[0m\u001b[1;32m      5\u001b[0m         \u001b[0;32mreturn\u001b[0m \u001b[0;36m1\u001b[0m\u001b[0;34m\u001b[0m\u001b[0m\n\u001b[1;32m      6\u001b[0m     \u001b[0;32melse\u001b[0m\u001b[0;34m:\u001b[0m\u001b[0;34m\u001b[0m\u001b[0m\n",
      "\u001b[0;31mUnicodeEncodeError\u001b[0m: 'ascii' codec can't encode character u'\\u202c' in position 70: ordinal not in range(128)"
     ]
    }
   ],
   "source": [
    "# Q: add a feature that is True if a title contains recipe. Do such articles have a relationship with \"evergreeness\"?\n",
    "\n",
    "def has_recipe(text):\n",
    "    if \"recipe\" in str(text).lower():\n",
    "        return 1\n",
    "    else:\n",
    "        return 0\n",
    "    \n",
    "    \n",
    "data['recipe'] = data['title'].map(has_recipe)\n",
    "data[\"recipe\"]"
   ]
  },
  {
   "cell_type": "markdown",
   "metadata": {},
   "source": [
    "### A primitive solution:\n",
    "\n",
    "Maybe certain keywords in the title are predictive for whether a website is evergreen or not? For instance, maybe recipes are usually \"evergreen\"?\n",
    "\n",
    "We could create a feature for the title containing 'recipe'. Is the % of evegreen websites higher or lower on pages that have recipe in the the title?"
   ]
  },
  {
   "cell_type": "code",
   "execution_count": 12,
   "metadata": {
    "collapsed": false
   },
   "outputs": [
    {
     "data": {
      "text/html": [
       "<div>\n",
       "<table border=\"1\" class=\"dataframe\">\n",
       "  <thead>\n",
       "    <tr style=\"text-align: right;\">\n",
       "      <th>label</th>\n",
       "      <th>0</th>\n",
       "      <th>1</th>\n",
       "    </tr>\n",
       "    <tr>\n",
       "      <th>recipe</th>\n",
       "      <th></th>\n",
       "      <th></th>\n",
       "    </tr>\n",
       "  </thead>\n",
       "  <tbody>\n",
       "    <tr>\n",
       "      <th>False</th>\n",
       "      <td>3510</td>\n",
       "      <td>2939</td>\n",
       "    </tr>\n",
       "    <tr>\n",
       "      <th>True</th>\n",
       "      <td>82</td>\n",
       "      <td>852</td>\n",
       "    </tr>\n",
       "  </tbody>\n",
       "</table>\n",
       "</div>"
      ],
      "text/plain": [
       "label      0     1\n",
       "recipe            \n",
       "False   3510  2939\n",
       "True      82   852"
      ]
     },
     "execution_count": 12,
     "metadata": {},
     "output_type": "execute_result"
    }
   ],
   "source": [
    "# Option 1: Create a function to check for this\n",
    "\n",
    "def has_recipe(text_in):\n",
    "    try:\n",
    "        if 'recipe' in str(text_in).lower():\n",
    "            return 1\n",
    "        else:\n",
    "            return 0\n",
    "    except: \n",
    "        return 0\n",
    "        \n",
    "# .map applies a function to each row in our series and returns the result as a list.\n",
    "data['recipe'] = data['title'].map(has_recipe)\n",
    "\n",
    "# Note: We can also use lambda functions, instead of the above function definition\n",
    "# data['recipe'] = data['title'].map(lambda t: 1 if 'recipe' in str(t).lower() else 0)\n",
    "\n",
    "\n",
    "# Option 3: string functions\n",
    "data['recipe'] = data['title'].str.lower().str.contains('recipe')\n",
    "\n",
    "pd.crosstab(data['recipe'], data['label'])"
   ]
  },
  {
   "cell_type": "markdown",
   "metadata": {},
   "source": [
    "Recipe articles seem to be evergreen more often than not -- but obviously most of our articles are not recipes. How can we apply this more generally?\n",
    "\n",
    "**CountVectorizer:** converts a collection of text into a matrix of features.  Each row will be a sample (an article or piece of text) and each column will be a text feature (usually a count or binary feature per word)."
   ]
  },
  {
   "cell_type": "markdown",
   "metadata": {},
   "source": [
    "### Demo: Understanding Count Vectorization\n",
    "\n",
    "http://scikit-learn.org/stable/modules/generated/sklearn.feature_extraction.text.CountVectorizer.html"
   ]
  },
  {
   "cell_type": "code",
   "execution_count": 36,
   "metadata": {
    "collapsed": false
   },
   "outputs": [
    {
     "name": "stdout",
     "output_type": "stream",
     "text": [
      "Feature names: \n",
      "[u'advantages', u'advantages races', u'air', u'air breathing', u'batteries', u'breathing', u'breathing batteries', u'calls', u'calls air', u'electronic', u'electronic calls', u'electronic futuristic', u'eliminates', u'eliminates advantages', u'fully', u'fully electronic', u'futuristic', u'futuristic starting', u'gun', u'gun eliminates', u'ibm', u'ibm sees', u'races', u'sees', u'sees electronic', u'starting', u'starting gun']\n",
      "Feature counts: \n",
      "[[0 0 1 1 1 1 1 1 1 1 1 0 0 0 0 0 0 0 0 0 1 1 0 1 1 0 0]\n",
      " [1 1 0 0 0 0 0 0 0 1 0 1 1 1 1 1 1 1 1 1 0 0 1 0 0 1 1]]\n",
      "\n"
     ]
    },
    {
     "data": {
      "text/html": [
       "<div>\n",
       "<table border=\"1\" class=\"dataframe\">\n",
       "  <thead>\n",
       "    <tr style=\"text-align: right;\">\n",
       "      <th></th>\n",
       "      <th>advantages</th>\n",
       "      <th>advantages races</th>\n",
       "      <th>air</th>\n",
       "      <th>air breathing</th>\n",
       "      <th>batteries</th>\n",
       "      <th>breathing</th>\n",
       "      <th>breathing batteries</th>\n",
       "      <th>calls</th>\n",
       "      <th>calls air</th>\n",
       "      <th>electronic</th>\n",
       "      <th>...</th>\n",
       "      <th>futuristic starting</th>\n",
       "      <th>gun</th>\n",
       "      <th>gun eliminates</th>\n",
       "      <th>ibm</th>\n",
       "      <th>ibm sees</th>\n",
       "      <th>races</th>\n",
       "      <th>sees</th>\n",
       "      <th>sees electronic</th>\n",
       "      <th>starting</th>\n",
       "      <th>starting gun</th>\n",
       "    </tr>\n",
       "  </thead>\n",
       "  <tbody>\n",
       "    <tr>\n",
       "      <th>Article1</th>\n",
       "      <td>0</td>\n",
       "      <td>0</td>\n",
       "      <td>1</td>\n",
       "      <td>1</td>\n",
       "      <td>1</td>\n",
       "      <td>1</td>\n",
       "      <td>1</td>\n",
       "      <td>1</td>\n",
       "      <td>1</td>\n",
       "      <td>1</td>\n",
       "      <td>...</td>\n",
       "      <td>0</td>\n",
       "      <td>0</td>\n",
       "      <td>0</td>\n",
       "      <td>1</td>\n",
       "      <td>1</td>\n",
       "      <td>0</td>\n",
       "      <td>1</td>\n",
       "      <td>1</td>\n",
       "      <td>0</td>\n",
       "      <td>0</td>\n",
       "    </tr>\n",
       "    <tr>\n",
       "      <th>Article2</th>\n",
       "      <td>1</td>\n",
       "      <td>1</td>\n",
       "      <td>0</td>\n",
       "      <td>0</td>\n",
       "      <td>0</td>\n",
       "      <td>0</td>\n",
       "      <td>0</td>\n",
       "      <td>0</td>\n",
       "      <td>0</td>\n",
       "      <td>1</td>\n",
       "      <td>...</td>\n",
       "      <td>1</td>\n",
       "      <td>1</td>\n",
       "      <td>1</td>\n",
       "      <td>0</td>\n",
       "      <td>0</td>\n",
       "      <td>1</td>\n",
       "      <td>0</td>\n",
       "      <td>0</td>\n",
       "      <td>1</td>\n",
       "      <td>1</td>\n",
       "    </tr>\n",
       "  </tbody>\n",
       "</table>\n",
       "<p>2 rows × 27 columns</p>\n",
       "</div>"
      ],
      "text/plain": [
       "          advantages  advantages races  air  air breathing  batteries  \\\n",
       "Article1           0                 0    1              1          1   \n",
       "Article2           1                 1    0              0          0   \n",
       "\n",
       "          breathing  breathing batteries  calls  calls air  electronic  \\\n",
       "Article1          1                    1      1          1           1   \n",
       "Article2          0                    0      0          0           1   \n",
       "\n",
       "              ...       futuristic starting  gun  gun eliminates  ibm  \\\n",
       "Article1      ...                         0    0               0    1   \n",
       "Article2      ...                         1    1               1    0   \n",
       "\n",
       "          ibm sees  races  sees  sees electronic  starting  starting gun  \n",
       "Article1         1      0     1                1         0             0  \n",
       "Article2         0      1     0                0         1             1  \n",
       "\n",
       "[2 rows x 27 columns]"
      ]
     },
     "execution_count": 36,
     "metadata": {},
     "output_type": "execute_result"
    }
   ],
   "source": [
    "from sklearn.feature_extraction.text import CountVectorizer\n",
    "\n",
    "titles = [\n",
    "    \"IBM Sees Electronic Calls Air Breathing Batteries\",\n",
    "    \"The Fully Electronic Futuristic Starting Gun That Eliminates Advantages in Races\"\n",
    "]\n",
    "\n",
    "vectorizer = CountVectorizer(stop_words='english', ngram_range=(1,2))\n",
    "vectorized_titles = vectorizer.fit_transform(titles)\n",
    "\n",
    "print \"Feature names: \\n\", vectorizer.get_feature_names()\n",
    "print \"Feature counts: \\n\", vectorized_titles.todense()\n",
    "print\n",
    "\n",
    "# Represent Count Vectorized results as a dataframe so we can preview it more easily.\n",
    "pd.DataFrame(\n",
    "    columns=vectorizer.get_feature_names(),\n",
    "    index=['Article1', 'Article2'],\n",
    "    data=vectorized_titles.todense()\n",
    ")"
   ]
  },
  {
   "cell_type": "code",
   "execution_count": 24,
   "metadata": {
    "collapsed": false
   },
   "outputs": [
    {
     "data": {
      "text/plain": [
       "['hi']"
      ]
     },
     "execution_count": 24,
     "metadata": {},
     "output_type": "execute_result"
    }
   ],
   "source": [
    "titles=[]\n",
    "titles.append(\"hi\")\n",
    "titles"
   ]
  },
  {
   "cell_type": "markdown",
   "metadata": {},
   "source": [
    "## Demo: Term-frequency, Inverse document frequency (Tf-Idf)\n",
    "\n",
    "An alternative bag-of-words approach to CountVectorizer is a Term Frequency - Inverse Document Frequency (TF-IDF) representation.\n",
    "\n",
    "TF-IDF uses the product of two intermediate values, the **Term Frequency** and **Inverse Document Frequency**.\n",
    "\n",
    "- **Term Frequency** is equivalent to CountVectorizer features, just the number of times a word appears in the document (i.e. count).\n",
    "\n",
    "- **Document Frequency** is the percentage of documents that a particular word appears in. \n",
    "\n",
    "For example, “the” would be 100% while “Syria” is much lower.  \n",
    "\n",
    "Inverse Document Frequency is just 1/Document Frequency.\n"
   ]
  },
  {
   "cell_type": "code",
   "execution_count": 38,
   "metadata": {
    "collapsed": false
   },
   "outputs": [
    {
     "name": "stdout",
     "output_type": "stream",
     "text": [
      "Feature names: \n",
      "[u'00', u'000', u'000f', u'007', u'01', u'021', u'024', u'04', u'09', u'0db', u'10', u'100', u'100m', u'100th', u'101', u'106', u'11', u'110', u'1116', u'117', u'11th', u'12', u'120', u'1258', u'1271771011252', u'128', u'129', u'13', u'130th', u'132', u'14', u'144190', u'1460', u'149', u'14th', u'15', u'150', u'150lb', u'1549', u'155', u'1581', u'16', u'160', u'163', u'1644', u'16748703', u'16gb', u'17', u'170', u'1785', u'17a', u'18', u'180', u'1830s', u'18in', u'19', u'1908', u'1920s', u'1940s', u'1944', u'1948', u'1949', u'1950', u'1950s', u'1954', u'1960', u'1960s', u'1963', u'1969', u'1970', u'1970s', u'1972', u'1977', u'198', u'1985', u'1990', u'1994', u'1995', u'1996', u'1998', u'1999', u'19th', u'1st', u'1w', u'20', u'200', u'2000', u'2000s', u'2002', u'2003', u'2005', u'2006', u'2007', u'2008', u'2009', u'2009s', u'2010', u'2011', u'20110131102815', u'2012', u'2013', u'2017', u'2020', u'2030', u'206', u'2068', u'208mph', u'209', u'20th', u'21', u'21453248', u'22', u'222', u'22nd', u'23', u'230m', u'233', u'238', u'239', u'24', u'24th', u'25', u'26', u'269', u'26th', u'27', u'272', u'28', u'29', u'2a', u'2goplease', u'2nd', u'2to5', u'30', u'300', u'300lbs', u'30aeats', u'30mins', u'31', u'316', u'32', u'320', u'33', u'333', u'34', u'35', u'36', u'360', u'363', u'365', u'36m', u'36th', u'37390', u'37b', u'38', u'387', u'39', u'39pm', u'3a', u'3d', u'40', u'400', u'401', u'40s', u'40th', u'41', u'43', u'449', u'45', u'453', u'46', u'462', u'466', u'49', u'499', u'49ers', u'4chan', u'4ft', u'4g', u'4s', u'4th', u'50', u'500', u'509', u'50most', u'51', u'52', u'5455', u'55', u'580', u'5min', u'5pm', u'60', u'600', u'604335', u'60s', u'63', u'65', u'65mpg', u'67', u'680', u'69', u'6jokes', u'6th', u'70', u'700', u'70s', u'71', u'7165', u'742', u'75', u'7555', u'75th', u'77', u'774', u'78', u'80', u'800', u'80beats', u'80s', u'81', u'82', u'8211', u'8212', u'8216', u'8217', u'8220', u'8221', u'8230', u'823619', u'84', u'86', u'860', u'864', u'8750', u'877', u'8tracks', u'90', u'911', u'92', u'9240367', u'93', u'94', u'95', u'97', u'98', u'9906', u'9gag', u'9humor', u'9kik', u'9mm', u'9news', u'a1', u'aaron', u'aarp', u'abandoned', u'abashiri', u'abbey', u'abc', u'abcnews', u'abcs', u'abdominal', u'abercrombie', u'ability', u'aboobaker', u'abrams', u'abs', u'absent', u'absolute', u'absolutely', u'absurd', u'abuelo', u'abuse', u'abyss', u'ac', u'academic', u'academichic', u'academy', u'acceptable', u'accepts', u'access', u'accessories', u'accessorize', u'accessory', u'accident', u'accidental', u'accidentally', u'accidents', u'accompanies', u'accomplished', u'according', u'account', u'accounting', u'accounts', u'accuracy', u'accurate', u'accused', u'ace', u'aced', u'achieve', u'achievement', u'achieving', u'acid', u'acidic', u'acidity', u'acme', u'acne', u'acorn', u'acoustics', u'acquired', u'acra', u'acrobat', u'act', u'acting', u'action', u'activation', u'activeion', u'actives', u'activity', u'actresses', u'acts', u'actual', u'actually', u'acuka', u'acura', u'ad', u'adam', u'adams', u'adaptable', u'adaptiv', u'adbusters', u'add', u'addicted', u'addiction', u'addictions', u'addicts', u'adding', u'additive', u'additives', u'address', u'addressing', u'adds', u'adhd', u'adi', u'adidas', u'adipower', u'adjustable', u'admission', u'admits', u'adorable', u'adore', u'ads', u'adult', u'adults', u'advanced', u'advancements', u'advantage', u'advantages', u'adventure', u'adventures', u'advertising', u'advice', u'advises', u'aerobics', u'aesthetics', u'affair', u'affairs', u'affect', u'affects', u'afford', u'affordable', u'afghan', u'afghanistan', u'afraid', u'africa', u'african', u'aftenposten', u'afternoon', u'age', u'aged', u'ageless', u'aggie', u'aggressive', u'aging', u'aglio', u'ago', u'agraphia', u'aguera', u'ah4fb2cb1', u'ahead', u'ahi', u'ahmed', u'aht', u'ai', u'aid', u'aiding', u'aids', u'ailments', u'aiming', u'ain', u'aioli', u'aiping', u'air', u'airbag', u'aircraft', u'airless', u'airline', u'airport', u'airports', u'airwave', u'airways', u'aisle', u'ajc', u'aje', u'aji', u'ajillo', u'ajvar', u'aka', u'akerman', u'akin', u'akrans', u'al', u'alabama', u'alarm', u'albanian', u'albert', u'albino', u'album', u'alcohol', u'alcoholic', u'alcoholics', u'aldo', u'ale', u'aledronate', u'alert', u'alert1', u'alertness', u'alessandra', u'alex', u'alexa', u'alexander', u'alexandra', u'alfajores', u'alfred', u'alfredo', u'algae', u'algal', u'algorithms', u'ali', u'alice', u'alices', u'alimento', u'alison', u'alistair', u'alive', u'alkaline', u'alkalinity', u'alla', u'allergic', u'allergieausl\\xf6ser', u'allergies', u'allergy', u'alligator', u'allison', u'allowed', u'allrecipes', u'alma', u'almond', u'almonds', u'aloe', u'alternatibo', u'alternative', u'alternatives', u'alton', u'alyssa', u'alzheimer', u'alzheimers', u'amanda', u'amano', u'amaretto', u'amarillo', u'amateur', u'amazed', u'amazing', u'amazingly', u'amazon', u'ambassador', u'amber', u'ambroisie', u'ambrosia', u'ambrosio', u'ambushes', u'amen', u'america', u'american', u'americans', u'americas', u'amid', u'amigo', u'amish', u'amo', u'amounts', u'amp', u'amplifi', u'amputee', u'amusement', u'amusing', u'amy', u'amybites', u'ana', u'analogue', u'analysis', u'analyze', u'ananas', u'anasayfa', u'anatidaephobia', u'anatomy', u'anchors', u'ancient', u'anderson', u'andouille', u'andpop', u'andrew', u'android', u'androidtechcrunch', u'andy', u'angel', u'angela', u'angeles', u'angieriver', u'angle', u'angriest', u'angry', u'animal', u'animals', u'animated', u'animation', u'animatronic', u'anime', u'aniston', u'ann', u'anna', u'anne', u'annemmutfakta', u'annes', u'annette', u'anni', u'annie', u'anniversaries', u'anniversary', u'announce', u'announced', u'announcer', u'announcers', u'announces', u'annoying', u'annual', u'anonymous', u'anorak', u'ansah', u'answer', u'answers', u'antarctica', u'anthem', u'anthony', u'anthropologie', u'anti', u'anticipated', u'antioxidants', u'antoinette', u'antonio', u'anxiety', u'anymore', u'ao', u'aol', u'apa', u'apac', u'apart', u'apartment', u'apc', u'ape', u'aperture', u'aphrodisiacs', u'api', u'aplasia', u'apocalypse', u'apocalypses', u'apocalyptic', u'apollo', u'apologize', u'apology', u'apos', u'apostrophes', u'app', u'apparel', u'apparent', u'appear', u'appearances', u'appears', u'appetite', u'appetizer', u'appetizers', u'apple', u'apples', u'applesauce', u'appleseed', u'appliances', u'applications', u'applied', u'apply', u'applying', u'appreciation', u'approach', u'approval', u'approved', u'apps', u'apps4rent', u'app\\xe9tit', u'april', u'aprons', u'aquabacon', u'aquaman', u'aquatics', u'aqueduct', u'arancini', u'arapahoe', u'arbys', u'arcas', u'arch', u'archer', u'architecture', u'archive', u'archives', u'arduino', u'aren', u'arena', u'argentina', u'argh', u'aria', u'ario', u'arizona', u'arkansas', u'arm', u'armenian', u'armless', u'armor', u'armored', u'armory', u'armpit', u'arms', u'army', u'arnaud', u'arran', u'arrange', u'arrested', u'arrived', u'arrives', u'arrows', u'arroyo', u'arroz', u'ars', u'arsenal', u'art', u'arthritis', u'arthur', u'artichoke', u'artichokes', u'article', u'articles', u'artisan', u'artist', u'artists', u'arts', u'artworks', u'arugula', u'ascii', u'asheville', u'ashley', u'asiago', u'asiajam', u'asian', u'asimo', u'ask', u'asked', u'asking', u'askmen', u'asks', u'askthetrainer', u'asleep', u'asos', u'asparagus', u'aspartame', u'aspire', u'aspirin', u'ass', u'assault', u'assess', u'assistant', u'associated', u'association', u'assumption', u'asthma', u'astonishing', u'astronutrition', u'astros', u'asus', u'atar', u'ate', u'atelier', u'atheist', u'athlete', u'athletes', u'athletics', u'atlanta', u'atlantic', u'atlantis', u'atlas', u'atleast', u'atms', u'atom', u'atreidex', u'attack', u'attacking', u'attacks', u'attempt', u'attempts', u'attention', u'attitude', u'attorneys', u'attract', u'attracts', u'au', u'auburn', u'auckland', u'audio', u'audrey', u'augmentation', u'augmented', u'august', u'aunt', u'auntie', u'aurora', u'aus', u'auschwitz', u'austin', u'australia', u'australian', u'authentic', u'authoritarianism', u'authorities', u'authority', u'autism', u'auto', u'autoblog', u'automatic', u'automatically', u'automation', u'automobiles', u'autopia', u'autos', u'autotuned', u'autrey', u'autsch', u'autumn', u'aux', u'ava', u'available', u'avalanche', u'avatar', u'avengers', u'avenue', u'average', u'averted', u'avig', u'avocado', u'avocados', u'avoid', u'avoiding', u'avril', u'aw', u'awaited', u'awake', u'award', u'awards', u'away', u'awesome', u'awesomely', u'awesomer', u'awessome', u'awkward', u'ayam', u'azmina', u'a\\u011fac\\u0131', u'b3ta', u'b7', u'ba', u'baba', u'babe', u'babeland', u'babes', u'babies', u'baby', u'babylon', u'bac', u'backflip', u'backflips', u'backflop', u'backlash', u'backup', u'backward', u'backyard', u'bacon', u'baconator', u'bacone', u'bacteria', u'bad', u'bada', u'badass', u'badmington', u'badminton', u'bae', u'baehr', u'bag', u'bagel', u'bagels', u'bags', u'bailey', u'baileys', u'bailout', u'bain', u'bait', u'bake', u'baked', u'baker', u'bakerella', u'bakergirl', u'bakers', u'bakersfield', u'bakery', u'bakes', u'baketogether', u'bakeware', u'baking', u'bakingblonde', u'baklava', u'bakshi', u'balance', u'balanced', u'balancing', u'baldovino', u'ball', u'ballad', u'ballet', u'ballgowns', u'balloon', u'balloons', u'balls', u'balm', u'balsamic', u'baltimore', u'ban', u'banana', u'bananalious', u'bananas', u'band', u'bandit', u'bands', u'bane', u'bang', u'banged', u'bank', u'banking', u'bankrupt', u'banned', u'banoffee', u'bans', u'banter', u'baptist', u'bar', u'barack', u'barani', u'barbcecue', u'barbecue', u'barbecued', u'barbecuing', u'barber', u'barbie', u'barefoot', u'bariatric', u'bark', u'barkley', u'barley', u'barney', u'barrett', u'barros', u'barry', u'bars', u'bartending', u'base', u'baseball', u'based', u'bases', u'bash', u'bashes', u'bashful', u'basic', u'basil', u'basin', u'basket', u'basketball', u'baskets', u'basta', u'bastanchury', u'bataa', u'bath', u'bathing', u'bathroom', u'bathtub', u'batman', u'batter', u'battered', u'batteries', u'battery', u'battle', u'battling', u'baumgartner', u'baur', u'bavarian', u'bax', u'bay', u'bazaar', u'bazooka', u'bb', u'bbc', u'bbq', u'bcd', u'bcs', u'beach', u'beachwear', u'beachwood', u'beaker', u'beams', u'bean', u'beans', u'beantown', u'bear', u'beard', u'bears', u'beast', u'beat', u'beaten', u'beatings', u'beatriz', u'beats', u'beautiful', u'beauty', u'beautyflash', u'becky', u'bed', u'bedroom', u'bedtime', u'bee', u'beef', u'beefy', u'beer', u'bees', u'beforeplay', u'befriend', u'beg', u'beginner', u'beginners', u'beginning', u'beginnings', u'behance', u'behar', u'behavior', u'beheading', u'beignets', u'beijing', u'belfasttelegraph', u'belgian', u'beliefs', u'believe', u'believed', u'bell', u'bella', u'bellalimento', u'belle', u'belleville', u'belly', u'belmont', u'belong', u'belongs', u'belt', u'bel\\xe1t\\xe1s', u'bem', u'ben', u'benefits', u'benetton', u'bengali', u'bengals', u'benitez', u'benne', u'benny', u'bent', u'bento', u'benz', u'berlin', u'berman', u'berries', u'berry', u'best', u'bet', u'beta', u'betaworks', u'bettendorf', u'better', u'betterbraces', u'betting', u'betty', u'bettyconfidential', u'bev', u'beverly', u'beware', u'bewitchin', u'beyonce', u'bfeedme', u'bhel', u'bhg', u'bhut', u'biased', u'bible', u'biblical', u'bicycle', u'bid', u'bidder', u'bide', u'big', u'bigfatcook', u'bigger', u'biggest', u'bike', u'biker', u'bikeradar', u'bikers', u'bikini', u'bilis', u'billabong', u'billboard', u'billfold', u'billion', u'billions', u'bills', u'billy', u'bin', u'binary', u'binaural', u'bing', u'bio', u'biochemist', u'bioidentical', u'bionic', u'bioshock', u'bird', u'birke', u'birth', u'birthday', u'birthdays', u'biscayne', u'biscotti', u'biscuit', u'biscuits', u'bison', u'bisque', u'bistro', u'bit', u'bite', u'bites', u'bits', u'bitsy', u'bitten', u'bitter', u'bittersweets', u'bitty', u'biz', u'bizarre', u'blaaderen', u'black', u'blackberry', u'blackouts', u'blacksheep', u'bladder', u'blah', u'blahnik', u'blahs', u'blaise', u'blame', u'blanq', u'blas', u'blasting', u'blastr', u'blasts', u'bldg', u'bleacher', u'bleeding', u'bleeds', u'blemish', u'blend', u'blended', u'blender', u'blends', u'blessed', u'blessings', u'bleu', u'blind', u'blindness', u'blindsidedly', u'bliss', u'blisstree', u'blitzing', u'blizzard', u'bloat', u'blob', u'block', u'blocks', u'blog', u'blogazine', u'blogger', u'bloggers', u'blogiversary', u'bloglovin', u'blognator', u'blogpost', u'blogs', u'blonde', u'blondes', u'blondie', u'blondies', u'blood', u'bloodied', u'bloodletting', u'bloody', u'bloom', u'bloomin', u'blooming', u'blouses', u'blow', u'blowing', u'blown', u'blowouts', u'blows', u'blt', u'blucigs', u'blue', u'blueberries', u'blueberry', u'blueprint', u'bluff', u'blurs', u'bly', u'bmx', u'bo', u'board', u'boards', u'boardshorts', u'boardwalk', u'boastful', u'boat', u'boats', u'bob', u'bobbing', u'bobrov', u'bobs', u'bodies', u'bods', u'body', u'bodypaint', u'bodyrock', u'bodysuits', u'boeing', u'boggling', u'bohemian', u'boho', u'boh\\xe8me', u'boiled', u'boing', u'bok', u'bold', u'bolognaise', u'bolognese', u'bolt', u'bolte', u'bolts', u'bomb', u'bombs', u'bon', u'bonanza', u'bonappetit', u'bond', u'bone', u'bones', u'bonjour', u'bons', u'boogie', u'book', u'bookbook', u'booking', u'booklet', u'bookmark', u'books', u'boom', u'booooooom', u'boost', u'boosters', u'boosting', u'boosts', u'boot', u'booth', u'boots', u'booze', u'boozled', u'boozy', u'border', u'bored', u'borek', u'boring', u'borissov', u'born', u'borowitz', u'boss', u'boston', u'boticca', u'bottello', u'bottle', u'bottled', u'bottles', u'bottoms', u'bouley', u'bounce', u'bouncer', u'bourbon', u'bourdain', u'bourguignon', u'boutique', u'bow', u'bowie', u'bowl', u'bowling', u'bowls', u'bowtie', u'box', u'boxers', u'boxes', u'boy', u'boyfriend', u'boyle', u'boys', u'boysjoys', u'bp', u'bpm', u'bra', u'bracelet', u'bracelets', u'brad', u'brads', u'braedens', u'braid', u'braids', u'brain', u'brainer', u'brainput', u'brains', u'braised', u'brand', u'branded', u'brandon', u'brands', u'branislav', u'brassiere', u'bravest', u'bravetart', u'brawl', u'brazil', u'brazilian', u'breaches', u'bread', u'breadmaker', u'breads', u'breadsticks', u'break', u'breakage', u'breakdancing', u'breakdown', u'breakfast', u'breaking', u'breakout', u'breaks', u'breakthrough', u'breast', u'breasts', u'breath', u'breathe', u'breathing', u'bree', u'brees', u'brenden', u'breslin', u'breslow', u'brett', u'brewery', u'brewing', u'brian', u'brick', u'brickle', u'bricktops', u'brickyard', u'bridal', u'bride', u'bridesmaid', u'bridesmaids', u'bridge', u'brie', u'brien', u'bright', u'brightest', u'brilliant', u'brimming', u'brine', u'bring', u'brings', u'brioche', u'brisbane', u'brisket', u'brit', u'britain', u'british', u'brizio', u'bro', u'broadcast', u'broadcasting', u'broccoli', u'broccolini', u'broke', u'brokeass', u'broken', u'brokers', u'bromista', u'bronze', u'brooke', u'brooklyn', u'brooms', u'broth', u'brought', u'broward', u'brown', u'browned', u'brownie', u'brownies', u'browns', u'brows', u'browse', u'browser', u'browsing', u'bruce', u'brudenell', u'bruins', u'brulee', u'bruleed', u'brunch', u'brunches', u'brunettes', u'bruno', u'bruschetta', u'brushing', u'brussels', u'brutal', u'brutality', u'bryant', u'br\\xfbl\\xe9e', u'bubba', u'bubbe', u'buck', u'buckeye', u'buckingham', u'buckle', u'bucks', u'buco', u'bucogo', u'budget', u'bueno', u'buffalo', u'buffet', u'bug', u'bugs', u'build', u'building', u'buildings', u'builds', u'buildup', u'built', u'bulb', u'bulgogi', u'bull', u'bullet', u'bullies', u'bulls', u'bullying', u'bump', u'bun', u'bundles', u'bundt', u'bunny', u'buns', u'burger', u'burgers', u'burgh', u'burghilicious', u'burglar', u'burgundy', u'burkina', u'burlap', u'burmese', u'burn', u'burned', u'burners', u'burning', u'burnout', u'burns', u'burnt', u'burrell', u'burritos', u'burton', u'bus', u'bush', u'business', u'businessman', u'businessshrink', u'businessweek', u'bust', u'busted', u'bustedcoverage', u'busting', u'busts', u'busy', u'butchering', u'butler', u'butt', u'butter', u'butterbeer', u'buttercream', u'buttered', u'butterfinger', u'buttermilk', u'butternut', u'butterscotch', u'buttery', u'button', u'buttons', u'butts', u'buttun', u'buy', u'buying', u'buzz', u'buzztracker', u'bye', u'byliner', u'byte', u'b\\xe9chamel', u'ca', u'cable', u'cables', u'cabrinha', u'cacao', u'cache', u'caesar', u'cafe', u'cafemom', u'cafepress', u'cafeteria', u'caffeine', u'cage', u'caitlin', u'cajeta', u'cajun', u'cake', u'cakes', u'cal', u'calculator', u'calculus', u'caldwell', u'calendar', u'calf', u'california', u'called', u'calls', u'calm', u'caloric', u'calorie', u'calorieconnect', u'calories', u'calzone', u'calzones', u'cam', u'cambodia', u'cambodian', u'camel', u'camera', u'camerafilmroll', u'cameras', u'cameron', u'camilla', u'camo', u'camp', u'campaign', u'campaigner', u'campervan', u'campfire', u'camping', u'campus', u'canada', u'canadian', u'canarygirl', u'canby', u'cancer', u'candid', u'candied', u'candies', u'candle', u'candy', u'cane', u'cannabis', u'canned', u'canning', u'cannula', u'canoe', u'canseco', u'canuck', u'canucks', u'canyon', u'cap', u'capacitor', u'capacity', u'cape', u'cappuccino', u'caprese', u'caps', u'capsule', u'captain', u'caption', u'captivating', u'capture', u'captures', u'car', u'caramel', u'caramelised', u'caramelized', u'caramels', u'carano', u'carat', u'caravan', u'carb', u'carbomb', u'carbon', u'carbonara', u'carbonated', u'carbonnade', u'card', u'cardinals', u'cardio', u'cardiology', u'cards', u'care', u'carebettendorf', u'career', u'careers', u'careful', u'carhartt', u'caricatures', u'carlin', u'carly', u'carmelo', u'carnation', u'carnitas', u'carolina', u'carpe', u'carpet', u'carr', u'carrier', u'carries', u'carroll', u'carrot', u'carrots', u'carrozza', u'cars', u'cart', u'cartel', u'carter', u'cartons', u'cartoon', u'cartooning', u'cartoonist', u'cartoons', u'cartridge', u'carve', u'carving', u'cascade', u'case', u'cases', u'cash', u'cashew', u'casino', u'casserole', u'casseroles', u'cast', u'casting', u'castle', u'casual', u'cat', u'catalyst', u'catarina', u'catastrophe', u'catch', u'catching', u'cate', u'categorical', u'categories', u'category', u'cathedrals', u'catherine', u'cats', u'caught', u'cauliflower', u'cause', u'caused', u'causes', u'causing', u'cave', u'caves', u'caviar', u'cayenne', u'cbias', u'cbs', u'cdc', u'cdkitchen', u'ceasar', u'cec20', u'cedar', u'cee', u'celebrate', u'celebrates', u'celebrating', u'celebration', u'celebrations', u'celebrities', u'celebrity', u'cell', u'cellar', u'cellphone', u'cells', u'celtics', u'cent', u'center', u'centers', u'central', u'centsational', u'ceo', u'cereal', u'cereals', u'ceremony', u'cereusart', u'certain', u'certified', u'cervical', u'ces', u'cessation', u'cetera', u'ceviche', u'cfb', u'ch', u'chai', u'chained', u'chains', u'chair', u'chakra', u'chakras', u'chalayan', u'chalking', u'challenge', u'challenges', u'chambre', u'chamomile', u'champ', u'champagne', u'champion', u'champions', u'championship', u'champs', u'chan', u'chance', u'chanel', u'change', u'changed', u'changes', u'changing', u'channel', u'chantal', u'chaos', u'characteristics', u'characters', u'charcoal', u'charge', u'charged', u'chargers', u'charging', u'chargrilled', u'charismatic', u'charlie', u'charlottesville', u'charm', u'charmeddesign1012', u'charming', u'charms', u'chart', u'charts', u'chat', u'chatting', u'cheadle', u'cheap', u'cheapcooking', u'cheaper', u'cheapest', u'cheat', u'cheats', u'check', u'checkerboard', u'checklist', u'cheddar', u'cheeky', u'cheerios', u'cheerleader', u'cheerleaders', u'cheerleading', u'cheese', u'cheeseburger', u'cheeseburgers', u'cheesecake', u'cheesecakes', u'cheesemaking', u'cheeses', u'cheesiness', u'cheesy', u'cheetah', u'cheezeburger', u'cheezy', u'chef', u'chefs', u'chelsea', u'chemicals', u'chernobyl', u'cherries', u'cherry', u'chess', u'chewing', u'chewy', u'chex', u'chez', u'chfa', u'chia', u'chianti', u'chiarello', u'chic', u'chicago', u'chick', u'chicken', u'chickens', u'chickpea', u'chickpeas', u'chicks', u'chief', u'chiffon', u'chihuahua', u'child', u'childcare', u'childhood', u'children', u'chile', u'chilean', u'chiles', u'chili', u'chilled', u'chimichangas', u'chimichurri', u'chiminazzo', u'chimp', u'china', u'chinatown', u'chinese', u'chip', u'chipmunk', u'chipotle', u'chippeanut', u'chipped', u'chips', u'chiropractic', u'chit', u'chloe', u'choco', u'chocoholics', u'chocolat', u'chocolate', u'chocolateskulls', u'chocolatesuze', u'chocolatey', u'choice', u'choices', u'choir', u'choker', u'cholesterol', u'choose', u'choosing', u'chop', u'chopper', u'chopsticks', u'chore', u'chores', u'chorizo', u'chow', u'chowder', u'choy', u'chris', u'chrissy', u'christina', u'christine', u'christmas', u'christo', u'christopher', u'christy', u'chrome', u'chronic', u'chronicles', u'chronophage', u'chubby', u'chuck', u'chumble', u'chung', u'chuniece', u'chunk', u'chunky', u'church', u'churn', u'churros', u'chutney', u'cia', u'ciabatta', u'cialis', u'cider', u'cigarette', u'cigarettes', u'cigna', u'cigs', u'cilantro', u'cinnabon', u'cinnamon', u'cinnastix', u'cintia', u'circle', u'circuit', u'circuitry', u'circus', u'cities', u'citron', u'citrus', u'city', u'citysafariline', u'civilized', u'ck', u'ckicquot', u'claim', u'claims', u'clair', u'clarence', u'clarity', u'clash', u'class', u'classes', u'classic', u'classifieds', u'classroom', u'classy', u'claymation', u'clayton', u'clean', u'cleaners', u'cleaning', u'cleans', u'cleanse', u'cleansers', u'clear', u'clearing', u'clever', u'click', u'clicker', u'clicking', u'clifton', u'clikr', u'climate', u'climbing', u'clin', u'clinical', u'clinicaltrials', u'clinics', u'clinton', u'clio', u'clip', u'clips', u'cloak', u'clock', u'clocks', u'clockwork', u'clockworkmod', u'clone', u'clones', u'close', u'closer', u'closet', u'closing', u'clothes', u'clothing', u'cloud', u'cloudbreak', u'club', u'clueless', u'clues', u'clumsy', u'cluster', u'clusters', u'clutch', u'clutter', u'cnbc', u'cnn', u'cns', u'cnsnews', u'co2', u'coach', u'coachella', u'coaches', u'coal', u'coast', u'coastal', u'coaster', u'coastlines', u'coat', u'coated', u'coating', u'cobb', u'cobbler', u'coca', u'cocada', u'cocktail', u'cocktails', u'cockups', u'coco', u'cocoa', u'coconut', u'cocoon', u'code', u'codebox', u'codes', u'codfish', u'coed', u'coelho', u'coffee', u'cogito', u'cognition', u'cognitive', u'coincidences', u'coins', u'coke', u'cola', u'colbow', u'cold', u'coldflusinus', u'colds', u'cole', u'coleslaw', u'collab', u'collaboration', u'collapse', u'collar', u'collect', u'collected', u'collectibles', u'collection', u'collections', u'collective', u'collector', u'college', u'collegehumor', u'colleges', u'collide', u'collins', u'collisions', u'colognes', u'colombia', u'colon', u'colonel', u'color', u'colorado', u'colored', u'colors', u'colorways', u'colossal', u'colour', u'columbia', u'columbus', u'com', u'coma', u'comb', u'combat', u'combination', u'combinations', u'combine', u'combines', u'combo', u'combos', u'come', u'comeback', u'comebacks', u'comedy', u'comes', u'comfort', u'comfortable', u'comforting', u'comic', u'comically', u'comics', u'coming', u'command', u'commando', u'comment', u'commentary', u'commentators', u'commerce', u'commercial', u'commercials', u'commission', u'commits', u'common', u'communicate', u'communities', u'community', u'companies', u'company', u'compare', u'compares', u'comparison', u'compatible', u'compensation', u'competes', u'competition', u'competitions', u'competitor', u'compil', u'compilation', u'complain', u'complainers', u'complains', u'complete', u'completely', u'complex', u'complexion', u'complicated', u'compost', u'compound', u'comprehensive', u'computer', u'computers', u'computerworld', u'computing', u'conan', u'concealing', u'concentrate', u'concept', u'concepts', u'concern', u'concerned', u'concerns', u'concert', u'conclusion', u'concrete', u'condom', u'condor', u'cond\\xe9', u'cone', u'confection', u'confections', u'conference', u'confession', u'confessions', u'confidence', u'confident', u'confirms', u'confiscated', u'confronts', u'confused', u'confusion', u'congestion', u'congress', u'connect', u'connecticut', u'connection', u'conner', u'conrad', u'consciousness', u'consequences', u'consider', u'console', u'conspires', u'constitutes', u'construction', u'consum', u'consume', u'consumer', u'consuming', u'consumption', u'contact', u'contagion', u'contain', u'containers', u'contains', u'contender', u'content', u'contents', u'contest', u'contests', u'continental', u'continue', u'continues', u'continuous', u'contraceptive', u'contractions', u'contracts', u'contribute', u'control', u'controlled', u'controls', u'controversial', u'convenient', u'convergence', u'conversation', u'converse', u'convince', u'convincing', u'cook', u'cookalong', u'cookbook', u'cookbooks', u'cooked', u'cooker', u'cookers', u'cookie', u'cookieman', u'cookiepedia', u'cookies', u'cookin', u'cooking', u'cooks', u'cookskills', u'cookthink', u'cooktop', u'cool', u'cooler', u'coolest', u'cooling', u'coolio', u'coolpc', u'cooperating', u'coordinated', u'cop', u'coppelia', u'copy', u'copycat', u'copykat', u'copyright', u'corcholat', u'cord', u'cordon', u'core', u'corgi', u'coriander', u'corn', u'cornbread', u'corned', u'cornell', u'corner', u'corners', u'cornish', u'cornmeal', u'corporate', u'corporation', u'corporations', u'corpus', u'correct', u'correcting', u'corset', u'corsets', u'corvette', u'cory', u'cosblog', u'cosby', u'cosmetics', u'cosmo', u'cost', u'costs', u'costume', u'costumes', u'cotija', u'cotta', u'cottage', u'cotton', u'cottonpurr', u'couch', u'cough', u'coughing', u'count', u'counter', u'counteract', u'countries', u'country', u'counts', u'county', u'couple', u'couples', u'coupon', u'courage', u'courant', u'course', u'courses', u'courseware', u'court', u'courtney', u'courts', u'couscous', u'couture', u'cover', u'coverage', u'covered', u'covers', u'coveted', u'cow', u'cowboy', u'cowboys', u'cozy', u'crab', u'crabby', u'crabmeat', u'crack', u'cracked', u'crackers', u'cracking', u'cracks', u'craft', u'crafting', u'craftster', u'craftzine', u'craig', u'craiglist', u'craigslist', u'cranberries', u'cranberry', u'cranium', u'crash', u'crashes', u'crave', u'craving', u'cravings', u'crayfish', u'craziest', u'crazy', u'cream', u'creamsicle', u'creamy', u'create', u'created', u'creates', u'creating', u'creation', u'creations', u'creative', u'creatively', u'creativity', u'creators', u'creek', u'creepy', u'crema', u'cremation', u'creme', u'crepe', u'crepes', u'crescent', u'crew', u'crews', u'crime', u'crimesider', u'criminals', u'cringing', u'crinkle', u'cripple', u'crisis', u'crisp', u'crisps', u'crispy', u'cristiano', u'cristos', u'critic', u'critical', u'criticised', u'critics', u'crock', u'crocker', u'crockpot', u'crohn', u'crohns', u'croissants', u'cronkite', u'crook', u'crooked', u'crooks', u'crops', u'cross', u'crossbow', u'crostini', u'croutons', u'crowd', u'crowds', u'crowdsourcing', u'crownies', u'cruel', u'cruftbox', u'crumb', u'crumble', u'crumblies', u'crumbs', u'crumpets', u'crunch', u'crunches', u'crunchy', u'crushing', u'crust', u'crusted', u'crustless', u'crying', u'crystal', u'cr\\xe8me', u'cr\\xeape', u'cr\\xeaperie', u'cr\\xeapes', u'cs', u'cslacker', u'csmonitor', u'csr', u'ctn', u'cuando', u'cuba', u'cuban', u'cube', u'cubicle', u'cubs', u'cucamelons', u'cucina', u'cucumber', u'cues', u'cuff', u'cuisine', u'cuisines', u'culinary', u'culprit', u'cult', u'cultural', u'culture', u'culturejammer', u'cup', u'cupcake', u'cupcakes', u'cups', u'curbly', u'curd', u'cure', u'cures', u'curiosities', u'curl', u'curling', u'current', u'currents', u'curried', u'curry', u'curse', u'cursor', u'curtis', u'curves', u'curvy', u'cushions', u'custard', u'custom', u'customer', u'customers', u'cut', u'cute', u'cutie', u'cutout', u'cuts', u'cuts4beiber', u'cutters', u'cutting', u'cyanide', u'cybertecture', u'cyberterror', u'cycling', u'cyclists', u'cynthia', u'c\\u01a1m', u'd2g', u'dad', u'daddies', u'daddy', u'dade', u'dagbladet', u'dagorret', u'dahlias', u'daily', u'dailycognition', u'dailyfinance', u'dailymotion', u'dailystab', u'dairy', u'daisey', u'daisy', u'dallas', u'damage', u'damaged', u'damaging', u'damaris', u'damien', u'damn', u'damon', u'dan', u'dance', u'dancer', u'dancing', u'dandy', u'danger', u'dangerous', u'dangerously', u'dangers', u'daniella', u'danish', u'dannielle', u'danous', u'dans', u'danse', u'darien', u'daring', u'dark', u'darkest', u'darkmonkey', u'darling', u'darpa', u'darren', u'darth', u'das', u'dash', u'dashboard', u'dashing', u'dat', u'data', u'database', u'date', u'dates', u'dating', u'daughter', u'daughters', u'daugther', u'david', u'davis', u'dawn', u'day', u'days', u'dayton', u'dazed', u'db', u'dc', u'ddgdaily', u'dead', u'deadliest', u'deadly', u'deadspin', u'deal', u'dealer', u'dealers', u'dealin', u'dealing', u'deals', u'dean', u'dear', u'death', u'deathly', u'deaths', u'debate', u'debatten', u'debbie', u'deborah', u'debris', u'debt', u'debunked', u'debut', u'debuts', u'decade', u'decadence', u'decadent', u'decades', u'decay', u'december', u'decepticon', u'deceptively', u'decided', u'decision', u'decisions', u'decker', u'declared', u'declutter', u'decode', u'deconstructed', u'decor', u'decorate', u'decorating', u'decoration', u'decorations', u'decorator', u'decoy', u'decrease', u'dedicate', u'dedicated', u'deed', u'deejay', u'deemed', u'deen', u'deep', u'deepest', u'defect', u'defend', u'defender', u'defends', u'defense', u'deficiency', u'definitive', u'defuse', u'degree', u'degrees', u'delaurentiis', u'delay', u'delectable', u'delectables', u'delete', u'delicious', u'deliciously', u'delight', u'delighted', u'delights', u'delish', u'delishhh', u'deliver', u'delivered', u'delivers', u'delivery', u'dell', u'delorean', u'delve', u'demand', u'demeter', u'demeulemeester', u'demo', u'democracy', u'demolition', u'demolitions', u'demos', u'demotivation', u'demotivational', u'demy', u'denied', u'denim', u'denise', u'dental', u'dente', u'denticles', u'dentist', u'dentists', u'denver', u'department', u'depended', u'depends', u'depict', u'depleted', u'deployed', u'deportivas', u'depression', u'deprived', u'depths', u'der', u'derby', u'derp', u'derrick', u'des', u'desecrates', u'design', u'designed', u'designer', u'designers', u'designing', u'designs', u'desilva', u'desk', u'desktop', u'despite', u'dessert', u'desserts', u'dessertstalking', u'destination', u'destinations', u'destitute', u'destroyed', u'destroying', u'destroys', u'destruct', u'details', u'detection', u'determine', u'detonator', u'detox', u'detoxing', u'detroit', u'deus', u'deutsche', u'develop', u'developed', u'developer', u'development', u'developments', u'develops', u'deviantart', u'device', u'devices', u'devil', u'deviled', u'devour', u'devours', u'dew', u'dewberry', u'dey', u'di', u'diabetes', u'diabetic', u'diabetics', u'diagnose', u'diagnosed', u'diagnoses', u'dialog', u'diamond', u'diamonds', u'dianasdesserts', u'diane', u'diaries', u'diary', u'dias', u'diavolo', u'dice', u'dick', u'dicker', u'dicqie', u'dictator', u'dictatorship', u'did', u'didn', u'didonato', u'die', u'died', u'diedruckereidsseldorf', u'diego', u'diem', u'dies', u'diesel', u'diet', u'diethood', u'dieting', u'dietmotion', u'diets', u'difference', u'differences', u'different', u'differently', u'digest', u'digestive', u'digg', u'digging', u'digi', u'digital', u'digits', u'dilbert', u'dillard', u'dilled', u'dimensional', u'dimitrana', u'dinda', u'dineila', u'diner', u'dining', u'dinner', u'dinners', u'dinnertool', u'dinosaurs', u'dior', u'dip', u'dipped', u'dipping', u'direct', u'direction', u'directional', u'directory', u'dirigible', u'dirt', u'dirty', u'dis', u'disabled', u'disaster', u'disasters', u'disc', u'disco', u'discover', u'discovered', u'discoveries', u'discovery', u'discretion', u'discrimi', u'discuss', u'discussion', u'disease', u'diseased', u'diseases', u'disguises', u'dish', u'dishes', u'dishin', u'disinfect', u'disk', u'disliek', u'disney', u'disneyland', u'disorder', u'disorders', u'disowned', u'displax', u'display', u'displays', u'disposable', u'dissipation', u'distance', u'distilled', u'distillery', u'distinguish', u'distribution', u'distributor', u'district', u'dita', u'ditchboarding', u'ditches', u'diva', u'dive', u'divertir', u'dives', u'dividends', u'divine', u'divinity', u'divulges', u'diy', u'diyjersey', u'diyruffled', u'diys', u'dizzy', u'dj', u'dk', u'dkny', u'dlitebox', u'dltk', u'dlyn', u'dn', u'dna', u'dock', u'docks', u'doctor', u'doctoring', u'doctors', u'documentaries', u'documentary', u'documents', u'dod', u'dodge', u'dodgeball', u'does', u'doesn', u'doesnt', u'dog', u'doghouse', u'dogs', u'doing', u'dok', u'dolce', u'doll', u'dollar', u'dollars', u'dolls', u'dolphins', u'domain', u'domains', u'domestic', u'domino', u'dominoes', u'don', u'donal', u'donated', u'donation', u'donda', u'donna', u'dont', u'donut', u'donuts', u'doof', u'doomed', u'doomsday', u'door', u'doorknob', u'dorie', u'dosage', u'doses', u'dot', u'double', u'douchebag', u'dough', u'doughnuts', u'downhill', u'download', u'downloaded', u'downloads', u'downtime', u'downton', u'downtown', u'downtownhost', u'doxies', u'dozen', u'dr', u'draft', u'drag', u'dragon', u'drain', u'drama', u'dramatic', u'drawings', u'drawn', u'draws', u'drdonnica', u'dread', u'dream', u'dreams', u'dreamt', u'dreamy', u'dreary', u'dress', u'dressed', u'dresses', u'dressing', u'drew', u'dried', u'drift', u'drill', u'drink', u'drinker', u'drinkers', u'drinking', u'drinks', u'drippings', u'drive', u'driven', u'driver', u'driverless', u'drivers', u'driving', u'drizzle', u'droll', u'drone', u'drones', u'drop', u'dropped', u'dropping', u'drops', u'drought', u'drowning', u'drpullen', u'druckerei', u'drug', u'drugged', u'drugs', u'drugstore', u'drummer', u'drummond', u'drunk', u'drunken', u'drunkenness', u'drunkest', u'drupal', u'dry', u'dryer', u'dr\\xe1mai', u'dslr', u'dsquared\\xb2', u'dsseldorf', u'dt', u'du', u'dubai', u'dublin', u'dubsism', u'duchesne', u'duchess', u'duck', u'duckface', u'ducreux', u'duct', u'dude', u'dudes', u'duhlicious', u'dulce', u'dullest', u'dumb', u'dumbest', u'dumbing', u'dump', u'dumpling', u'dumplings', u'dumps', u'dunk', u'dunks', u'duran', u'durian', u'durum', u'dust', u'dusted', u'dusty', u'dutch', u'duty', u'dvd', u'dvice', u'dwayne', u'dwell', u'dwellers', u'dyed', u'dyes', u'dying', u'dynamic', u'dynamite', u'dyslexic', u'e3', u'ea', u'eagle', u'ear', u'earhero', u'earl', u'earliest', u'early', u'earn', u'earned', u'earning', u'earns', u'earphones', u'earpieces', u'earplugs', u'ears', u'earth', u'earthquake', u'earwax', u'ease', u'eases', u'easier', u'easiest', u'east', u'easter', u'easy', u'eat', u'eaten', u'eater', u'eaters', u'eating', u'eaton', u'eats', u'ebanks', u'ebay', u'ebook', u'ecard', u'ecards', u'eckhart', u'eclair', u'eclectic', u'eclipse', u'eco', u'ecocool', u'economical', u'economics', u'economist', u'economy', u'ecopod', u'ecosalon', u'ecousable', u'ecreamery', u'ecstasy', u'ecurry', u'ed', u'edd', u'eddy', u'edge', u'edges', u'edible', u'edibles', u'edinburgh', u'edita', u'edition', u'editor', u'editors', u'edmund', u'edtech', u'educational', u'educativa', u'edwards', u'eels', u'eerie', u'effect', u'effective', u'effects', u'effervescence', u'efficiency', u'efficient', u'effort', u'efforts', u'eft', u'egg', u'egghead', u'eggnog', u'eggplant', u'eggrolls', u'eggs', u'egos', u'egypt', u'ehow', u'eiffel', u'einstein', u'ejected', u'ekonomik', u'el', u'elaborate', u'elastic', u'elbow', u'elderflower', u'elderly', u'elearners', u'electric', u'electrolux', u'electronic', u'electronics', u'elegantly', u'elementary', u'elen', u'elephant', u'eliaz', u'elie', u'eliminate', u'eliminates', u'ella', u'elle', u'ellen', u'ellevictoire', u'elliot', u'elmo', u'elnorte', u'elsa', u'eludes', u'elusive', u'elvis', u'email', u'embalm', u'embalming', u'embargo', u'embarrassing', u'embarrassment', u'embrace', u'embraced', u'embracing', u'embryo', u'emea', u'emergencies', u'emergency', u'emerging', u'emeril', u'emily', u'emma', u'emmys', u'emotions', u'empanadas', u'employee', u'employer', u'empowering', u'emptees', u'emulates', u'en', u'enamor', u'encase', u'enchanted', u'enchilada', u'enchiladas', u'end', u'endangered', u'endearing', u'endeavor', u'endings', u'endless', u'ends', u'enemies', u'energizing', u'energy', u'enforcement', u'eng', u'engadget', u'engine', u'engineer', u'engineering', u'engineers', u'engines', u'england', u'english', u'enhancement', u'enhancing', u'enjoy', u'enjoying', u'enlightening', u'enron', u'enslaves', u'enter', u'enterprise', u'enterprises', u'entertaining', u'entertainment', u'enthusiasts', u'entire', u'entirely', u'entrepreneur', u'environment', u'environmental', u'envisioning', u'epic', u'epicurious', u'epidemic', u'epigenetics', u'epilepsy', u'epine', u'episode', u'epoch', u'equal', u'equipment', u'equipped', u'equivalents', u'er', u'era', u'eradication', u'erasable', u'erase', u'eres', u'ergo', u'ergonomics', u'eric', u'erika', u'erin', u'erotic', u'error', u'escalators', u'escape', u'espana', u'espn', u'espresso', u'espys', u'essay', u'essential', u'essentials', u'est', u'estate', u'estenor', u'esti', u'esto', u'et', u'etch', u'ethan', u'etiquette', u'etsy', u'eur', u'euro', u'europe', u'european', u'eurosport', u'eurozone', u'eva', u'evan', u'eve', u'evelyne', u'evening', u'event', u'events', u'evernote', u'everrrr', u'everybody', u'everyday', u'everydayhealth', u'evident', u'evil', u'evo', u'evolution', u'evolutionary', u'ew', u'ex', u'exactly', u'exam', u'examine', u'example', u'examples', u'exams', u'excel', u'excellent', u'exchange', u'excited', u'exciting', u'exclusive', u'exclusively', u'excognito', u'excuses', u'executive', u'executives', u'exercise', u'exercises', u'exercising', u'exergaming', u'exibition', u'existed', u'existence', u'exit', u'exodus', u'exoskeleton', u'exotic', u'expand', u'expectancy', u'expected', u'expendable', u'expensive', u'experience', u'experienced', u'experiment', u'experimental', u'expert', u'experts', u'explain', u'explained', u'explaining', u'explains', u'explodes', u'exploratorium', u'exploratory', u'explore', u'explored', u'explorers', u'exploring', u'explosion', u'explosm', u'exporter', u'exposed', u'exposure', u'express', u'exquisite', u'extends', u'extension', u'extensions', u'extinguisher', u'extra', u'extract', u'extraction', u'extracts', u'extraordinary', u'extravagant', u'extravaganza', u'extreme', u'extremely', u'extremetech', u'eye', u'eyeball', u'eyebrows', u'eyed', u'eyeglasses', u'eyelashes', u'eyeliner', u'eyes', u'eyeshadow', u'eyesight', u'eyewear', u'ezra', u'f1', u'fab', u'fabfound', u'fabulous', u'face', u'facebook', u'facelift', u'faceoff', u'faceplants', u'faces', u'facial', u'facili', u'fact', u'factors', u'factory', u'facts', u'fad', u'fadem', u'fail', u'fails', u'failure', u'fair', u'faire', u'fairies', u'fairytale', u'faita', u'faith', u'fajita', u'fajitas', u'fake', u'faked', u'fakes', u'fall', u'fallin', u'falling', u'fallon', u'fallows', u'falls', u'false', u'families', u'family', u'famous', u'fan', u'fanbase', u'fancy', u'fans', u'fantans', u'fantasies', u'fantastical', u'fantasy', u'far', u'fare', u'farm', u'farmer', u'farmers', u'farmhouse', u'farming', u'farting', u'farts', u'fascinating', u'fashiolista', u'fashion', u'fashionable', u'fashionary', u'fashioned', u'fashionista', u'fashionistatv', u'fashionography', u'fashions', u'faso', u'fason9', u'fasshonaburu', u'fast', u'faster', u'fastest', u'fat', u'fatale', u'fatfree', u'father', u'fatigue', u'fatpita', u'fatter', u'faucet', u'faucets', u'fauja', u'favor', u'favorite', u'favorited', u'favors', u'favourite', u'favre', u'fax', u'fazed', u'fcc', u'fda', u'fear', u'feast', u'feather', u'feats', u'feature', u'featured', u'features', u'featuring', u'febrile', u'february', u'fed', u'federal', u'federer', u'feds', u'feed', u'feeding', u'feel', u'feeling', u'feet', u'felinity', u'felix', u'felled', u'fema', u'female', u'femalefirst', u'females', u'femme', u'fengtastic', u'fennel', u'feral', u'fermented', u'fernanda', u'fernando', u'fern\\xe1ndez', u'ferrell', u'ferrera', u'ferrero', u'ferriss', u'fertility', u'fesja', u'fest', u'festival', u'festive', u'feta', u'fetish', u'fettuccine', u'fey', u'ffffound', u'fi', u'fiber', u'fibromyalgia', u'fibromyalgiacauses', u'fiction', u'fictional', u'field', u'fielding', u'fields', u'fierce', u'fieri', u'fiery', u'fiesta', u'fifa', u'fifi', u'fifth', u'fifty', u'fight', u'fighter', u'fighting', u'fights', u'figs', u'figure', u'figured', u'figures', u'fiji', u'file', u'filet', u'filho', u'filled', u'filling', u'fillings', u'film', u'filmmaker', u'films', u'filtered', u'final', u'finally', u'finals', u'finance', u'finances', u'financial', u'finder', u'finding', u'findings', u'finds', u'fine', u'fined', u'finest', u'finger', u'fingerless', u'fingernail', u'fingerprint', u'fingerprints', u'fingers', u'fingertip', u'finish', u'finished', u'finishes', u'finishing', u'finland', u'finney', u'fired', u'firefly', u'firefox', u'fireside', u'fireworks', u'firm', u'fish', u'fishes', u'fishing', u'fist', u'fit', u'fitness', u'fitted', u'fivefingers', u'fix', u'fixed', u'fixing', u'fizz', u'fl', u'flag', u'flakes', u'flaky', u'flame', u'flammable', u'flank', u'flash', u'flashlights', u'flat', u'flatbread', u'flatbreads', u'flatten', u'flatter', u'flattering', u'flatulent', u'flavor', u'flavored', u'flavorful', u'flavors', u'flavorwire', u'flavour', u'flavours', u'flaws', u'flesh', u'fleur', u'flex', u'flexi', u'flexibility', u'flexible', u'flickr', u'flicks', u'flies', u'flight', u'flightaware', u'flip', u'flips', u'flix', u'float', u'floating', u'floods', u'floor', u'floral', u'florence', u'florentine', u'florida', u'floss', u'flour', u'flourless', u'flow', u'flower', u'flowers', u'flowtown', u'floyd', u'flu', u'fluffernutter', u'fluffy', u'fluoride', u'flute', u'flux', u'fly', u'flyaway', u'flyboard', u'flying', u'fno', u'foam', u'focaccia', u'focus', u'focused', u'foes', u'foie', u'fois', u'folders', u'folds', u'folha', u'folkmann', u'folks', u'follow', u'following', u'follows', u'fondant', u'fondle', u'fondue', u'font', u'fontenot', u'fonts', u'food', u'food52', u'foodbeast', u'foodgawker', u'foodie', u'foodies', u'foodily', u'foodista', u'foodmayhem', u'foodnetwork', u'foodporndaily', u'foods', u'foodstuffs', u'fool', u'foolishly', u'foolproof', u'foot', u'footage', u'footbal', u'football', u'footballer', u'footwear', u'forbes', u'force', u'forced', u'forces', u'forcibly', u'ford', u'forecast', u'forecasts', u'foreign', u'foreigners', u'foreman', u'foreskin', u'forest', u'forever', u'forevermore', u'forget', u'forgives', u'forgot', u'forgotten', u'fork', u'forkable', u'forks', u'form', u'forma', u'formal', u'formation', u'formula', u'forno', u'forsberg', u'forsiden', u'fort', u'fortress', u'fortune', u'forum', u'forward', u'forwarded', u'fosamax', u'fossil', u'foster', u'foto', u'fotos', u'foul', u'foundation', u'founder', u'fountain', u'fowey', u'fowler', u'fox', u'fp', u'fra', u'fractions', u'fragole', u'fragrance', u'fragrances', u'framework', u'france', u'frances', u'franchises', u'francis', u'francisco', u'frank', u'frankenstorm', u'frankie', u'franklin', u'frappe', u'fratello', u'fraud', u'fraunhofer', u'freak', u'freaked', u'freaky', u'freckled', u'fred', u'freddie', u'free', u'freebase', u'freemanic', u'freeriding', u'freestyle', u'freethinking', u'freezable', u'freeze', u'freezer', u'freezing', u'french', u'frequency', u'frequently', u'fresco', u'fresh', u'friday', u'fridays', u'fridge', u'fried', u'friend', u'friendly', u'friends', u'friendship', u'fries', u'friggin', u'frisbee', u'frites', u'frittata', u'fritters', u'fro', u'frocks', u'frog', u'frontiers', u'frosted', u'frosting', u'frozen', u'frugal', u'fruit', u'fruits', u'fruity', u'frustration', u'fry', u'fryer', u'frying', u'ft', u'fu', u'fuck', u'fucking', u'fudge', u'fudgey', u'fudgy', u'fuel', u'fuels', u'fug', u'fuji', u'fukung', u'fuller', u'fullest', u'fully', u'fulton', u'fun', u'function', u'functional', u'functioning', u'funeral', u'funfetti', u'fung', u'fungus', u'funhug', u'funk', u'funky', u'funnel', u'funnies', u'funniest', u'funny', u'funny368', u'furious', u'fusion', u'fusioncharts', u'fusions', u'futile', u'future', u'futuristic', u'fuzzy', u'fyi', u'g20', u'g4tv', u'gabbana', u'gabriella', u'gabrielle', u'gaddafi', u'gadget', u'gadgetgallery', u'gadgets', u'gaga', u'gagged', u'gags', u'gain', u'gained', u'gair', u'gal', u'galadarling', u'galaxy', u'galettes', u'gallagher', u'galleries', u'gallery', u'gallo', u'gallstones', u'galore', u'gamble', u'game', u'gamenet', u'gamer', u'games', u'gamestation', u'gamine', u'gaming', u'ganache', u'gandalf', u'gang', u'gangnam', u'gangsters', u'ganja', u'gap', u'garage', u'garay', u'garbage', u'garden', u'gardener', u'garlic', u'garlicky', u'garten', u'gary', u'gas', u'gastronomy', u'gate', u'gates', u'gathers', u'gaudoin', u'gaultier', u'gave', u'gawker', u'gay', u'gays', u'gazette', u'ge', u'gear', u'gearfuse', u'geek', u'geekdad', u'geekier', u'geekolinks', u'geekosystem', u'geeks', u'geeksoap', u'geeky', u'gehrke', u'gel', u'gelato', u'gelification', u'gellingen', u'gels', u'gen', u'gene', u'general', u'generate', u'generating', u'generation', u'generator', u'genes', u'genesis', u'genetic', u'genevieve', u'genie', u'genital', u'genius', u'gentlemen', u'gents', u'genuine', u'george', u'georgia', u'german', u'germany', u'germiest', u'germs', u'gesture', u'gesucht', u'getaways', u'getbetterabs', u'gets', u'getting', u'gf', u'gfcommunity', u'ghannouj', u'ghanouj', u'ghanoush', u'ghetto', u'ghirardelli', u'ghost', u'ghosts', u'giada', u'giant', u'giants', u'gif', u'gifs', u'gift', u'giftcard', u'gifterpiece', u'gifts', u'gig', u'giggle', u'giggling', u'gigi128', u'gillispie', u'gimme', u'gimundo', u'gina', u'ginas', u'ginger', u'gingerbread', u'gingersnap', u'ginzburg', u'girl', u'girlfriend', u'girls', u'giuliani', u'giveaway', u'giveaways', u'given', u'gives', u'giving', u'gizmo', u'gizmodo', u'glad', u'glamorize', u'glamour', u'glass', u'glasses', u'glastonbury', u'glaze', u'glazed', u'glencore', u'glo', u'global', u'globalpost', u'globe', u'glop', u'glory', u'glossy', u'glove', u'gloves', u'glowing', u'glows', u'gluing', u'glutamine', u'gluten', u'glutenfree', u'gluteus', u'glycemic', u'gm', u'gma', u'gmail', u'gmos', u'gnarliest', u'gnocchi', u'goal', u'goalie', u'goalkeeper', u'goals', u'goat', u'goats', u'gobble', u'god', u'goddess', u'goede', u'goer', u'goes', u'goggles', u'going', u'gold', u'golden', u'golf', u'golubka', u'gomes', u'gomez', u'gone', u'gonna', u'gonzalez', u'good', u'goodness', u'goods', u'goodtoknow', u'gooey', u'goofy', u'google', u'googler', u'gopisi', u'gordon', u'goreng', u'gorgeous', u'gorgonzola', u'gorilla', u'gossip', u'got', u'gothamist', u'gottfried', u'gouda', u'goulart', u'gourmand', u'gourmet', u'gout', u'gov', u'government', u'gown', u'gowns', u'gps', u'gq', u'grab', u'grace', u'graces', u'gradient', u'graduate', u'grafetee', u'graffiato', u'graffiti', u'graham', u'grammy', u'grand', u'grandchildren', u'grandma', u'grandmother', u'grandmothers', u'grannies', u'granny', u'granola', u'grape', u'grapefruit', u'graphene', u'graphic', u'graphics', u'graphs', u'grappling', u'gras', u'grass', u'gratia', u'gratin', u'graveyard', u'gravlax', u'gravy', u'gray', u'grease', u'great', u'greatest', u'greatist', u'greek', u'green', u'greene', u'greenest', u'greenopolis', u'greens', u'greenspaces', u'greeting', u'greg', u'gretzky', u'grew', u'grey', u'grill', u'grilled', u'grillin', u'grilling', u'grillmaster', u'grind', u'grocer', u'groceries', u'grocery', u'groopd', u'groovy', u'gross', u'grouchy', u'ground', u'groundbreaking', u'groundnuts', u'group', u'groupies', u'grow', u'growing', u'growkind', u'grown', u'grows', u'growth', u'grub', u'grubgrade', u'gruesome', u'gruks', u'grumpy', u'gruyere', u'grzegorz', u'gt', u'gteaux', u'gtx', u'guaca', u'guacamole', u'guanciale', u'guaranteed', u'guard', u'guardian', u'guardiannews', u'guarding', u'guatemala', u'guavas', u'guess', u'guest', u'guests', u'guice', u'guide', u'guidelines', u'guides', u'guilt', u'guiltless', u'guilty', u'guinea', u'guinness', u'gulf', u'gum', u'gumball', u'gummies', u'gummy', u'gun', u'gunman', u'guru', u'gut', u'gutt', u'guy', u'guyism', u'guys', u'gyllenhaal', u'gym', u'gyms', u'gyoza', u'gyros', u'gzel', u'g\\xe0', u'h1n1', u'habanero', u'habit', u'habits', u'hack', u'hacked', u'hackers', u'hacking', u'hacks', u'hactivists', u'hadn', u'haggis', u'hail', u'hair', u'hairclipsbytiph', u'hairdo', u'hairs', u'hairstyles', u'haiti', u'hajduk', u'haka', u'halal', u'half', u'halftime', u'hallelu', u'hallmarks', u'halloween', u'hallows', u'halls', u'halo', u'halolz', u'halt', u'halves', u'ham', u'hama', u'hamburger', u'hamburgers', u'hamster', u'hand', u'handbags', u'handball', u'handbook', u'handicapped', u'handicapping', u'handle', u'handmade', u'hands', u'handstand', u'hang', u'hanging', u'hangover', u'hangovers', u'hannah', u'hans', u'hanukkah', u'happen', u'happened', u'happening', u'happens', u'happier', u'happiness', u'happy', u'harassed', u'harbaugh', u'hard', u'hardware', u'hardy', u'hari', u'haring', u'harissa', u'hark', u'harm', u'harming', u'harmless', u'harper', u'harry', u'hartford', u'harvard', u'harvest', u'harvested', u'harvester', u'hash', u'hashanah', u'hashbrowns', u'hasselback', u'hassle', u'hat', u'hatch', u'hate', u'hated', u'hats', u'haute', u'hauteness', u'haven', u'haves', u'having', u'hawking', u'hay', u'haz', u'hazards', u'hazel', u'hazelnut', u'hd', u'hdr', u'head', u'headache', u'headaches', u'headband', u'headed', u'headlines', u'headphones', u'headquarters', u'heads', u'heal', u'healing', u'heals', u'health', u'healthassist', u'healthcare', u'healthful', u'healthfully', u'healthguru', u'healthier', u'healthiest', u'healthified', u'healthland', u'healthpop', u'healthy', u'heard', u'hearld', u'heart', u'heartburn', u'heartlessness', u'hearts', u'hearty', u'heat', u'heath', u'heathen', u'heather', u'heating', u'heatter', u'heaven', u'heavy', u'hebridean', u'heck', u'hedgehog', u'hedgehogs', u'heed', u'heel', u'heelcondoms', u'heels', u'heidi', u'heilbrunn', u'heirloom', u'heise', u'hel', u'helen', u'helgasons', u'helicopter', u'helium', u'hell', u'hello', u'helmets', u'helnwein', u'help', u'helper', u'helpful', u'helping', u'helps', u'helsinki', u'hemorrhoids', u'hen', u'henderson', u'hendricks', u'henge', u'henri', u'henson', u'henwood', u'hepatitis', u'hepburn', u'her0in', u'herald', u'herb', u'herbal', u'herbed', u'herbivoracious', u'herbs', u'herd', u'heritage', u'heroes', u'heroically', u'herpes', u'herrera', u'herring', u'hey', u'heydemotivate', u'hfcs', u'hgh', u'hi', u'hiatus', u'hibb', u'hid', u'hidden', u'hide', u'hideaway', u'hiding', u'high', u'higher', u'highest', u'highland', u'highlights', u'highlite', u'highly', u'highway', u'highways', u'hijacking', u'hike', u'hilarious', u'hilaris', u'hilary', u'hill', u'hillary', u'hillbilly', u'hills', u'hillshire', u'hilton', u'himalayan', u'hindenburg', u'hintergr\\xfcnde', u'hints', u'hip', u'hiperativo', u'hipster', u'hipsters', u'hire', u'hiring', u'history', u'hit', u'hitler', u'hits', u'hiv', u'hiver', u'ho', u'hoarding', u'hoax', u'hoc', u'hockey', u'hockmeyer', u'hofbrauhaus', u'hogg', u'hoisin', u'hold', u'holder', u'hole', u'holes', u'holiday', u'holidays', u'holistic', u'hollandaise', u'hollie', u'hollywood', u'holmes', u'holodeck', u'hologram', u'holographic', u'holography', u'holt', u'holy', u'holyjuan', u'holytaco', u'hom', u'home', u'homebrew', u'homeless', u'homemade', u'homemaker', u'homemakers', u'homepage', u'homeroom', u'homesick', u'homework', u'homewrecker', u'homophobes', u'homotography', u'honda', u'honest', u'honestly', u'honey', u'honeybunch', u'honor', u'honors', u'hood', u'hoodie', u'hoodies', u'hoog', u'hooked', u'hookups', u'hop', u'hope', u'hopkins', u'horchata', u'horizon', u'hormone', u'horrible', u'horrifying', u'horror', u'horrors', u'hors', u'horse', u'horses', u'hospital', u'host', u'hostess', u'hosting', u'hot', u'hotbabe', u'hotdogs', u'hotel', u'hotels', u'hotity', u'hotline', u'hotlines', u'hotpants', u'hotter', u'hottest', u'hotties', u'hour', u'hourglass', u'hours', u'house', u'household', u'housekeeping', u'houses', u'housewife', u'housing', u'houston', u'hoverbike', u'hoverboards', u'hovercraft', u'hovering', u'hovers', u'how2heroes', u'howtogetridofstuff', u'hq', u'htc', u'html5', u'http', u'hu', u'hub', u'hubby', u'hubschman', u'huevos', u'huge', u'hughes', u'hulc', u'human', u'humanity', u'humans', u'humiliating', u'hummer', u'hummingbird', u'hummus', u'humor', u'humorbash', u'humorous', u'humorxin', u'hundreds', u'hungarian', u'hungry', u'hunt', u'hunter', u'hunters', u'huntley', u'hurdles', u'hurrah', u'hurricane', u'hurt', u'hurting', u'hurts', u'hussein', u'hut', u'hutchison', u'hybrid', u'hydrogen', u'hydroponic', u'hygiene', u'hype', u'hyperbole', u'hypersonic', u'hypertension', u'hypnotic', u'hypotheses', u'hysterical', u'ian', u'ibm', u'ibook', u'ibs', u'icann', u'icantseeyou', u'ice', u'icebox', u'icecream', u'iced', u'iceland', u'icing', u'icloud', u'icon', u'iconic', u'icons', u'icup', u'id', u'idaho', u'idea', u'ideal', u'idealbite', u'ideas', u'identification', u'identified', u'identify', u'identifying', u'identity', u'idiot', u'ifa', u'ifashionsblog', u'ifood', u'ifragilistic', u'iftar', u'ignore', u'ihumor', u'ii', u'iii', u'ikan', u'ikea', u'ikku', u'il', u'ill', u'illiteracy', u'illiterate', u'illness', u'illuminated', u'illusion', u'illustrated', u'illustration', u'illustrations', u'illustrator', u'ilya', u'im', u'image', u'imageforum', u'images', u'imageshack', u'imagination', u'imagine', u'imbalance', u'imgfave', u'imgzzz', u'imitators', u'immersion', u'immersive', u'immune', u'immunity', u'imogen', u'impact', u'impacts', u'impairment', u'impeding', u'implant', u'implanted', u'implants', u'important', u'imports', u'impossible', u'impotence', u'impression', u'impressive', u'improve', u'improved', u'improvements', u'improvised', u'impulsive', u'ina', u'inaction', u'inappropriate', u'incandela', u'inches', u'incite', u'incl', u'include', u'included', u'including', u'incompetent', u'inconvenient', u'increase', u'increased', u'increases', u'increasingly', u'incredible', u'incredibly', u'incurable', u'independent', u'index', u'india', u'indian', u'indianapolis', u'indiansimmer', u'indie', u'indigestion', u'indispensable', u'individual', u'indoor', u'induced', u'inductive', u'indulge', u'industrial', u'industry', u'inefficient', u'inexpensive', u'infection', u'infectious', u'infects', u'infertility', u'infinite', u'infinitely', u'infinity', u'inflatable', u'inflating', u'influence', u'influenced', u'influential', u'info', u'infographic', u'infographics', u'infonewt', u'information', u'informationweek', u'informationweek3', u'infrared', u'infringing', u'infused', u'ingenious', u'inglip', u'ingredient', u'ingredients', u'inhabitants', u'inhaltsstoffe', u'inhardfocus', u'initiates', u'injuries', u'injury', u'ink', u'inmate', u'inmates', u'innnovation', u'innocent', u'innova', u'innovates', u'innovation', u'innovations', u'innovative', u'input', u'inquirer', u'ins', u'insane', u'insanity', u'inseparable', u'inside', u'insider', u'insidershealth', u'insight', u'insights', u'insomnia', u'inspiradas', u'inspiration', u'inspirational', u'inspire', u'inspired', u'inspires', u'inspiring', u'inspo', u'instagram', u'installing', u'instances', u'instant', u'instantly', u'instead', u'instructables', u'instructional', u'instructions', u'instructor', u'instyle', u'insurance', u'insurers', u'intake', u'integrated', u'integration', u'intel', u'intelligence', u'intelligent', u'intense', u'intentionally', u'interact', u'interactive', u'interception', u'interested', u'interesting', u'interesting8', u'interface', u'interior', u'interiors', u'interjected', u'intermission', u'intermittent', u'internal', u'international', u'internationale', u'internationally', u'internet', u'internets', u'internships', u'interpret', u'interview', u'interviewed', u'intexticated', u'intimate', u'intimidate', u'introduces', u'invent', u'invented', u'invention', u'inventions', u'inventor', u'invents', u'investigation', u'investigations', u'investors', u'invincibility', u'invisibility', u'invisible', u'invites', u'involvement', u'iny', u'io9', u'iol', u'ios', u'iowa', u'ipack', u'ipad', u'ipads', u'iphone', u'ipod', u'ipol', u'iq', u'iranian', u'iraq', u'ireland', u'irene', u'ireport', u'iridessa', u'irina', u'iris', u'irish', u'irk', u'iron', u'ironman', u'irradiation', u'irrigation', u'irving', u'isaac', u'iseeahappyface', u'ish', u'islamabad', u'island', u'isle', u'isles', u'isn', u'israel', u'israeli', u'issue', u'issues', u'italian', u'italy', u'items', u'itsy', u'itty', u'itv', u'iv', u'ivanovic', u'ive', u'ivillage', u'ivy', u'ix', u'iyogi', u'izabel', u'jac', u'jack', u'jackass', u'jacked', u'jacket', u'jackson', u'jacobs', u'jacques', u'jag', u'jaguar', u'jail', u'jailed', u'jaja', u'jak', u'jake', u'jalapeno', u'jalapenos', u'jalape\\xf1o', u'jam', u'jamaica', u'jamcore', u'james', u'jamie', u'jams', u'jan', u'jane', u'janice', u'jansen', u'january', u'japan', u'japanese', u'jar', u'jared', u'jars', u'java', u'jaw', u'jawa', u'jay', u'jayesel', u'jazeera', u'jean', u'jeanette', u'jeans', u'jedy', u'jeffrey', u'jeggings', u'jeisa', u'jeje', u'jell', u'jello', u'jelly', u'jellyfish', u'jems', u'jen', u'jenga', u'jenkins', u'jenn', u'jenneke', u'jenner', u'jennie', u'jennifer', u'jenny', u'jeongol', u'jepsen', u'jere', u'jeremy', u'jerry', u'jersey', u'jerseys', u'jessica', u'jest', u'jesus', u'jet', u'jetblue', u'jetpack', u'jets', u'jetset', u'jewelers', u'jewelry', u'jewels', u'jewish', u'jey', u'jfk', u'jiggly', u'jill', u'jim', u'jimmy', u'jitsu', u'jk7', u'jo', u'joanna', u'joanne', u'job', u'jobacle', u'jobs', u'jockular', u'joe', u'joel', u'joes', u'joey', u'johann', u'john', u'johnny', u'johns', u'johnson', u'join', u'joined', u'joins', u'joke', u'jokes', u'jokes2go', u'jokezzz', u'jolokia', u'jon', u'jonah', u'jonathan', u'jones', u'jonkajtys', u'jordan', u'jornal', u'jose', u'joseph', u'josh', u'jos\\xe9', u'jouannic', u'joulies', u'journal', u'journalists', u'journey', u'journeyman', u'joy', u'joyfully', u'joyofbaking', u'joyous', u'joys', u'jp', u'jpg', u'jr', u'ju', u'juan', u'jude', u'judge', u'judo', u'judy', u'judysdesigns', u'juggling', u'juice', u'juices', u'juicing', u'juicy', u'jujitsu', u'juliana', u'julie', u'julius', u'july', u'jump', u'jumpdrive', u'jumping', u'jumps', u'june', u'junglefrog', u'junior', u'juniors', u'junk', u'junkie', u'jury', u'jus', u'just', u'justcook', u'justice', u'justjenn', u'k4n', u'kabobs', u'kaboodle', u'kaduk', u'kal', u'kalamata', u'kale', u'kalles', u'kaminsky', u'kangen', u'kanye', u'karen', u'karin', u'karma', u'karrina', u'kartoen', u'kat', u'kate', u'kategorileri', u'kath', u'katherine', u'kathryn', u'katie', u'katy', u'kaviar', u'kaws', u'kayak', u'kaye', u'kayla', u'keacher', u'kebabs', u'kecole', u'keeps', u'keith', u'keller', u'kellogg', u'kendra', u'kenney', u'kenny', u'kensington', u'kent', u'kentucky', u'kera', u'kermit', u'kernels', u'kerr', u'kerri', u'ketchup', u'ketone', u'ketones', u'kettle', u'kevin', u'key', u'keyboard', u'keywords', u'kfashionista', u'kfc', u'kg', u'khymos', u'kick', u'kicked', u'kicker', u'kicks', u'kid', u'kidneys', u'kids', u'kikidoll', u'kill', u'killed', u'killer', u'killing', u'kills', u'killsometime', u'kilos', u'kim', u'kimberly', u'kimmallari', u'kind', u'kindergarteners', u'kindle', u'kinds', u'kinect', u'king', u'kirbie', u'kirkwood', u'kiss', u'kissed', u'kisses', u'kisss', u'kit', u'kitchen', u'kitchenmodular', u'kitchens', u'kitching', u'kitchn', u'kite', u'kiteboard', u'kiteboarding', u'kites', u'kits', u'kitty', u'kittyrug', u'kiwi', u'kk723', u'klassen', u'klga', u'klum', u'km3d', u'kmrgtvigppuiacvo2xrarxvtnh77di5f', u'knead', u'kneading', u'knee', u'knew', u'knick', u'knicker', u'knicks', u'knife', u'knight', u'knights', u'knit', u'knits', u'knitting', u'knives', u'kno', u'knock', u'knocked', u'knockout', u'knot', u'knots', u'know', u'knowing', u'knowledge', u'knows', u'knuckles', u'koala', u'koalas', u'kobe', u'kobi', u'kolaches', u'kolay', u'komo', u'kontraband', u'korea', u'korean', u'kornelis', u'kosher', u'kosturova', u'kraft', u'krakez', u'krazy', u'kreme', u'krencil', u'krill', u'krispie', u'krispies', u'krispy', u'kristen', u'kritzer', u'krueger', u'krupa', u'kso', u'kuchen', u'kugel', u'kugels', u'kugowo', u'kultur', u'kung', u'kwotes', u'kylie', u'kyphosis', u'kyrie', u'kyrillos', u'l4d', u'la', u'lab', u'labeled', u'labeling', u'labels', u'labor', u'laboratories', u'labour', u'labs', u'lace', u'laces', u'lacets', u'lacing', u'lacrosse', u'ladder', u'laden', u'ladies', u'lady', u'ladyironchef', u'lagasse', u'laid', u'lakers', u'lakes', u'lam', u'lamar', u'lamb', u'lamborghini', u'laminate', u'lamp', u'lampard', u'lamps', u'lampshade', u'land', u'landing', u'landlord', u'landmine', u'lands', u'landscape', u'lane', u'languages', u'lantern', u'laparoscopy', u'lapin', u'lapse', u'laptop', u'large', u'larger', u'largest', u'larissa', u'larper', u'larry', u'las', u'lasagna', u'lasanga', u'laser', u'lashes', u'lasso', u'lasting', u'late', u'later', u'latest', u'latimes', u'latino', u'latkes', u'latte', u'lattice', u'laugh', u'laughing', u'laughs', u'laughter', u'launch', u'launched', u'launches', u'laundry', u'laura', u'lauren', u'laurent', u'laurentiis', u'laurie', u'lavender', u'lavigne', u'law', u'lawley', u'lawn', u'laws', u'lawyer', u'lay', u'layer', u'layered', u'layers', u'lays', u'lazy', u'lbs', u'lcd', u'lcds', u'lcsw', u'le', u'lead', u'leader', u'leaders', u'leading', u'leads', u'leaf', u'league', u'leaking', u'leaks', u'lean', u'leaner', u'leap', u'learn', u'learned', u'lease', u'leather', u'leathers', u'leave', u'lebanese', u'lebensmitteln', u'lebovitz', u'lebowski', u'lebron', u'leche', u'leches', u'led', u'lee', u'leek', u'lefse', u'left', u'leftover', u'leftovers', u'leg', u'legal', u'legalization', u'legend', u'legendary', u'legends', u'legislature', u'legitimately', u'lego', u'legos', u'legs', u'leibovitz', u'leisure', u'lemieux', u'lemon', u'lemonade', u'lemons', u'length', u'leno', u'lenovo', u'lentil', u'leprechaun', u'leptin', u'les', u'lesbian', u'lessens', u'lesson', u'lessons', u'lester', u'let', u'letarte', u'lete', u'lets', u'letter', u'letterman', u'letters', u'lettuce', u'level', u'leveled', u'levels', u'levi', u'levitating', u'levitation', u'lewis', u'lexar', u'lexiyoga', u'liam', u'liang', u'libel', u'liberty', u'library', u'libya', u'licking', u'lie', u'liebemarlene', u'lies', u'life', u'lifehack', u'lifehacker', u'lifehacks', u'lifeiscarbon', u'lifespan', u'lifestyle', u'lifewise', u'lifter', u'lifting', u'lifts', u'light', u'lightened', u'lighter', u'lightest', u'lighting', u'lights', u'lightwind', u'like', u'likely', u'lil', u'lim', u'lime', u'limeade', u'limited', u'limits', u'limoncello', u'limoncelloquest', u'lin', u'linda', u'lindsay', u'line', u'linearfashions', u'liner', u'linering', u'lines', u'lineup', u'lingerie', u'linguini', u'link', u'link25', u'linked', u'linkedin', u'links', u'linstant', u'linux', u'lion', u'lions', u'lip', u'lippmann', u'liquefaction', u'liquid', u'liquor', u'liron', u'lisa', u'list', u'list25', u'listed', u'listen', u'listening', u'listings', u'lists', u'lito', u'little', u'live', u'liveinternet', u'livelifepro', u'lively', u'liven', u'liver', u'lives', u'livescience', u'livestrong', u'living', u'll', u'llapingachos', u'llc', u'lmfao', u'lo', u'load', u'loaded', u'loader', u'loaf', u'lobster', u'local', u'locate', u'location', u'locher', u'lockheed', u'locking', u'locurto', u'lofthouse', u'logged', u'logical', u'logos', u'loko', u'lol', u'lolbrary', u'lolcats', u'lolcode', u'lollipops', u'lolpics', u'lolsnaps', u'lolz', u'lolzzz', u'lomu', u'london', u'londoner', u'loneplacebo', u'long', u'longboard', u'longer', u'loofah', u'look', u'lookbook', u'lookbooks', u'looked', u'lookin', u'looking', u'looks', u'loom', u'looney', u'loophole', u'loose', u'loot', u'lord', u'loris', u'los', u'lose', u'loser', u'losers', u'loses', u'losing', u'loss', u'losses', u'lost', u'lot', u'lotions', u'lots', u'lottie', u'lou', u'loud', u'louis', u'love', u'loved', u'lovely', u'lover', u'loverlyvintage', u'lovers', u'loves', u'lovin', u'low', u'lower', u'lowers', u'lowest', u'loyal', u'loyola', u'lucie', u'luck', u'luckiest', u'lucky', u'lude', u'ludes', u'ludobites', u'luis', u'luisaviaroma', u'luiz', u'luke', u'lukyanova', u'lulu', u'lulus', u'lump', u'luna', u'lunabean', u'lunar', u'lunartic_hubless', u'lunch', u'lunches', u'lung', u'lungs', u'lurpak', u'luscious', u'lush', u'lust', u'luxirare', u'luxurious', u'luxury', u'lv', u'ly', u'lynn', u'lytro', u'ma', u'maarten', u'mac', u'macabre', u'macaron', u'macaroni', u'macarons', u'macbook', u'maccheroni', u'macfarlane', u'macheesmo', u'machine', u'machines', u'macs', u'macuser', u'mad', u'madame', u'madden', u'maddow', u'madness', u'madonna', u'maeg', u'maegan', u'maestro', u'mafia', u'mag', u'magazine', u'magazines', u'maggie', u'magi', u'magic', u'magical', u'magnet', u'magnetic', u'magnificent', u'magnolia', u'mahal', u'maida', u'mail', u'main', u'maine', u'mains', u'mainstream', u'maintain', u'maintenance', u'maison', u'major', u'make', u'maken', u'makeovers', u'maker', u'makers', u'makes', u'makeup', u'makeuseof', u'making', u'mako', u'malaysian', u'male', u'malfunctions', u'malin', u'mall', u'malt', u'malted', u'malware', u'mama', u'mamadou', u'man', u'manage', u'management', u'managing', u'mancakes', u'mandy', u'mango', u'mangoes', u'manhattan', u'manhole', u'manhood', u'mani', u'manifest', u'manifesto', u'mani\\xe8res', u'manjula', u'manliness', u'manly', u'manned', u'manolo', u'mantecadas', u'manual', u'manuals', u'manufacturer', u'manufacturing', u'map', u'maple', u'mapped', u'mapping', u'maps', u'mar', u'maraschino', u'marathon', u'marathoner', u'marble', u'marbled', u'marc', u'marca', u'march', u'mardi', u'margarita', u'maria', u'mariah', u'marie', u'marijuana', u'marijunana', u'marilyn', u'marina', u'marinade', u'marinara', u'marinated', u'marine', u'mario', u'marisa', u'mark', u'marker', u'market', u'marketing', u'markets', u'markmontoya', u'marks', u'markus', u'marly', u'marnie', u'marnier', u'marquel', u'marriage', u'married', u'marry', u'marsala', u'marsbar', u'marshall', u'marshalls', u'marshmallow', u'marshmallows', u'mart', u'martens', u'martha', u'martin', u'martini', u'marty', u'mary', u'maryland', u'masaharu', u'masala', u'mascarpone', u'masha', u'mashed', u'mashups', u'mask', u'mason', u'mass', u'massage', u'masses', u'massive', u'master', u'mastering', u'masters', u'mastery', u'masuri', u'mat', u'match', u'matcha', u'matches', u'matchup', u'material', u'materials', u'math', u'matic', u'matkonation', u'matrix', u'matt', u'mattbites', u'matter', u'mattertechcrunch', u'matthew', u'mattress', u'maui', u'max', u'maxim', u'maximize', u'maximumble', u'maximus', u'maybe', u'mayne', u'mayo', u'mayonnaise', u'mcafee', u'mcardle', u'mcburger', u'mccanta', u'mccarthy', u'mccormick', u'mccullough', u'mcdonald', u'mcdowell', u'mcguffie', u'mcnelly', u'mcnugget', u'mcqueen', u'meal', u'meals', u'mean', u'meander', u'meanest', u'meaning', u'means', u'measure', u'measured', u'measurement', u'measures', u'measuring', u'meat', u'meatball', u'meatballs', u'meatless', u'meatloaf', u'meats', u'meatwave', u'mechanical', u'mechwarrior', u'med', u'medal', u'medalists', u'medals', u'medgle', u'media', u'medias', u'medical', u'medication', u'medications', u'medicinal', u'medicine', u'medicinenet', u'medindia', u'meditation', u'mediterranean', u'medium', u'medixselect', u'medora', u'meek', u'meerkat', u'meet', u'meets', u'meg', u'mega', u'megabytes', u'megan', u'melanoma', u'meliscious', u'melissa', u'mellons', u'melon', u'melons', u'melt', u'meltdowns', u'melted', u'melting', u'melts', u'member', u'members', u'meme', u'memeopoly', u'memoir', u'memorable', u'memories', u'memory', u'men', u'mens', u'menshealth', u'menstrual', u'menswear', u'mental', u'mentoring', u'menu', u'menus', u'mercedes', u'mercury', u'mere', u'meringue', u'meringues', u'mermaid', u'merry', u'mesh', u'mess', u'message', u'messages', u'messaging', u'messi', u'messing', u'met', u'meta', u'metabolic', u'metal', u'metallic', u'metaphors', u'metaphysical', u'meter', u'meters', u'method', u'metro', u'metrofax', u'metropolis', u'metropolitan', u'mex', u'mexicali', u'mexican', u'mexicans', u'mexico', u'meyer', u'mezzmer', u'mfw', u'mgm', u'miami', u'mice', u'michael', u'michelin', u'michelle', u'michigan', u'mick', u'mickey', u'microbial', u'microneedles', u'microscope', u'microsoft', u'microwave', u'mid', u'middle', u'middleton', u'midseason', u'midst', u'midwasteland', u'midwestern', u'mighty', u'mignon', u'migraine', u'migraines', u'mii', u'mike', u'mikey', u'miki', u'milan', u'mild', u'mildew', u'mile', u'military', u'milk', u'milkie', u'milkshake', u'milkshakes', u'miller', u'millet', u'milling', u'million', u'millionaire', u'millionaires', u'millionface', u'millions', u'milliseconds', u'mills', u'milonakis', u'milwaukee', u'mimosa', u'min', u'minaj', u'minchin', u'mind', u'minded', u'mindfulness', u'minds', u'miners', u'mini', u'miniature', u'minimalism', u'minimalist', u'mining', u'minkpink', u'minneapolis', u'minority', u'mint', u'mintlife', u'mintues', u'minus', u'minute', u'minutes', u'mira', u'miracle', u'miracles', u'miranda', u'mirror', u'misadventures', u'misbehave', u'miscarriages', u'misconduct', u'miscpix', u'miserable', u'mishaps', u'miso', u'misprint', u'miss', u'missed', u'missing', u'mission', u'mississippi', u'missoni', u'mistakenly', u'mistakes', u'misty', u'misusing', u'mit', u'mitchell', u'mittens', u'mix', u'mixed', u'mixtape', u'mlb', u'mlkshk', u'mlm', u'mls', u'mma', u'mmsgetcorny', u'mnn', u'mnt', u'mo', u'mob', u'mobile', u'mobility', u'mocha', u'mochiatto', u'mod', u'modcloth', u'mode', u'model', u'models', u'moderate', u'modern', u'modes', u'modified', u'modish', u'mods', u'modular', u'mohtarez', u'mojito', u'molasses', u'mold', u'molded', u'mole', u'molecular', u'moline', u'molla', u'molly', u'molten', u'mom', u'moment', u'moments', u'momlogic', u'momma', u'mommy', u'momofuku', u'moms', u'momspark', u'momstart', u'momtastic', u'mona', u'monday', u'mondays', u'monell', u'money', u'moneymaking', u'mongolian', u'monicel', u'monitor', u'monitoring', u'monkey', u'monkeybars', u'monkeys', u'monorail', u'monroe', u'monsanto', u'monster', u'monte', u'month', u'months', u'moo', u'mood', u'moon', u'mooncake', u'moonlights', u'moose', u'moqueca', u'morally', u'mordor', u'mores', u'moretz', u'morgan', u'morgenthaler', u'morimoto', u'morning', u'moroccan', u'moronail', u'morpheus', u'morton', u'mostess', u'mota', u'mother', u'motion', u'motivated', u'motivation', u'motivational', u'motocross', u'motor', u'motorbike', u'motorcycle', u'motors', u'motta', u'moulded', u'mounds', u'mount', u'mountain', u'mountaineering', u'mounted', u'mourinho', u'mourns', u'mouse', u'mousse', u'moustair', u'mouth', u'mov', u'moved', u'movement', u'moves', u'movie', u'movies', u'moving', u'mowse', u'moyers', u'mozart', u'mozzarella', u'mp3', u'mph', u'mr', u'mri', u'mris', u'mrs', u'ms', u'msgs', u'mshake', u'msnbc', u'msu', u'mtv', u'mud', u'mudder', u'muddle', u'muerte', u'mufasa', u'muffin', u'muffins', u'mug', u'mugs', u'muhammad', u'mullet', u'multi', u'multimedia', u'multiple', u'multiplying', u'multitasking', u'multnomah', u'mum', u'mummy', u'munch', u'munchies', u'munchin', u'munchkin', u'munchy', u'muppets', u'murad', u'murder', u'murderball', u'murdered', u'murders', u'murphy', u'muscle', u'muscles', u'musculoskeletal', u'museum', u'mushroom', u'mushrooms', u'music', u'musings', u'muskegon', u'mustard', u'mutant', u'mutating', u'mutfa\\u011f\\u0131', u'mutilates', u'muy', u'mvp', u'myhrvold', u'myrecipes', u'myspace', u'mysteries', u'mysterious', u'mystery', u'myth', u'mythbusters', u'myths', u'm\\xe1s', u'm\\u1ee1', u'naan', u'nachos', u'nachrichten', u'nada', u'naga', u'nail', u'nailed', u'nails', u'nair', u'naked', u'naltrexone', u'names', u'nanaimo', u'nanna', u'nannies', u'nanny', u'nano', u'nanobots', u'nao', u'naomi', u'nap', u'napkins', u'napping', u'naps', u'napster', u'naptime', u'narrator', u'nars', u'narvcol', u'nasa', u'nashville', u'nast', u'nasty', u'natalie', u'nathalie', u'nathan', u'nation', u'national', u'nationwide', u'native', u'natural', u'naturally', u'naturals', u'nature', u'natureinsider', u'naughty', u'nausea', u'nav', u'navigational', u'nazi', u'nba', u'nbc', u'nbcnews', u'nc', u'ncaa', u'ndash', u'ndiaye', u'near', u'nearly', u'nebraska', u'necessary', u'neck', u'necklace', u'necklaces', u'necksessory', u'ned', u'nedrept', u'need', u'needed', u'needs', u'negamaki', u'negative', u'neglect', u'negligence', u'neighbors', u'neil', u'nekrassov', u'neon', u'nerd', u'nerdbastards', u'nerdgasm', u'nerds', u'nerdsmagazine', u'nerdy', u'nesn', u'nest', u'net', u'netragard', u'nets', u'nettle', u'network', u'networking', u'networks', u'neuropathy', u'neuroscience', u'neurotic', u'neutral', u'nevertoomuchglitter', u'new', u'newegg', u'newest', u'newly', u'news', u'newschannel5', u'newschnitzel', u'newsday', u'newser', u'newseum', u'newsfeed', u'newshour', u'newslink', u'newsman', u'newsnow', u'newsom', u'newspaper', u'newspapers', u'newsroom', u'newsrooms', u'newsweek', u'newton', u'nexeon', u'nexus', u'nfl', u'nhl', u'nib', u'nibble', u'nibbledish', u'nicaraguans', u'nice', u'niches', u'nicholas', u'nickel', u'nickelback', u'nicki', u'nicking', u'nicktoon', u'nicky', u'nicole', u'nifty', u'nigaz', u'nigeria', u'nigerian', u'nigga', u'night', u'nightly', u'nightmare', u'nightranger', u'nights', u'nih', u'nike', u'nikibone', u'nikki', u'nikola', u'nikolai', u'nimh', u'ninemsn', u'ninja', u'nintendo', u'nirvana', u'nite', u'nitrogen', u'nm', u'noble', u'nods', u'noel', u'nog', u'noise', u'noises', u'nokia', u'nom', u'nomads', u'nominated', u'nomskulls', u'non', u'nonesuch', u'nonprofit', u'noodle', u'noodles', u'nora', u'normal', u'norris', u'north', u'northeast', u'northern', u'norway', u'norwegian', u'nose', u'nostalgia', u'notable', u'notcot', u'note', u'notebook', u'notes', u'noteslate', u'notice', u'noticias', u'not\\xedcias', u'nourishes', u'novels', u'november', u'novice', u'novoselova', u'npr', u'nsfw', u'nu', u'nuclear', u'nude', u'number', u'numbers', u'nummern', u'num\\xe9ro', u'nursemaid', u'nurses', u'nursing', u'nut', u'nutella', u'nutmeg', u'nutr', u'nutrient', u'nutrients', u'nutrisystem', u'nutrition', u'nutritional', u'nutritionists', u'nutritious', u'nuts', u'nuttiness', u'nutty', u'nvidia', u'ny', u'nyc', u'nye', u'nyheter', u'nylon', u'nytimes', u'nz', u'n\\xe4hrwertangaben', u'o5', u'oakland', u'oakley', u'oasis', u'oat', u'oatmeal', u'obama', u'obamacare', u'obaz', u'obe', u'obese', u'obesity', u'obituaries', u'objective', u'objects', u'obscure', u'obsessed', u'obsession', u'obsolete', u'obstacle', u'occupations', u'occurred', u'ocean', u'oct', u'october', u'octopus', u'od', u'odd', u'oddee', u'oddities', u'oddly', u'odds', u'odom', u'odyssey', u'oeuvres', u'offbeat', u'offer', u'offering', u'offers', u'office', u'officer', u'official', u'offloading', u'offs', u'offseason', u'oh', u'ohio', u'ohtake', u'oil', u'oils', u'okay', u'okcupid', u'okla', u'ol', u'olaf', u'old', u'older', u'oldest', u'oldfellas', u'oldshirts', u'oled', u'oleds', u'olga', u'oli', u'olio', u'olive', u'oliver', u'olsen', u'olympians', u'olympic', u'olympics', u'om', u'ombre', u'ombr\\xe9', u'omelet', u'omelette', u'omelettes', u'omg', u'omni', u'omnia', u'omnitouch', u'omnivore', u'onemorelevel', u'ones', u'oneshot', u'onion', u'onions', u'online', u'onlinedegrees', u'onlinenewspapers', u'onondaga', u'oo', u'opanontrademark', u'open', u'opendonor', u'opener', u'openfreak', u'opening', u'openness', u'openssl', u'opera', u'operating', u'operation', u'operations', u'opinion', u'opinions', u'oprah', u'optical', u'optician', u'optimism', u'optimize', u'optimum', u'option', u'optional', u'optionally', u'options', u'orange', u'oranges', u'orb', u'order', u'ordering', u'orders', u'ordinary', u'ordon', u'orecchiette', u'oregon', u'oreilly', u'oreo', u'oreos', u'orf', u'org', u'organ', u'organic', u'organics', u'organize', u'organized', u'organizing', u'organs', u'orgasm', u'oriental', u'origin', u'original', u'orignauxmoose', u'orleans', u'ornish', u'orthopaedics', u'orzo', u'osama', u'oscar', u'oshea', u'osso', u'ostrich', u'otters', u'ottolenghi', u'ouch', u'ought', u'outbreaks', u'outcry', u'outdoor', u'outfit', u'outfits', u'outfitters', u'outraged', u'outside', u'outsiders', u'outtakes', u'outweighs', u'oven', u'ovens', u'overactive', u'overall', u'overclock', u'overcome', u'overcoming', u'overeating', u'overflow', u'overload', u'overly', u'overnight', u'overprescribed', u'overrated', u'overreactions', u'overview', u'overweight', u'overwhelmed', u'ovulation', u'owls', u'owned', u'owner', u'owners', u'owning', u'owns', u'oxfam', u'oxford', u'oxygen', u'oz', u'p10', u'pa', u'pac', u'pack', u'package', u'packages', u'packed', u'packers', u'packin', u'packs', u'pacquiao', u'pad', u'pads', u'page', u'pages', u'paid', u'pain', u'painful', u'painfully', u'painkiller', u'painkillers', u'painless', u'pains', u'paint', u'paintball', u'paints', u'pair', u'pairing', u'pairs', u'pakirecipes', u'pakistan', u'pakistani', u'palace', u'palate', u'pale', u'paleo', u'palm', u'pampered', u'pan', u'panasianbiz', u'pancake', u'pancakes', u'pancetta', u'panda', u'pandemic', u'pandora', u'paneer', u'panel', u'panels', u'panera', u'pango', u'panini', u'panjshir', u'panko', u'panna', u'pano', u'pans', u'panties', u'pantry', u'pants', u'pantyhose', u'pan\\xe9ed', u'pao', u'papa', u'paper', u'papermag', u'paprika', u'paracusia', u'paradigm', u'paradox', u'paradoxoff', u'parallels', u'paralympic', u'paralympics', u'parasite', u'parched', u'pardoned', u'parentables', u'parenting', u'parents', u'parfait', u'parfaits', u'paris', u'parisian', u'park', u'parking', u'parkinson', u'parkour', u'parks', u'parlays', u'parliament', u'parlour', u'parmesan', u'parmigiana', u'parody', u'parr', u'parsley', u'parsnip', u'parties', u'parts', u'party', u'pasa', u'paska', u'pass', u'passed', u'passenger', u'passengers', u'passersby', u'passing', u'passion', u'passover', u'passport', u'password', u'passwords', u'pass\\xe9', u'past', u'pasta', u'pastas', u'pasticcera', u'pasties', u'pastries', u'pastry', u'patent', u'patenting', u'path', u'patient', u'patients', u'patisseries', u'patou', u'patricia', u'patrick', u'patricks', u'patriot', u'patriotic', u'patriots', u'patrishka', u'patterning', u'patterns', u'patternsbyfaima', u'patterson', u'patties', u'patty', u'paul', u'paula', u'pauladeen', u'paulina', u'paulo', u'paupered', u'pavilion', u'pavlova', u'pay', u'paypal', u'payphone', u'pays', u'pbh2', u'pbs', u'pc', u'pcmag', u'pcos', u'pcs', u'pcworld', u'pdf', u'pea', u'peace', u'peach', u'peaches', u'peanut', u'peanuts', u'peanutty', u'pear', u'pearce', u'pearl', u'pears', u'peas', u'pebbles', u'pecan', u'pecans', u'pedestrian', u'pediatrician', u'pee', u'peek', u'peel', u'peeling', u'peeper', u'peer', u'peggy', u'pellegrini', u'pen', u'penalty', u'pencil', u'pendleton', u'penelope', u'penguins', u'penn', u'pennant', u'penne', u'pennies', u'penny', u'pensito', u'penzeys', u'people', u'pepper', u'peppercorn', u'peppermint', u'pepperoni', u'peppers', u'pepsi', u'percent', u'perez', u'perfect', u'perfection', u'perfectly', u'performance', u'performence', u'performing', u'perfumes', u'peril', u'perillo', u'period', u'periodic', u'perla', u'permanent', u'permit', u'pernil', u'perplexed', u'perry', u'perrys', u'persia', u'persimmon', u'persistent', u'person', u'personal', u'personality', u'personas', u'personnel', u'perspective', u'peruvian', u'pervy', u'pesto', u'pet', u'peta', u'pete', u'peter', u'peterson', u'petite', u'petition', u'petrol', u'pew', u'pfb', u'pg', u'pg13', u'ph', u'pham', u'pharm', u'pharma', u'pharmaceutical', u'pharmacist', u'pharmacy', u'pharmacywebstore', u'phemme', u'phil', u'philadelphia', u'philippines', u'philips', u'phillies', u'phillips', u'philly', u'phillyburbs', u'philosophy', u'pho', u'phoenix', u'phone', u'phones', u'phoodie', u'photo', u'photobomb', u'photobombs', u'photograph', u'photographed', u'photographer', u'photographers', u'photographs', u'photography', u'photograzing', u'photos', u'photoset', u'photoshop', u'photostream', u'photosynth', u'photovoltaic', u'phrases', u'phyllo', u'physical', u'physician', u'physics', u'physiologic', u'physiology', u'pi', u'piabarile', u'pic', u'piccata', u'piccsy', u'picdump', u'pick', u'pickle', u'pickles', u'picks', u'pickthebrain', u'pickup', u'picky', u'pickycook', u'pico', u'pics', u'picselate', u'picture', u'pictured', u'pictures', u'pie', u'piece', u'pieces', u'pierogi', u'pies', u'pig', u'piggy', u'piggyback', u'pigs', u'pigskin', u'piirmek', u'pile', u'pilgrim', u'pill', u'pillow', u'pillows', u'pills', u'pillsbury', u'pilot', u'piloto', u'pimp', u'pimple', u'pimps', u'pin', u'pinch', u'pincookie', u'pineapple', u'pinfographics', u'ping', u'pink', u'pint', u'pinteresting', u'pinuplifestyle', u'pinwheel', u'pinwheels', u'pioneer', u'pipe', u'piped', u'pippie', u'pique', u'pirate', u'pirates', u'pirating', u'piss', u'pistachio', u'pistof', u'pistol', u'pistorius', u'pit', u'pita', u'pitt', u'pittsburgh', u'pivovarova', u'pixels', u'pixie', u'pizza', u'pizzaiola', u'pizzas', u'pizzzzookie', u'place', u'places', u'plague', u'plagued', u'plain', u'plan', u'plane', u'planet', u'planetsolar', u'plank', u'planner', u'planning', u'plans', u'plant', u'plants', u'plasma', u'plastered', u'plastic', u'plasticland', u'plastics', u'plate', u'plateau', u'plates', u'platform', u'plato', u'platter', u'play', u'playa', u'playable', u'playbook', u'player', u'players', u'playing', u'playlist', u'playlists', u'plays', u'playstation', u'pleases', u'pleasure', u'pleasures', u'pleats', u'ploomy', u'plorf', u'plot', u'plotnikov', u'plugs', u'plum', u'plunging', u'plus', u'plush', u'plywood', u'pneumatic', u'png', u'poach', u'poached', u'poblanos', u'pocahontas', u'pocket', u'pockets', u'pod', u'poem', u'pogo', u'point', u'pointers', u'pointing', u'points', u'poison', u'poisoned', u'pok', u'pokemon', u'poketo', u'poland', u'polar', u'polaroid', u'polenta', u'poles', u'police', u'polio', u'polish', u'politanoff', u'polite', u'political', u'politics', u'politik', u'poll', u'pollo', u'polo', u'polyphasic', u'polyvore', u'pom', u'pomegranate', u'pomegrantate', u'pompelmocello', u'poms', u'pong', u'ponytail', u'pool', u'poop', u'poor', u'pop', u'popcorn', u'pophangover', u'poppers', u'poppyseed', u'pops', u'popsicle', u'popsicles', u'poptarts', u'popular', u'porizkova', u'pork', u'porn', u'portable', u'portada', u'portakal', u'portal', u'porter', u'porterhousemedia', u'portfolio', u'portion', u'portland', u'portrait', u'portugese', u'posed', u'poses', u'posing', u'positioning', u'positive', u'possibility', u'possible', u'post', u'postal', u'poster', u'posters', u'posts', u'posture', u'pot', u'potato', u'potatoes', u'potatoeshow', u'potluck', u'potlucks', u'pots', u'potter', u'poultry', u'pound', u'pounds', u'pour', u'powder', u'powdered', u'powell', u'power', u'powerbocks', u'powered', u'powerful', u'powergirl18', u'practical', u'practically', u'practices', u'prada', u'praise', u'praises', u'praline', u'prank', u'pranked', u'pranks', u'pravda', u'praver', u'pray', u'pre', u'precocious', u'predict', u'predicted', u'prediction', u'predictions', u'predicts', u'prefer', u'pregnancy', u'pregnant', u'premier', u'premium', u'prep', u'preparation', u'preparations', u'prepare', u'preparing', u'preppers', u'prescription', u'presence', u'present', u'presenta', u'preserve', u'presidency', u'president', u'presidents', u'presley', u'press', u'pressure', u'prestigious', u'pretty', u'pretzel', u'pretzels', u'prevent', u'preventing', u'prevention', u'preventions', u'preview', u'previous', u'prices', u'pricing', u'pride', u'primal', u'primavera', u'prime', u'primer', u'prince', u'princess', u'princesses', u'principles', u'pringle', u'print', u'printables', u'printed', u'printer', u'printers', u'printing', u'printrbot', u'prints', u'prioritize', u'priority', u'prism', u'prison', u'prisoner', u'private', u'privilege', u'prize', u'pro', u'probably', u'probiotic', u'probiotics', u'problem', u'problems', u'procedures', u'process', u'processed', u'processing', u'prodigits', u'produce', u'producer', u'product', u'production', u'productive', u'productivity', u'products', u'proenza', u'professional', u'professionals', u'professor', u'profile', u'profiler', u'profiles', u'profit', u'program', u'programmers', u'programmes', u'programming', u'progress', u'prohibition', u'project', u'projectile', u'projection', u'projector', u'projectors', u'projects', u'projo', u'proletariat', u'prom', u'promises', u'proof', u'propelled', u'properly', u'property', u'proportions', u'proposal', u'proposes', u'propulsion', u'prosciutto', u'prostate', u'prosthetic', u'prosthetics', u'prostitute', u'protect', u'protectie', u'protecting', u'protection', u'protects', u'protein', u'proteins', u'protest', u'protesters', u'protests', u'prototype', u'prove', u'proven', u'provide', u'providence', u'provides', u'prozac', u'prune', u'pryor', u'ps3', u'ps3s', u'psa', u'psn', u'psyched', u'psychedelic', u'psychiatric', u'psychology', u'public', u'publicityclerks', u'published', u'publishers', u'pubmed', u'pudding', u'puddings', u'puff', u'puffed', u'puffs', u'puffy', u'pull', u'pulled', u'pulling', u'pulls', u'pulp', u'pulse', u'pumpkin', u'pumpkins', u'punch', u'punches', u'punchfork', u'punctures', u'punisher', u'punk', u'pupil', u'puppy', u'purchases', u'purchasing', u'pure', u'purelite', u'purple', u'purplevogue', u'purposes', u'purse', u'pursuit', u'pur\\xe9e', u'push', u'pushup', u'pussycat', u'puts', u'pw', u'pwnage', u'pyramid', u'pythagorean', u'p\\xe9pin', u'q4', u'qb', u'qbs', u'qdb', u'qr', u'qtvr', u'quackwatch', u'quad', u'quadrotors', u'quake', u'qualcomm', u'qualities', u'quality', u'quandaries', u'quantum', u'quarter', u'quazen', u'quebec', u'queen', u'queenbeeofbeverlyhills', u'queenofthecute', u'queens', u'quentin', u'quesadilla', u'quesadillas', u'queso', u'quest', u'question', u'questionably', u'questioning', u'questions', u'quiche', u'quick', u'quickest', u'quickies', u'quickly', u'quieter', u'quinoa', u'quirky', u'quit', u'quitting', u'quiz', u'quotable', u'quote', u'quotes', u'r9', u'rabbis', u'rabbits', u'rabe', u'raccoon', u'race', u'races', u'racetrack', u'rachael', u'racing', u'racism', u'racist', u'racists', u'racy', u'radial', u'radiation', u'radiatori', u'radio', u'radiology', u'radsportbekleidung', u'rae', u'rag', u'ragazze', u'rage', u'ragout', u'rahman', u'rahway', u'raid', u'railway', u'rain', u'rainbow', u'rainforests', u'rainy', u'raises', u'raisin', u'raita', u'rally', u'ramadan', u'ramazan', u'rambler', u'ramblings', u'ramen', u'ramp', u'ramsay', u'ran', u'ranch', u'rancheros', u'random', u'randompics', u'range', u'ranges', u'rank', u'ranking', u'rant', u'rantings', u'rao', u'rap', u'rape', u'rapid', u'rapids', u'raptor', u'rapunzel', u'raquel', u'rare', u'rarebit', u'raspberry', u'ratatouille', u'rate', u'rated', u'ratings', u'ravens', u'ravioli', u'raw', u'ray', u'rays', u'rd', u'reaction', u'reactions', u'reacts', u'read', u'reader', u'readers', u'reading', u'ready', u'real', u'realage', u'reality', u'realize', u'realized', u'really', u'realonlinedegrees', u'realsimple', u'reason', u'reasons', u'recall', u'recalls', u'receive', u'recent', u'reception', u'recess', u'recettes', u'recipage', u'recipe', u'recipegirl', u'recipematcher', u'recipes', u'recipesource', u'recipetips', u'recipies', u'recognition', u'recognizable', u'recommendations', u'recon', u'record', u'records', u'recover', u'recovery', u'recreating', u'recruiting', u'recursion', u'recycle', u'recyclebank', u'recycling', u'red', u'reddit', u'redheads', u'redirecting', u'redirects', u'redneck', u'redorbit', u'reduce', u'reduces', u'reducing', u'reduction', u'ree', u'reebok', u'reed', u'reel', u'reelcreations', u'reem', u'reese', u'refaeli', u'referee', u'referees', u'refinery29', u'reflects', u'reflux', u'reform', u'reforma', u'refresher', u'refuge', u'refuse', u'refuses', u'regaining', u'regenerating', u'regeneration', u'regional', u'registan', u'register', u'regretful', u'regrets', u'regular', u'reincarnate', u'reinhart', u'reinvent', u'rejoice', u'rejuvenate', u'relate', u'related', u'relationship', u'relax', u'relaxation', u'relay', u'release', u'released', u'releases', u'relief', u'relieve', u'reliever', u'relieves', u'religion', u'relish', u'relishing', u'relive', u'rellenos', u'rely', u'remains', u'remarkable', u'remedies', u'remedy', u'remember', u'remembrance', u'reminder', u'remote', u'removal', u'remove', u'removes', u'removing', u'renault', u'renders', u'rendition', u'renee', u'renewable', u'renn', u'reno', u'reoccuring', u'reopen', u'repair', u'repairs', u'replace', u'replacement', u'report', u'reportage', u'reported', u'reportedly', u'reporter', u'reporters', u'reporting', u'reputation', u'request', u'required', u'rescue', u'rescues', u'research', u'researchers', u'reset', u'residents', u'resimli', u'resistance', u'resistant', u'resolutions', u'resort', u'resorts', u'resource', u'resources', u'respect', u'response', u'responsibility', u'responsible', u'responsive', u'rest', u'restaurant', u'restaurants', u'restoratives', u'result', u'results', u'resume', u'resurfacing', u'retail', u'retaliation', u'retardant', u'rethinking', u'retractable', u'retro', u'return', u'returned', u'returner', u'returns', u'reuben', u'reunion', u'reused', u'reusing', u'reuters', u'reveal', u'revealed', u'reveals', u'revenge', u'revenue', u'reverse', u'review', u'reviews', u'revive', u'revolting', u'revolution', u'revolutionary', u'revolutionizing', u'revved', u'reward', u'rewards', u'rex', u'rhapsody', u'rheumatoid', u'rhiannon', u'rhoda', u'rhode', u'rhubarb', u'rib', u'ribbons', u'ribs', u'ricardo', u'rice', u'ricette', u'rich', u'richards', u'richer', u'richest', u'rick', u'rickie', u'rico', u'ricotta', u'rid', u'ridden', u'riddle', u'ride', u'riders', u'ridiculous', u'rifle', u'rigatoni', u'right', u'rimino', u'ring', u'rings', u'rio', u'riot', u'riots', u'ripest', u'ripken', u'ripoff', u'ripped', u'rise', u'rises', u'rising', u'risk', u'risks', u'risotto', u'ritchie', u'rites', u'ritual', u'rival', u'rivals', u'rivers', u'rives', u'rngg', u'road', u'roadside', u'roast', u'roasted', u'rob', u'robber', u'robbie', u'robin', u'robinot', u'robo', u'robokopter', u'robot', u'robots', u'rocher', u'rochester', u'rock', u'rocket', u'rocks', u'rockstars', u'rocky', u'rod', u'rodale', u'rodarte', u'rode', u'rodgers', u'roger', u'rohamos', u'rohrig', u'roi', u'role', u'roles', u'rolex', u'roll', u'rollatini', u'rolled', u'rollerblades', u'rollerphone', u'rolling', u'rolls', u'rolo', u'roma', u'romance', u'romantic', u'romo', u'romp', u'ron', u'ronaldinho', u'ronaldo', u'rookie', u'room', u'roommates', u'rooney', u'root', u'rooting', u'roots', u'rope', u'roquefort', u'rose', u'rosemary', u'roses', u'rosetta', u'rosh', u'roshe', u'rot', u'rotary', u'rotatable', u'rotates', u'rotation', u'rotini', u'rotisserie', u'rouge', u'roulade', u'roulette', u'round', u'roundup', u'router', u'routes', u'routine', u'routzen', u'row', u'rowe', u'rowley', u'roxana', u'roxanne', u'royal', u'royale', u'rpg', u'rr', u'rsaquo', u'rsquo', u'ru', u'rubble', u'ruchette', u'rudy', u'rugby', u'ruhlman', u'rule', u'rules', u'rum', u'rumors', u'rumours', u'run', u'rundown', u'runners', u'running', u'runs', u'runway', u'runways', u'ruptured', u'rush', u'russell', u'russia', u'russian', u'russischer', u'ruth', u'ryan', u'ryukyu', u'r\\xe9gis', u's3', u'sa', u'saab', u'sabotage', u'sacek', u'safari', u'safe', u'safely', u'safer', u'safety', u'sag', u'saga', u'sage', u'sahur', u'said', u'sailing', u'sailor', u'sailplane', u'saint', u'salad', u'salaries', u'sale', u'salem', u'sales', u'salesman', u'saliva', u'salmon', u'salon', u'salons', u'salsa', u'salt', u'salted', u'saltine', u'salts', u'salty', u'sam', u'samoa', u'samoas', u'samsung', u'samuel', u'san', u'sandals', u'sandie', u'sandra', u'sandusky', u'sandwhich', u'sandwich', u'sandwiches', u'sandy', u'sang', u'sangria', u'sanitaryum', u'sanitized', u'sans', u'santa', u'sara', u'sarah', u'sarahyba', u'saran', u'sarcastic', u'sarcoidosis', u'sarcos', u'sargent', u'sartorialist', u'sasha', u'sasquatch', u'sass', u'satay', u'satellite', u'satire', u'satisfy', u'satisfying', u'saturday', u'saturn', u'sauce', u'sauces', u'saucy', u'saud\\xe1vel', u'sauna', u'sausage', u'saut', u'saut\\xe9ed', u'savage', u'save', u'saved', u'saver', u'saves', u'saving', u'savings', u'savor', u'savoring', u'savory', u'savour', u'savvy', u'say', u'sayers', u'saying', u'sayonara', u'says', u'sc', u'scale', u'scales', u'scallion', u'scalloped', u'scallops', u'scam', u'scamming', u'scandals', u'scandinavia', u'scanner', u'scanners', u'scans', u'scapegoat', u'scare', u'scarf', u'scariest', u'scarletta', u'scars', u'scarves', u'scary', u'scene', u'scenes', u'scent', u'scents', u'schaal', u'schedule', u'schedules', u'schnitzel', u'scholarship', u'school', u'schoolboys', u'schoolgirls', u'schools', u'schouler', u'schrenk', u'schwarzenegger', u'sci', u'science', u'scienceroll', u'scientific', u'scientist', u'scientists', u'scientology', u'sclerosis', u'scones', u'scoop', u'scoopertino', u'scooping', u'scoops', u'scoota', u'scooter', u'scooters', u'scope', u'score', u'scores', u'scoring', u'scotch', u'scotland', u'scots', u'scott', u'scottsdale', u'scout', u'scouts', u'scrambled', u'scranton', u'scrapped', u'scraps', u'scratch', u'scream', u'screen', u'screencaps', u'screens', u'screw', u'scribbles', u'scrubs', u'scrumptious', u'sculpture', u'sculptured', u'sculptures', u'se', u'sea', u'seafolly', u'seafood', u'seahawks', u'seal', u'seals', u'seams', u'search', u'seared', u'seasaltwithfood', u'season', u'seasonal', u'seasoned', u'seasons', u'seattle', u'seau', u'seco', u'second', u'seconds', u'secret', u'secrets', u'section', u'sector', u'secure', u'security', u'sedent\\xe1rio', u'seder', u'seductive', u'seed', u'seeds', u'seek', u'seemingly', u'seen', u'sees', u'segway', u'seinfeld', u'seize', u'seized', u'seizure', u'seizures', u'sel', u'select', u'selecting', u'selection', u'selena', u'self', u'selfless', u'selita', u'sell', u'selling', u'sells', u'semantic', u'semen', u'semi', u'semisweet', u'senator', u'sending', u'sends', u'senior', u'sensation', u'sensational', u'sensations', u'sense', u'senses', u'sensitive', u'sentinel', u'sentosa', u'sentry', u'senuke', u'senza', u'seo', u'separate', u'sept', u'sequences', u'sequin', u'serene', u'serenity', u'series', u'seriously', u'serve', u'served', u'server', u'service', u'services', u'serving', u'ses', u'sesame', u'set', u'setareh', u'seth', u'sets', u'setting', u'seu', u'seven', u'sewers', u'sewing', u'sex', u'sexiest', u'sexifying', u'sexists', u'sexual', u'sexy', u'sez', u'sf', u'sfc', u'sfw', u'sh', u'shabby', u'shake', u'shakes', u'shakshuka', u'sham', u'shameless', u'shampoo', u'shamrocks', u'shamwow', u'shannan', u'shaolin', u'shaolinsoccer', u'shape', u'shapes', u'shaping', u'shaq', u'share', u'shareitfitness', u'sharer', u'sharing', u'shark', u'sharks', u'sharon', u'sharper', u'sharpie', u'shattered', u'shattering', u'shave', u'shaved', u'shawarma', u'shayk', u'shebreathes', u'shed', u'sheep', u'sheet', u'sheets', u'shell', u'shells', u'shenanigans', u'shepherd', u'sherweb', u'shield', u'shifting', u'shiitake', u'shimmy', u'shin', u'shine', u'shinjaga', u'shiny', u'shipping', u'ships', u'shirt', u'shirtless', u'shirts', u'shit', u'shitcones', u'shock', u'shocking', u'shockproof', u'shocks', u'shoe', u'shoeblog', u'shoelace', u'shoes', u'shoot', u'shooter', u'shooters', u'shooting', u'shootings', u'shoots', u'shop', u'shopper', u'shoppers', u'shopping', u'shopruche', u'shops', u'shopsavvy', u'shore', u'short', u'shortbread', u'shortcake', u'shortcakes', u'shortform', u'shorts', u'shot', u'shots', u'shoulder', u'shouldn', u'shouyu', u'showcase', u'showcased', u'showdown', u'showed', u'shower', u'showers', u'showing', u'shows', u'shredded', u'shreveporttimes', u'shrimp', u'shrinking', u'shrove', u'shugary', u'shut', u'shutdown', u'shutterbean', u'shuttle', u'shuttlecocks', u'shweeb', u'shwood', u'shy', u'si', u'sib', u'sibling', u'siblings', u'sicilian', u'sick', u'sidaka', u'sideburns', u'sidecooke', u'sideoats', u'sides', u'sight', u'sights', u'sign', u'signage', u'signal', u'signatures', u'signed', u'signs', u'silence', u'silent', u'silica', u'silicon', u'silk', u'silly', u'silver', u'simmer', u'simple', u'simplest', u'simplicity', u'simplicityisbliss', u'simplify', u'simply', u'simplyclutch', u'simpson', u'simpsons', u'sims', u'sinclair', u'sinfest', u'sinfully', u'sing', u'singapore', u'singh', u'singing', u'single', u'sink', u'sins', u'sinus', u'sip', u'sir', u'siri', u'sirloin', u'sit', u'site', u'sites', u'sitesi', u'sitting', u'situation', u'situations', u'sixface', u'size', u'sized', u'sizes', u'sizzled', u'skate', u'skateboard', u'skatepark', u'skating', u'skehan', u'skeleton', u'sketch', u'skewers', u'ski', u'skiers', u'skies', u'skill', u'skilled', u'skillet', u'skills', u'skin', u'skincare', u'skinny', u'skinnytaste', u'skinput', u'skins', u'skip', u'skirt', u'skirts', u'skittles', u'skull', u'skullcake04', u'skulls', u'skunkboy', u'sky', u'skydiver', u'skylabs', u'skylines', u'skyrim', u'skyscrapers', u'skywalker', u'slab', u'slabs', u'slack', u'slackdaddy', u'slalom', u'slam', u'slamball', u'slang', u'slap', u'slapped', u'slaps', u'slashed', u'slashfood', u'slated', u'slaughter', u'slave', u'sleds', u'sleep', u'sleepchart', u'sleeping', u'sleepless', u'sleeplessness', u'sleepyti', u'sleeve', u'sleeveless', u'slice', u'slicer', u'slices', u'slide', u'slider', u'sliders', u'slideshow', u'slideshows', u'slim', u'slimmer', u'slimming', u'sling', u'slingshot', u'slip', u'slippers', u'sloppy', u'sloth', u'slouching', u'slow', u'slowly', u'slushie', u'slutty', u'smacked', u'small', u'smallest', u'smart', u'smartdeblur', u'smarter', u'smartest', u'smartmeasure', u'smartphone', u'smartphones', u'smarts', u'smash', u'smashed', u'smashing', u'smell', u'smelling', u'smile', u'smiley', u'smiling', u'smith', u'smithsonian', u'smitten', u'smoke', u'smoked', u'smoker', u'smokin', u'smoking', u'smoky', u'smooth', u'smoother', u'smoothie', u'smoothies', u'smore', u'smores', u'sms', u'smuggling', u'snack', u'snackadiums', u'snacking', u'snacks', u'snake', u'snap', u'snaps', u'sneak', u'sneaker', u'sneakers', u'sneeze', u'sneezes', u'snibbe', u'snickerdoodle', u'snickerdoodles', u'snickers', u'snip', u'sniper', u'snipers', u'snosoft', u'snotr', u'snow', u'snowball', u'snowballs', u'snowboard', u'snowboarder', u'snowboarding', u'snowlady', u'snowmobile', u'snozzberries', u'soaked', u'sobre', u'soccer', u'social', u'socialbliss', u'socialite', u'socialites', u'socialized', u'socially', u'society', u'socoting', u'soda', u'sodexo', u'sofralar', u'soft', u'softball', u'software', u'solar', u'sold', u'soldier', u'solely', u'soles', u'solid', u'solo', u'solution', u'solutions', u'solve', u'solved', u'solvent', u'somali', u'somalia', u'someecards', u'son', u'song', u'songbirds', u'songs', u'sonic', u'sonoma', u'sony', u'soon', u'soopa', u'sophistimom', u'sorbet', u'sorbets', u'sore', u'sorensen', u'sorrenti', u'sorry', u'sort', u'souffle', u'souffles', u'souffl\\xe9', u'soul', u'sound', u'sounds', u'soup', u'soupbelly', u'souped', u'soups', u'soupy', u'sour', u'source', u'sources', u'sourdough', u'sous', u'south', u'southern', u'southwest', u'southwestern', u'sox', u'soy', u'spa', u'space', u'spaceflight', u'spaces', u'spaetzle', u'spaghetti', u'spaghettios', u'spain', u'spambank', u'spanakopita', u'spandex', u'spanish', u'spark', u'sparkles', u'sparkly', u'sparks', u'spartan', u'spas', u'speak', u'speakeasy', u'speaker', u'speakers', u'speaks', u'spear', u'special', u'specialize', u'specials', u'specialshit', u'specialty', u'spectacular', u'spectators', u'sped', u'speech', u'speed', u'speedway', u'speedy', u'spelled', u'spelling', u'spelt', u'spence', u'spend', u'spent', u'sperm', u'spewing', u'sphere', u'spice', u'spiced', u'spices', u'spicy', u'spider', u'spiders', u'spiedini', u'spiegel', u'spiffy', u'spike', u'spiked', u'spilled', u'spills', u'spin', u'spinach', u'spinelli', u'spins', u'spiral', u'spitefully', u'splendora', u'split', u'spohrs', u'sponge', u'spongebob', u'sponsored', u'spooky', u'spoon', u'spoonful', u'sport', u'sporting', u'sports', u'sportsbybrooks', u'sportscenter', u'sportsgames', u'sportsmanship', u'spot', u'spotlight', u'spots', u'spotted', u'spray', u'spread', u'spreadsheet', u'spreadsheets', u'spring', u'springfield', u'springpad', u'sprinkle', u'sprinkles', u'sprint', u'sprinter', u'spritz', u'spritzer', u'sprouting', u'sprouts', u'spuzz', u'spy', u'spyware', u'squad', u'square', u'squares', u'squash', u'squat', u'squats', u'squatting', u'squeeze', u'squirrel', u'squirtle', u'sriracha', u'ss', u'ss12', u'st', u'stability', u'stacey', u'stacie', u'stackers', u'stadium', u'stadiums', u'staff', u'stages', u'stagnating', u'stainless', u'stairs', u'stairset', u'stairway', u'stakes', u'stampede', u'stand', u'standard', u'standby', u'standings', u'standpoint', u'stanford', u'stanley', u'staple', u'staples', u'star', u'starbuck', u'starburst', u'starcasm', u'stare', u'stargazer', u'stars', u'start', u'startcooking', u'started', u'starter', u'starting', u'startling', u'startups', u'starved', u'state', u'stated', u'statements', u'states', u'station', u'stats', u'stave', u'stay', u'stays', u'staysmart', u'steak', u'steaks', u'steal', u'steals', u'stealthy', u'steam', u'steamed', u'steampunk', u'steamy', u'steel', u'steepest', u'steer', u'stefano', u'steiner', u'stella', u'stellar', u'stem', u'step', u'stepcase', u'stephanies', u'stephen', u'steps', u'ster', u'stereo', u'sterilization', u'sterling', u'steroids', u'stethoscope', u'stetted', u'steve', u'steven', u'stevens', u'stew', u'stewart', u'stewie', u'stick', u'stickers', u'sticking', u'sticks', u'sticky', u'stilettos', u'stimulus', u'stings', u'stinks', u'stir', u'stirring', u'stocked', u'stockholm', u'stockings', u'stokke', u'stole', u'stolen', u'stomach', u'stomp', u'stone', u'stoned', u'stoning', u'stop', u'stopped', u'stops', u'storage', u'storages', u'store', u'storebought', u'stores', u'stories', u'storing', u'storm', u'storms', u'story', u'storyteller', u'stout', u'stovall', u'stove', u'stover', u'stovetop', u'straight', u'strain', u'stranded', u'strange', u'stranger', u'strangers', u'strangest', u'strata', u'strategies', u'strategy', u'stratos', u'strawberries', u'strawberry', u'straws', u'streak', u'streaker', u'stream', u'streb', u'street', u'streetball', u'streets', u'streetstyle', u'strength', u'stress', u'stressed', u'stretch', u'stretchable', u'stretches', u'stretching', u'streusel', u'strike', u'strikeout', u'strikes', u'stripped', u'stripper', u'strips', u'stroganoff', u'stroke', u'strokes', u'strong', u'stronger', u'structural', u'structure', u'strudels', u'struesel', u'struzan', u'stubborn', u'stuck', u'studded', u'student', u'students', u'studies', u'studio', u'study', u'stuff', u'stuffed', u'stuffing', u'stuffs', u'stumbled', u'stumbleupon', u'stunning', u'stupid', u'stutzman', u'style', u'stylecaster', u'stylefiles', u'styles', u'stylesays', u'styling', u'stylish', u'su', u'sublet', u'subletting', u'submarine', u'submarines', u'submersible', u'submissions', u'substitutions', u'suburban', u'suburbia', u'subway', u'success', u'successful', u'suck', u'sudden', u'suddenly', u'sue', u'sued', u'suerte', u'sues', u'suffer', u'suffering', u'suffers', u'sufficiency', u'sugar', u'sugarcrafter', u'sugared', u'sugarfree', u'sugarlaws', u'sugary', u'suggest', u'sui', u'suicide', u'suing', u'suit', u'suitcase', u'suite', u'sukiyaki', u'summaries', u'summarized', u'summer', u'summerskin009', u'summery', u'summit', u'summon', u'sums', u'sun', u'sundae', u'sunday', u'sundays', u'sundaysupper', u'sung', u'sunglasses', u'sunlight', u'sunrise', u'sunscreen', u'sunscreens', u'sunset', u'sup', u'super', u'superba', u'superbien', u'superbowlads', u'superbug', u'superbugs', u'superbus', u'supercomputer', u'superconductors', u'superfan', u'superfast', u'superfoods', u'superhero', u'superheroes', u'superhuman', u'superhydrophobic', u'superior', u'superman', u'supermodels', u'supersite', u'supersizedmeals', u'supersonic', u'superstar', u'superstitious', u'superteams', u'superwife', u'supper', u'supplements', u'supplementsiq', u'supplier', u'supply', u'support', u'supports', u'suppressant', u'supremacy', u'supreme', u'sure', u'surefire', u'surf', u'surface', u'surfaces', u'surfing', u'surgeons', u'surgery', u'surgical', u'suri', u'surplus', u'surprise', u'surprising', u'surprisingly', u'surround', u'surselor', u'survey', u'survival', u'survivalists', u'survive', u'survived', u'survives', u'surviving', u'survivor', u'survivors', u'sushi', u'suspect', u'suspected', u'suspended', u'suspiciously', u'sustainable', u'sustaining', u'suv', u'suy', u'suzette', u'su\\xe1rez', u'swab', u'swag', u'swallow', u'swallowing', u'swampland', u'swanky', u'swarm', u'swat', u'sway', u'swear', u'sweat', u'sweaters', u'sweaty', u'sweden', u'swedish', u'sweeney', u'sweet', u'sweetapolita', u'sweetcorn', u'sweetest', u'sweetie', u'sweeties', u'sweetopia', u'sweets', u'swerve', u'swimmers', u'swimming', u'swimsuit', u'swimwear', u'swine', u'swing', u'swipelife', u'swirl', u'swiss', u'switch', u'switzerland', u'sydney', u'sylvia', u'symbol', u'symbols', u'symmetry', u'symptom', u'symptoms', u'synapse', u'synchronizing', u'syndic8', u'syndicate', u'syndrome', u'synergies', u'synthetic', u'syphoning', u'syria', u'syrian', u'syringe', u'syrup', u'systems', u'szechuan', u'table', u'tablespoon', u'tablet', u'tablets', u'tackle', u'tackling', u'taco', u'tacos', u'tactic', u'tactics', u'tag', u'tage', u'tagliatelle', u'tags', u'tahini', u'tailor', u'tailoring', u'tailors', u'tails', u'taimur', u'taiwan', u'taj', u'takedown', u'taken', u'takeout', u'takeover', u'takepart', u'takers', u'takes', u'taking', u'tale', u'talented', u'talenti', u'tales', u'talia', u'talian', u'taliban', u'talk', u'talked', u'talking', u'talks', u'talksport', u'tall', u'tamale', u'tammy', u'tamper', u'tan', u'tandao', u'tanga', u'tangerine', u'tangy', u'tank', u'tanner', u'tanning', u'tantrums', u'tap', u'tape', u'tapenade', u'tapping', u'taqueria', u'taquitos', u'tarantino', u'target', u'tarifler', u'tarifleri', u'tarragon', u'tart', u'tarte', u'tartelette', u'tartlet', u'tartlets', u'tarts', u'tarty', u'tasing', u'taste', u'tasted', u'tasteologie', u'tastes', u'tastespotting', u'tastier', u'tasting', u'tasty', u'tat', u'tater', u'tatin', u'tattoo', u'tattoos', u'taught', u'taunting', u'tax', u'taxi', u'taylor', u'tb', u'tbd', u'tcpalm', u'td', u'tea', u'teach', u'teacher', u'teachers', u'teaches', u'team', u'teambuy', u'teams', u'teare', u'tears', u'teaspoons', u'teatime', u'tebow', u'tech', u'techcrunch', u'techdirt', u'techflesh', u'techies', u'techland', u'techmunch', u'technically', u'techniques', u'technocage', u'technological', u'technologies', u'technology', u'techology', u'techrepublic', u'techrospective', u'techzug', u'ted', u'tedmed', u'tedxnextgenerationasheville', u'tee', u'teen', u'teenage', u'teenagers', u'teens', u'teenvogue', u'tees', u'teese', u'teeth', u'teigen', u'tejal', u'tektuff', u'telegraph', u'television', u'televisions', u'tell', u'telling', u'tells', u'tempeh', u'temperature', u'temple', u'templete', u'temporarily', u'tempting', u'tenants', u'tenderloin', u'tenderloins', u'tenders', u'tennis', u'tensing', u'tension', u'tequila', u'teriyaki', u'term', u'terms', u'terracotta', u'terrafugia', u'terri', u'terrible', u'terrifying', u'terrifyingly', u'terroristic', u'test', u'tested', u'testicle', u'testifies', u'testing', u'testosterone', u'tests', u'testsounds', u'tetrazzini', u'tetris', u'tex', u'texan', u'texas', u'texasbbqrub', u'textbook', u'textbooks', u'texting', u'texts', u'tf', u'tg', u'tgi', u'thaad', u'thai', u'thailand', u'thank', u'thankful', u'thanks', u'thanksgiving', u'theater', u'theatre', u'theberry', u'thebloggess', u'thecontaminated', u'thedropnyc', u'thefabchronicles', u'theflossylife', u'theft', u'thegloss', u'thekitchensinkrecipes', u'theme', u'themed', u'theodent', u'theories', u'theory', u'thepassionatecook', u'therapy', u'thesaurus', u'thetan', u'thetimes', u'theunion', u'thief', u'thieves', u'thighs', u'thing', u'thingpart', u'things', u'think', u'thinkgeek', u'thinking', u'thinner', u'thinness', u'thirdage', u'thirty', u'thom', u'thomas', u'thor', u'thorn', u'thought', u'thoughtless', u'thoughts', u'thousand', u'thousands', u'thread', u'threadsence', u'threat', u'threats', u'threw', u'thrice', u'thrifting', u'thrifty', u'thrilling', u'thrive', u'throat', u'throw', u'throwdown', u'throwing', u'thrown', u'thumbdrive', u'thyme', u'tian', u'ticket', u'ticketcity', u'tickets', u'tickled', u'tickling', u'tidymom', u'tie', u'tienes', u'tier', u'tierra', u'ties', u'tiger', u'tight', u'tights', u'tightsplease', u'tikka', u'til', u'tilapia', u'tim', u'time', u'timeless', u'timeline', u'times', u'timeye', u'timothy', u'tin', u'tina', u'tinkerer', u'tiny', u'tip', u'tipnut', u'tips', u'tique', u'tiramisu', u'tire', u'tired', u'tires', u'tissue', u'tissues', u'titanic', u'titles', u'tlc', u'toast', u'toastabags', u'toasted', u'tobi', u'toblerone', u'today', u'todd', u'toenail', u'toes', u'toffee', u'tofu', u'toilet', u'toke', u'tokyo', u'tokyofashion', u'told', u'tolf', u'tomacco', u'tomato', u'tomatoes', u'tombanwell', u'tomkat', u'tommy', u'tomorrow', u'ton', u'toned', u'tones', u'tonight', u'toning', u'tonus', u'tony', u'took', u'tool', u'tooled', u'tools', u'tooth', u'toothbrush', u'toothpaste', u'topic', u'topless', u'topol', u'topped', u'topper', u'topping', u'toppled', u'tops', u'torch', u'torchbearer', u'tori', u'toroidal', u'toronto', u'torta', u'tortellini', u'tortilla', u'tortillas', u'torture', u'tos', u'tosca', u'toscanini', u'toshiba', u'toss', u'tossing', u'total', u'totally', u'totallycoolpix', u'totchos', u'totem', u'tots', u'touch', u'touchable', u'touchdown', u'touches', u'touching', u'touchpuppet', u'touchscreen', u'touchscreens', u'tough', u'tougher', u'tour', u'tourists', u'tower', u'towering', u'town', u'toxic', u'toxins', u'toy', u'toys', u'track', u'tracked', u'tracker', u'tracking', u'tracks', u'trade', u'trademarks', u'trading', u'tradition', u'traditional', u'traffic', u'tragedy', u'trail', u'trailer', u'train', u'trainer', u'trainers', u'training', u'tramadol', u'trampoline', u'transfer', u'transform', u'transformation', u'transformed', u'transforms', u'transfusion', u'transition', u'translated', u'translation', u'transmit', u'transparency', u'transparent', u'transplant', u'transport', u'transportation', u'trap', u'trapeze', u'trapped', u'trash', u'trauma', u'travel', u'traveler', u'travelers', u'travels', u'travors', u'traybake', u'tread', u'treadmill', u'treanor', u'treasuredress', u'treat', u'treatment', u'treatments', u'treats', u'tree', u'treehugger', u'trees', u'trek', u'trenches', u'trend', u'trends', u'trendy', u'trendycrew', u'trent', u'tres', u'trespass', u'trevor', u'tri', u'trial', u'trials', u'triangle', u'triangles', u'triathlon', u'tribe', u'tribesports', u'tribune', u'triceps', u'trick', u'tricked', u'tricks', u'tricycles', u'tried', u'tries', u'trifle', u'triggers', u'trillion', u'trim', u'trimmed', u'tringali', u'trinidad', u'trip', u'triple', u'trips', u'triptophan', u'trissalicious', u'triton', u'trivial', u'trixan', u'trojan', u'troll', u'trolling', u'troops', u'tropical', u'trott', u'trouble', u'truck', u'trucks', u'trudy', u'true', u'truffle', u'truffles', u'truly', u'trunks', u'trust', u'trusted', u'truth', u'truthed', u'try', u'tsa', u'tshirts', u'tsn', u'tso', u'tsp', u'tube', u'tucson', u'tuesday', u'tuesdays', u'tuition', u'tulane', u'tulsans', u'tumblr', u'tumblrlixn1mroca1qzdgkk', u'tumor', u'tumors', u'tuna', u'tunics', u'turbaconepic', u'turbine', u'turbines', u'turkey', u'turkeys', u'turley', u'turmeric', u'turn', u'turned', u'turning', u'turns', u'turret', u'tuscan', u'tut', u'tutorial', u'tutorialromantic', u'tutorials', u'tuxedo', u'tv', u'tvs', u'tweel', u'tweet', u'tweets', u'twenty1f', u'twice', u'twilight', u'twin', u'twirl', u'twist', u'twists', u'twitter', u'twix', u'txt', u'tyee', u'tyler', u'type', u'typef', u'types', u'typography', u'tyre', u'tyson', u'tzatziki', u't\\xe1', u'uae', u'uav', u'uberhumor', u'ubokia', u'ucla', u'uconn', u'udemy', u'ufc', u'ugliest', u'ugly', u'uk', u'ukraine', u'ultimate', u'ultra', u'ultrachic', u'uma', u'umpires', u'unappetizing', u'unbelievable', u'unbelieveable', u'uncanny', u'uncensored', u'uncertain', u'uncle', u'unclog', u'uncommon', u'uncomplicate', u'uncovered', u'und', u'underage', u'undercover', u'understanding', u'underwater', u'une', u'unearth', u'unethical', u'unexpected', u'unforgettable', u'unfortunate', u'unhealthy', u'unicef', u'uniform', u'uniformed', u'uniforms', u'union', u'unique', u'unite', u'united', u'units', u'universally', u'universe', u'university', u'unleash', u'unleashed', u'unleashes', u'unlikely', u'unlock', u'unlocking', u'unnecessarily', u'unnecessary', u'unprotected', u'unreal', u'unrelenting', u'unrest', u'unscrwed', u'unseen', u'unshared', u'unusual', u'unusualmaps', u'unveil', u'unveiled', u'unveiling', u'unveils', u'unwerth', u'unwind', u'unwrapped', u'update', u'updated', u'updates', u'updating', u'upgrade', u'upi', u'uploaded', u'upluxi', u'upping', u'ups', u'upset', u'upsets', u'upside', u'upton', u'uptown', u'ur', u'urban', u'urbane', u'urbee', u'urcrowd', u'urdb', u'urinal', u'urinating', u'urlesque', u'usa', u'usage', u'usain', u'usatoday', u'usb', u'usc', u'use', u'used', u'useful', u'useless', u'user', u'userpics', u'users', u'uses', u'using', u'utah', u'utoya', u'uts', u'utterly', u'uv', u'uw', u'v2', u'v3', u'va', u'vacation', u'vacations', u'vaccine', u'vaccines', u'vader', u'vagrant', u'valentine', u'valentines', u'valeria', u'valet', u'valley', u'value', u'valuev', u'van', u'vance', u'vancouver', u'vanilla', u'vanille', u'vanish', u'vanity', u'vans', u'variations', u'vast', u'vaycaystyle', u'vbs', u've', u'veera', u'vegan', u'veganyumyum', u'vegas', u'vegetable', u'vegetables', u'vegetarian', u'vegetarians', u'veggie', u'veggies', u'vehicle', u'vehicles', u'vein', u'velcro', u'velveeta', u'velvet', u'vending', u'venezuela', u'venezuelan', u'venice', u'vent', u'venues', u'veoh', u'vera', u'verde', u'vermicelli', u'vermont', u'verona', u'versace', u'verse', u'version', u'versions', u'vertical', u'vespas', u'vest', u'veteran', u'vets', u'viagra', u'vibram', u'vice', u'victim', u'victims', u'victoria', u'victorian', u'vidafine', u'vide', u'video', u'videobash', u'videogame', u'videojuegos', u'videolu', u'videos', u'vidmax', u'vid\\xe9o', u'vietnam', u'vietnamese', u'view', u'vieweird', u'vigorous', u'vilkeviciute', u'villa', u'village', u'villagers', u'villareal', u'villarica', u'vimeo', u'vinaigrette', u'vindicates', u'vindo', u'vinegar', u'vintage', u'vinyl', u'violent', u'viral', u'virgil', u'virtual', u'virtually', u'virus', u'viruses', u'visible', u'vision', u'visions', u'visit', u'visitor', u'visual', u'vital', u'vitamin', u'vitamins', u'vivid', u'voda', u'vodka', u'vogue', u'voguepedia', u'voice', u'voila', u'volcano', u'volley', u'volleyball', u'volt', u'voltaire', u'volume', u'volunteering', u'voluptuous', u'vomited', u'vomiting', u'von', u'voracious', u'vortex', u'vote', u'voting', u'vs', u'vueuve', u'vuitton', u'vulture', u'vwvortex', u'vx7', u'v\\xeddeos', u'wacky', u'wacom', u'wade', u'waffle', u'waffles', u'wags', u'waisted', u'wait', u'waitakere', u'waiter', u'waiters', u'waitress', u'wake', u'wakeboarding', u'wal', u'walk', u'walker', u'walking', u'walks', u'walkthroughs', u'wall', u'walleston', u'wallet', u'wallpaper', u'wallpapers', u'walnut', u'walnuts', u'walsh', u'walter', u'walton', u'wander', u'wanderings', u'wanderplex', u'wang', u'wangwallbuilder', u'wanna', u'want', u'wanted', u'wants', u'war', u'wardrobe', u'wardrobestyle', u'warehouse', u'warm', u'warming', u'warn', u'warning', u'warns', u'warrior', u'warriors', u'wars', u'warsaw', u'wartrol', u'wasabibratwurst', u'wash', u'washer', u'washing', u'washington', u'washingtonpost', u'wasps', u'waste', u'wasted', u'wasting', u'watch', u'watchers', u'watching', u'water', u'watercolor', u'waterfalls', u'watergate', u'waterloo', u'watermelon', u'watermelonade', u'waters', u'watson', u'watt', u'watts', u'wave', u'waves', u'way', u'wayne', u'ways', u'wealth', u'weapon', u'weapons', u'wear', u'wearable', u'wearing', u'wears', u'weather', u'web', u'webcomic', u'weblog', u'webmd', u'website', u'websites', u'wed', u'wedding', u'weddings', u'wedge', u'wedges', u'wedgie', u'wednesday', u'wee', u'weed', u'week', u'weekday', u'weekend', u'weekends', u'weekly', u'weeknight', u'weeks', u'weh', u'weight', u'weightless', u'weightlifting', u'weights', u'weihnachten', u'weil', u'weinstocks', u'weird', u'weirdest', u'welcome', u'welle', u'wellness', u'wello', u'welsh', u'wench', u'went', u'wesc', u'wesley', u'west', u'westboro', u'westbrook', u'westside', u'westword', u'wet', u'wetsuit', u'whales', u'whaley', u'wheat', u'wheel', u'wheeler', u'whfoods', u'whip', u'whipped', u'whippedstyle', u'whipping', u'whirlpool', u'whirlpools', u'whisk', u'whisked', u'whiskey', u'whisky', u'white', u'whiten', u'whiteners', u'whiter', u'whitetrash', u'wholefoodsmarket', u'wholesome', u'whoopie', u'whopper', u'whoppers', u'whowhatwear', u'wi', u'wibisono', u'wicked', u'wickedly', u'wide', u'wideo', u'wife', u'wifi', u'wight', u'wii', u'wiki', u'wikibon', u'wikihow', u'wikileak', u'wikileaks', u'wikipedia', u'wild', u'wilderness', u'wildlife', u'wiley', u'william', u'williams', u'williamson', u'willing', u'willkommen', u'willow', u'willpower', u'wilson', u'wily', u'wimp', u'win', u'wind', u'windfall', u'windfalls', u'winding', u'window', u'windows', u'windsor', u'wine', u'wing', u'winger', u'wings', u'winner', u'winning', u'wins', u'winscape', u'winston', u'winter', u'wipeout', u'wipeouts', u'wipperf\\xfcrth', u'wire', u'wired', u'wireless', u'wiring', u'wirtschaft', u'wisconsin', u'wisdom', u'wiser', u'wish', u'wishes', u'wishwishwish', u'wit', u'witchy', u'witnessed', u'witten', u'wittiest', u'wives', u'wizgig', u'wlf', u'wm', u'wmagazine', u'wobble', u'woes', u'wolf', u'wolff', u'woman', u'womansday', u'women', u'womens', u'won', u'wonder', u'wonderful', u'wondering', u'wonderland', u'wong', u'wont', u'wontons', u'woo', u'wood', u'wooden', u'woods', u'wool', u'worcestershire', u'word', u'wordpress', u'words', u'wore', u'work', u'workday', u'worked', u'worker', u'workers', u'working', u'workout', u'workouts', u'works', u'workspace', u'world', u'worldcup', u'worlds', u'worldwide', u'worm', u'worms', u'worn', u'worrying', u'worse', u'worshiping', u'worst', u'worth', u'worth1000', u'wouldn', u'wow', u'wozniak', u'wrap', u'wrapped', u'wrappers', u'wraps', u'wrath', u'wreckers', u'wrestler', u'wrestling', u'wrigley', u'wristband', u'wristwatch', u'write', u'writers', u'writes', u'writing', u'written', u'wrong', u'wrongs', u'wtc', u'wtf', u'wunderbuzz', u'www', u'x300', u'xanga', u'xbox', u'xcr', u'xiao', u'xinhua', u'xirrus', u'xkcd', u'xlsm', u'xlv', u'xlvi', u'xstrata', u'x\\u1ed1i', u'yacht', u'yahoo', u'yakuza', u'yam', u'yankee', u'yanko', u'yao', u'yard', u'yass', u'yasself', u'yeah', u'year', u'years', u'yeast', u'yeasted', u'yellow', u'yemek', u'yemekleri', u'yemex', u'yes', u'yesbutnobutyes', u'yesica', u'yoga', u'yogaglo', u'yogurt', u'yolk', u'york', u'yorker', u'yotam', u'youbeauty', u'young', u'younger', u'youngest', u'yous', u'yousef', u'youth', u'youtube', u'yr', u'ytdump', u'ytmnd', u'yu', u'yum', u'yumm', u'yummy', u'yummymummyclub', u'yumsugar', u'yup', u'yves', u'ywca', u'za', u'zabaglione', u'zaharova', u'zappers', u'zdnet', u'zealand', u'zeeuw', u'zeigler', u'zeit', u'zel', u'zemia', u'zen', u'zenplugs', u'zeppoli', u'zerotouch', u'zest', u'zesty', u'zetaclear', u'zfilter', u'zgeek', u'zicam', u'zig', u'ziggy', u'zimbabwe', u'zimmermann', u'zimmern', u'zine', u'zink', u'ziona', u'zippers', u'zit', u'ziti', u'zoe', u'zojirushi', u'zombie', u'zomg', u'zone', u'zones', u'zoom', u'zorb', u'zubin', u'zucchini', u'zuccotto', u'zuckerberg', u'zufall', u'zuhair', u'zupfkuchen', u'zuza', u'zuzu', u'\\xe9tait', u'\\xf6\\u011frenci', u'\\xf6\\u011frencilere', u'\\xfcberconference', u'\\u0431\\u0430\\u043b\\u043a\\u043e\\u043d\\u0430', u'\\u0434\\u0430', u'\\u0434\\u0435\\u043a\\u043e\\u0440\\u0438\\u0440\\u0430\\u043c\\u0435', u'\\u043a\\u0430\\u043a', u'\\u043e\\u0440\\u0438\\u0435\\u043d\\u0442\\u0430\\u043b\\u0441\\u043a\\u0438', u'\\u0441\\u0438', u'\\u0441\\u0442\\u0438\\u043b', u'\\u0442icket', u'\\u30a2\\u30f3\\u30d6\\u30ed\\u30ef\\u30b8\\u30fc', u'\\u30b9\\u30bf\\u30a4\\u30eb\\u30a2\\u30ea\\u30fc\\u30ca', u'\\u5357\\u65b9\\u5468\\u672b', u'\\u53ef\\u4e50\\u9e21\\u7fc5', u'\\u6771\\u4eac\\u306e\\u30b9\\u30c8\\u30ea\\u30fc\\u30c8\\u30d5\\u30a1\\u30c3\\u30b7\\u30e7\\u30f3\\u6700\\u65b0\\u60c5\\u5831', u'\\u9996\\u9875']\n",
      "Feature counts: \n",
      "[[ 0.  0.  0. ...,  0.  0.  0.]\n",
      " [ 0.  0.  0. ...,  0.  0.  0.]\n",
      " [ 0.  0.  0. ...,  0.  0.  0.]\n",
      " ..., \n",
      " [ 0.  0.  0. ...,  0.  0.  0.]\n",
      " [ 0.  0.  0. ...,  0.  0.  0.]\n",
      " [ 0.  0.  0. ...,  0.  0.  0.]]\n",
      "IDF weights [ 9.2139236   7.34212142  9.2139236  ...,  9.2139236   8.80845849\n",
      "  9.2139236 ]\n"
     ]
    },
    {
     "ename": "ValueError",
     "evalue": "Shape of passed values is (10316, 7383), indices imply (10316, 2)",
     "output_type": "error",
     "traceback": [
      "\u001b[0;31m---------------------------------------------------------------------------\u001b[0m",
      "\u001b[0;31mValueError\u001b[0m                                Traceback (most recent call last)",
      "\u001b[0;32m<ipython-input-38-5d8082039c80>\u001b[0m in \u001b[0;36m<module>\u001b[0;34m()\u001b[0m\n\u001b[1;32m     18\u001b[0m     \u001b[0mcolumns\u001b[0m\u001b[0;34m=\u001b[0m\u001b[0mvectorizer\u001b[0m\u001b[0;34m.\u001b[0m\u001b[0mget_feature_names\u001b[0m\u001b[0;34m(\u001b[0m\u001b[0;34m)\u001b[0m\u001b[0;34m,\u001b[0m\u001b[0;34m\u001b[0m\u001b[0m\n\u001b[1;32m     19\u001b[0m     \u001b[0mindex\u001b[0m\u001b[0;34m=\u001b[0m\u001b[0;34m[\u001b[0m\u001b[0;34m'Article1'\u001b[0m\u001b[0;34m,\u001b[0m \u001b[0;34m'Article2'\u001b[0m\u001b[0;34m]\u001b[0m\u001b[0;34m,\u001b[0m\u001b[0;34m\u001b[0m\u001b[0m\n\u001b[0;32m---> 20\u001b[0;31m     \u001b[0mdata\u001b[0m\u001b[0;34m=\u001b[0m\u001b[0mvectorized_titles\u001b[0m\u001b[0;34m.\u001b[0m\u001b[0mtodense\u001b[0m\u001b[0;34m(\u001b[0m\u001b[0;34m)\u001b[0m\u001b[0;34m\u001b[0m\u001b[0m\n\u001b[0m\u001b[1;32m     21\u001b[0m )\n",
      "\u001b[0;32m/Users/nicolai/anaconda/lib/python2.7/site-packages/pandas/core/frame.pyc\u001b[0m in \u001b[0;36m__init__\u001b[0;34m(self, data, index, columns, dtype, copy)\u001b[0m\n\u001b[1;32m    253\u001b[0m             \u001b[0;32melse\u001b[0m\u001b[0;34m:\u001b[0m\u001b[0;34m\u001b[0m\u001b[0m\n\u001b[1;32m    254\u001b[0m                 mgr = self._init_ndarray(data, index, columns, dtype=dtype,\n\u001b[0;32m--> 255\u001b[0;31m                                          copy=copy)\n\u001b[0m\u001b[1;32m    256\u001b[0m         \u001b[0;32melif\u001b[0m \u001b[0misinstance\u001b[0m\u001b[0;34m(\u001b[0m\u001b[0mdata\u001b[0m\u001b[0;34m,\u001b[0m \u001b[0;34m(\u001b[0m\u001b[0mlist\u001b[0m\u001b[0;34m,\u001b[0m \u001b[0mtypes\u001b[0m\u001b[0;34m.\u001b[0m\u001b[0mGeneratorType\u001b[0m\u001b[0;34m)\u001b[0m\u001b[0;34m)\u001b[0m\u001b[0;34m:\u001b[0m\u001b[0;34m\u001b[0m\u001b[0m\n\u001b[1;32m    257\u001b[0m             \u001b[0;32mif\u001b[0m \u001b[0misinstance\u001b[0m\u001b[0;34m(\u001b[0m\u001b[0mdata\u001b[0m\u001b[0;34m,\u001b[0m \u001b[0mtypes\u001b[0m\u001b[0;34m.\u001b[0m\u001b[0mGeneratorType\u001b[0m\u001b[0;34m)\u001b[0m\u001b[0;34m:\u001b[0m\u001b[0;34m\u001b[0m\u001b[0m\n",
      "\u001b[0;32m/Users/nicolai/anaconda/lib/python2.7/site-packages/pandas/core/frame.pyc\u001b[0m in \u001b[0;36m_init_ndarray\u001b[0;34m(self, values, index, columns, dtype, copy)\u001b[0m\n\u001b[1;32m    430\u001b[0m             \u001b[0mvalues\u001b[0m \u001b[0;34m=\u001b[0m \u001b[0m_possibly_infer_to_datetimelike\u001b[0m\u001b[0;34m(\u001b[0m\u001b[0mvalues\u001b[0m\u001b[0;34m)\u001b[0m\u001b[0;34m\u001b[0m\u001b[0m\n\u001b[1;32m    431\u001b[0m \u001b[0;34m\u001b[0m\u001b[0m\n\u001b[0;32m--> 432\u001b[0;31m         \u001b[0;32mreturn\u001b[0m \u001b[0mcreate_block_manager_from_blocks\u001b[0m\u001b[0;34m(\u001b[0m\u001b[0;34m[\u001b[0m\u001b[0mvalues\u001b[0m\u001b[0;34m]\u001b[0m\u001b[0;34m,\u001b[0m \u001b[0;34m[\u001b[0m\u001b[0mcolumns\u001b[0m\u001b[0;34m,\u001b[0m \u001b[0mindex\u001b[0m\u001b[0;34m]\u001b[0m\u001b[0;34m)\u001b[0m\u001b[0;34m\u001b[0m\u001b[0m\n\u001b[0m\u001b[1;32m    433\u001b[0m \u001b[0;34m\u001b[0m\u001b[0m\n\u001b[1;32m    434\u001b[0m     \u001b[0;34m@\u001b[0m\u001b[0mproperty\u001b[0m\u001b[0;34m\u001b[0m\u001b[0m\n",
      "\u001b[0;32m/Users/nicolai/anaconda/lib/python2.7/site-packages/pandas/core/internals.pyc\u001b[0m in \u001b[0;36mcreate_block_manager_from_blocks\u001b[0;34m(blocks, axes)\u001b[0m\n\u001b[1;32m   3991\u001b[0m         \u001b[0mblocks\u001b[0m \u001b[0;34m=\u001b[0m \u001b[0;34m[\u001b[0m\u001b[0mgetattr\u001b[0m\u001b[0;34m(\u001b[0m\u001b[0mb\u001b[0m\u001b[0;34m,\u001b[0m \u001b[0;34m'values'\u001b[0m\u001b[0;34m,\u001b[0m \u001b[0mb\u001b[0m\u001b[0;34m)\u001b[0m \u001b[0;32mfor\u001b[0m \u001b[0mb\u001b[0m \u001b[0;32min\u001b[0m \u001b[0mblocks\u001b[0m\u001b[0;34m]\u001b[0m\u001b[0;34m\u001b[0m\u001b[0m\n\u001b[1;32m   3992\u001b[0m         \u001b[0mtot_items\u001b[0m \u001b[0;34m=\u001b[0m \u001b[0msum\u001b[0m\u001b[0;34m(\u001b[0m\u001b[0mb\u001b[0m\u001b[0;34m.\u001b[0m\u001b[0mshape\u001b[0m\u001b[0;34m[\u001b[0m\u001b[0;36m0\u001b[0m\u001b[0;34m]\u001b[0m \u001b[0;32mfor\u001b[0m \u001b[0mb\u001b[0m \u001b[0;32min\u001b[0m \u001b[0mblocks\u001b[0m\u001b[0;34m)\u001b[0m\u001b[0;34m\u001b[0m\u001b[0m\n\u001b[0;32m-> 3993\u001b[0;31m         \u001b[0mconstruction_error\u001b[0m\u001b[0;34m(\u001b[0m\u001b[0mtot_items\u001b[0m\u001b[0;34m,\u001b[0m \u001b[0mblocks\u001b[0m\u001b[0;34m[\u001b[0m\u001b[0;36m0\u001b[0m\u001b[0;34m]\u001b[0m\u001b[0;34m.\u001b[0m\u001b[0mshape\u001b[0m\u001b[0;34m[\u001b[0m\u001b[0;36m1\u001b[0m\u001b[0;34m:\u001b[0m\u001b[0;34m]\u001b[0m\u001b[0;34m,\u001b[0m \u001b[0maxes\u001b[0m\u001b[0;34m,\u001b[0m \u001b[0me\u001b[0m\u001b[0;34m)\u001b[0m\u001b[0;34m\u001b[0m\u001b[0m\n\u001b[0m\u001b[1;32m   3994\u001b[0m \u001b[0;34m\u001b[0m\u001b[0m\n\u001b[1;32m   3995\u001b[0m \u001b[0;34m\u001b[0m\u001b[0m\n",
      "\u001b[0;32m/Users/nicolai/anaconda/lib/python2.7/site-packages/pandas/core/internals.pyc\u001b[0m in \u001b[0;36mconstruction_error\u001b[0;34m(tot_items, block_shape, axes, e)\u001b[0m\n\u001b[1;32m   3968\u001b[0m         \u001b[0;32mraise\u001b[0m \u001b[0mValueError\u001b[0m\u001b[0;34m(\u001b[0m\u001b[0;34m\"Empty data passed with indices specified.\"\u001b[0m\u001b[0;34m)\u001b[0m\u001b[0;34m\u001b[0m\u001b[0m\n\u001b[1;32m   3969\u001b[0m     raise ValueError(\"Shape of passed values is {0}, indices imply {1}\".format(\n\u001b[0;32m-> 3970\u001b[0;31m         passed, implied))\n\u001b[0m\u001b[1;32m   3971\u001b[0m \u001b[0;34m\u001b[0m\u001b[0m\n\u001b[1;32m   3972\u001b[0m \u001b[0;34m\u001b[0m\u001b[0m\n",
      "\u001b[0;31mValueError\u001b[0m: Shape of passed values is (10316, 7383), indices imply (10316, 2)"
     ]
    }
   ],
   "source": [
    "from sklearn.feature_extraction.text import TfidfVectorizer\n",
    "\n",
    "titles = [\n",
    "    \"IBM Sees Electronic Calls Air Breathing Batteries\",\n",
    "    \"The Fully Electronic Futuristic Starting Gun That Eliminates Advantages in Races\"\n",
    "]\n",
    "\n",
    "vectorizer = TfidfVectorizer(stop_words='english', sublinear_tf = False)\n",
    "vectorized_titles = vectorizer.fit_transform(data[\"title\"].dropna())\n",
    "\n",
    "print \"Feature names: \\n\", vectorizer.get_feature_names()\n",
    "print \"Feature counts: \\n\", vectorized_titles.todense()\n",
    "print \"IDF weights\", vectorizer.idf_\n",
    "\n",
    "\n",
    "# Represent Count Vectorized results as a dataframe so we can preview it more easily.\n",
    "pd.DataFrame(\n",
    "    columns=vectorizer.get_feature_names(),\n",
    "    index=['Article1', 'Article2'],\n",
    "    data=vectorized_titles.todense()\n",
    ")"
   ]
  },
  {
   "cell_type": "markdown",
   "metadata": {},
   "source": [
    " ### Demo: Use of the Count Vectorizer with ngrams\n",
    " \n",
    " We can use the `ngram_range` parameter to find ngrams -- groups of n words."
   ]
  },
  {
   "cell_type": "code",
   "execution_count": 110,
   "metadata": {
    "collapsed": false
   },
   "outputs": [
    {
     "name": "stdout",
     "output_type": "stream",
     "text": [
      "Feature names: \n",
      "[u'advantages', u'advantages races', u'air', u'air breathing', u'batteries', u'breathing', u'breathing batteries', u'calls', u'calls air', u'electronic', u'electronic calls', u'electronic futuristic', u'eliminates', u'eliminates advantages', u'fully', u'fully electronic', u'futuristic', u'futuristic starting', u'gun', u'gun eliminates', u'ibm', u'ibm sees', u'races', u'sees', u'sees electronic', u'starting', u'starting gun']\n",
      "Feature counts: \n",
      "[[0 0 1 1 1 1 1 1 1 1 1 0 0 0 0 0 0 0 0 0 1 1 0 1 1 0 0]\n",
      " [1 1 0 0 0 0 0 0 0 1 0 1 1 1 1 1 1 1 1 1 0 0 1 0 0 1 1]]\n",
      "\n"
     ]
    },
    {
     "data": {
      "text/html": [
       "<div>\n",
       "<table border=\"1\" class=\"dataframe\">\n",
       "  <thead>\n",
       "    <tr style=\"text-align: right;\">\n",
       "      <th></th>\n",
       "      <th>advantages</th>\n",
       "      <th>advantages races</th>\n",
       "      <th>air</th>\n",
       "      <th>air breathing</th>\n",
       "      <th>batteries</th>\n",
       "      <th>breathing</th>\n",
       "      <th>breathing batteries</th>\n",
       "      <th>calls</th>\n",
       "      <th>calls air</th>\n",
       "      <th>electronic</th>\n",
       "      <th>...</th>\n",
       "      <th>futuristic starting</th>\n",
       "      <th>gun</th>\n",
       "      <th>gun eliminates</th>\n",
       "      <th>ibm</th>\n",
       "      <th>ibm sees</th>\n",
       "      <th>races</th>\n",
       "      <th>sees</th>\n",
       "      <th>sees electronic</th>\n",
       "      <th>starting</th>\n",
       "      <th>starting gun</th>\n",
       "    </tr>\n",
       "  </thead>\n",
       "  <tbody>\n",
       "    <tr>\n",
       "      <th>Article1</th>\n",
       "      <td>0</td>\n",
       "      <td>0</td>\n",
       "      <td>1</td>\n",
       "      <td>1</td>\n",
       "      <td>1</td>\n",
       "      <td>1</td>\n",
       "      <td>1</td>\n",
       "      <td>1</td>\n",
       "      <td>1</td>\n",
       "      <td>1</td>\n",
       "      <td>...</td>\n",
       "      <td>0</td>\n",
       "      <td>0</td>\n",
       "      <td>0</td>\n",
       "      <td>1</td>\n",
       "      <td>1</td>\n",
       "      <td>0</td>\n",
       "      <td>1</td>\n",
       "      <td>1</td>\n",
       "      <td>0</td>\n",
       "      <td>0</td>\n",
       "    </tr>\n",
       "    <tr>\n",
       "      <th>Article2</th>\n",
       "      <td>1</td>\n",
       "      <td>1</td>\n",
       "      <td>0</td>\n",
       "      <td>0</td>\n",
       "      <td>0</td>\n",
       "      <td>0</td>\n",
       "      <td>0</td>\n",
       "      <td>0</td>\n",
       "      <td>0</td>\n",
       "      <td>1</td>\n",
       "      <td>...</td>\n",
       "      <td>1</td>\n",
       "      <td>1</td>\n",
       "      <td>1</td>\n",
       "      <td>0</td>\n",
       "      <td>0</td>\n",
       "      <td>1</td>\n",
       "      <td>0</td>\n",
       "      <td>0</td>\n",
       "      <td>1</td>\n",
       "      <td>1</td>\n",
       "    </tr>\n",
       "  </tbody>\n",
       "</table>\n",
       "<p>2 rows × 27 columns</p>\n",
       "</div>"
      ],
      "text/plain": [
       "          advantages  advantages races  air  air breathing  batteries  \\\n",
       "Article1           0                 0    1              1          1   \n",
       "Article2           1                 1    0              0          0   \n",
       "\n",
       "          breathing  breathing batteries  calls  calls air  electronic  \\\n",
       "Article1          1                    1      1          1           1   \n",
       "Article2          0                    0      0          0           1   \n",
       "\n",
       "              ...       futuristic starting  gun  gun eliminates  ibm  \\\n",
       "Article1      ...                         0    0               0    1   \n",
       "Article2      ...                         1    1               1    0   \n",
       "\n",
       "          ibm sees  races  sees  sees electronic  starting  starting gun  \n",
       "Article1         1      0     1                1         0             0  \n",
       "Article2         0      1     0                0         1             1  \n",
       "\n",
       "[2 rows x 27 columns]"
      ]
     },
     "execution_count": 110,
     "metadata": {},
     "output_type": "execute_result"
    }
   ],
   "source": [
    "# Note the inclusion of ngram_range\n",
    "vectorizer = CountVectorizer(stop_words='english', ngram_range=(1, 2))\n",
    "vectorized_titles = vectorizer.fit_transform(titles)\n",
    "\n",
    "print \"Feature names: \\n\", vectorizer.get_feature_names()\n",
    "print \"Feature counts: \\n\", vectorized_titles.todense()\n",
    "print\n",
    "\n",
    "# Represent Count Vectorized results as a dataframe so we can preview it more easily.\n",
    "pd.DataFrame(\n",
    "    columns=vectorizer.get_feature_names(),\n",
    "    index=['Article1', 'Article2'],\n",
    "    data=vectorized_titles.todense()\n",
    ")"
   ]
  },
  {
   "cell_type": "markdown",
   "metadata": {},
   "source": [
    " ### Demo: Build a random forest model to predict evergreeness of a website using the title features"
   ]
  },
  {
   "cell_type": "code",
   "execution_count": 29,
   "metadata": {
    "collapsed": false
   },
   "outputs": [
    {
     "name": "stdout",
     "output_type": "stream",
     "text": [
      "CV AUC [ 0.81608807  0.82887978  0.82386112], Average AUC 0.822942990477\n"
     ]
    }
   ],
   "source": [
    "from sklearn.ensemble import RandomForestClassifier\n",
    "\n",
    "titles = data['title'].fillna('')\n",
    "\n",
    "model = RandomForestClassifier(n_estimators = 20)\n",
    "    \n",
    "# Use `fit` to learn the vocabulary of the titles\n",
    "vectorizer.fit(titles)\n",
    "\n",
    "# Use `tranform` to generate the sample X word matrix - one column per feature (word or n-grams)\n",
    "X = vectorizer.transform(titles).toarray()\n",
    "y = data['label']\n",
    "\n",
    "from sklearn.cross_validation import cross_val_score\n",
    "\n",
    "scores = cross_val_score(model, X, y, scoring='roc_auc')\n",
    "print('CV AUC {}, Average AUC {}'.format(scores, scores.mean()))"
   ]
  },
  {
   "cell_type": "markdown",
   "metadata": {},
   "source": [
    "### Exercise: Build a random forest model to predict evergreeness of a website using the title features and quantitative features"
   ]
  },
  {
   "cell_type": "code",
   "execution_count": null,
   "metadata": {
    "collapsed": false
   },
   "outputs": [],
   "source": [
    "## TODO"
   ]
  },
  {
   "cell_type": "markdown",
   "metadata": {},
   "source": [
    " ### Exercise: Build a random forest model to predict evergreeness of a website using the body features"
   ]
  },
  {
   "cell_type": "code",
   "execution_count": null,
   "metadata": {
    "collapsed": false
   },
   "outputs": [],
   "source": [
    "## TODO"
   ]
  },
  {
   "cell_type": "markdown",
   "metadata": {},
   "source": [
    " ### Exercise: Use `TfIdfVectorizer` instead of `CountVectorizer` - is this an improvement?"
   ]
  },
  {
   "cell_type": "code",
   "execution_count": null,
   "metadata": {
    "collapsed": false
   },
   "outputs": [],
   "source": [
    "## TODO"
   ]
  },
  {
   "cell_type": "code",
   "execution_count": null,
   "metadata": {
    "collapsed": true
   },
   "outputs": [],
   "source": []
  }
 ],
 "metadata": {
  "kernelspec": {
   "display_name": "Python 2",
   "language": "python",
   "name": "python2"
  },
  "language_info": {
   "codemirror_mode": {
    "name": "ipython",
    "version": 2
   },
   "file_extension": ".py",
   "mimetype": "text/x-python",
   "name": "python",
   "nbconvert_exporter": "python",
   "pygments_lexer": "ipython2",
   "version": "2.7.11"
  }
 },
 "nbformat": 4,
 "nbformat_minor": 0
}
