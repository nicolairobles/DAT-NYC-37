{
 "cells": [
  {
   "cell_type": "markdown",
   "metadata": {},
   "source": [
    "# Demo 16: Tokenizing, Tagging, and Parsing with `spacy`"
   ]
  },
  {
   "cell_type": "markdown",
   "metadata": {},
   "source": [
    "First load the NLP toolkit by specifying the language."
   ]
  },
  {
   "cell_type": "code",
   "execution_count": 1,
   "metadata": {
    "collapsed": false
   },
   "outputs": [],
   "source": [
    "from spacy.en import English\n",
    "nlp_toolkit = English()"
   ]
  },
  {
   "cell_type": "markdown",
   "metadata": {},
   "source": [
    "We want to extract several pieces of information from the following sentence: \"John hit the ball\""
   ]
  },
  {
   "cell_type": "code",
   "execution_count": 5,
   "metadata": {
    "collapsed": true
   },
   "outputs": [],
   "source": [
    "sentence = u\"John stepped up to the plate, and swung a bat.\" # the 'u' before the string makes it a Unicode string which spacy requires"
   ]
  },
  {
   "cell_type": "markdown",
   "metadata": {},
   "source": [
    "Now, We can use `spacy` to get information about this sentence"
   ]
  },
  {
   "cell_type": "code",
   "execution_count": 6,
   "metadata": {
    "collapsed": false
   },
   "outputs": [
    {
     "name": "stdout",
     "output_type": "stream",
     "text": [
      "John\n",
      "\tParent: step\n",
      "\tPhrase type: nsubj\n",
      "\tKnown entity type: PERSON\n",
      "\tLemma: john\n",
      "stepped\n",
      "\tParent: step\n",
      "\tPhrase type: ROOT\n",
      "\tKnown entity type: n/a\n",
      "\tLemma: step\n",
      "up\n",
      "\tParent: step\n",
      "\tPhrase type: prt\n",
      "\tKnown entity type: n/a\n",
      "\tLemma: up\n",
      "to\n",
      "\tParent: step\n",
      "\tPhrase type: prep\n",
      "\tKnown entity type: n/a\n",
      "\tLemma: to\n",
      "the\n",
      "\tParent: plate\n",
      "\tPhrase type: det\n",
      "\tKnown entity type: n/a\n",
      "\tLemma: the\n",
      "plate\n",
      "\tParent: to\n",
      "\tPhrase type: pobj\n",
      "\tKnown entity type: n/a\n",
      "\tLemma: plate\n",
      ",\n",
      "\tParent: step\n",
      "\tPhrase type: punct\n",
      "\tKnown entity type: n/a\n",
      "\tLemma: ,\n",
      "and\n",
      "\tParent: step\n",
      "\tPhrase type: cc\n",
      "\tKnown entity type: n/a\n",
      "\tLemma: and\n",
      "swung\n",
      "\tParent: step\n",
      "\tPhrase type: conj\n",
      "\tKnown entity type: n/a\n",
      "\tLemma: swing\n",
      "a\n",
      "\tParent: bat\n",
      "\tPhrase type: det\n",
      "\tKnown entity type: n/a\n",
      "\tLemma: a\n",
      "bat\n",
      "\tParent: swing\n",
      "\tPhrase type: dobj\n",
      "\tKnown entity type: n/a\n",
      "\tLemma: bat\n",
      ".\n",
      "\tParent: step\n",
      "\tPhrase type: punct\n",
      "\tKnown entity type: n/a\n",
      "\tLemma: .\n"
     ]
    }
   ],
   "source": [
    "parsed = nlp_toolkit(sentence)\n",
    "\n",
    "for (i, word) in enumerate(parsed): \n",
    "    print word\n",
    "    print \"\\tParent: {}\".format(word.head.lemma_)\n",
    "    print \"\\tPhrase type: {}\".format(word.dep_)\n",
    "    print \"\\tKnown entity type: {}\".format(word.ent_type_ if word.ent_type_ else 'n/a')\n",
    "    print \"\\tLemma: {}\".format(word.lemma_)"
   ]
  },
  {
   "cell_type": "code",
   "execution_count": null,
   "metadata": {
    "collapsed": true
   },
   "outputs": [],
   "source": []
  }
 ],
 "metadata": {
  "kernelspec": {
   "display_name": "Python 2",
   "language": "python",
   "name": "python2"
  },
  "language_info": {
   "codemirror_mode": {
    "name": "ipython",
    "version": 2
   },
   "file_extension": ".py",
   "mimetype": "text/x-python",
   "name": "python",
   "nbconvert_exporter": "python",
   "pygments_lexer": "ipython2",
   "version": "2.7.11"
  }
 },
 "nbformat": 4,
 "nbformat_minor": 0
}
