{
 "cells": [
  {
   "cell_type": "code",
   "execution_count": 28,
   "metadata": {
    "collapsed": false
   },
   "outputs": [
    {
     "name": "stdout",
     "output_type": "stream",
     "text": [
      "<class 'pandas.core.frame.DataFrame'>\n",
      "RangeIndex: 891 entries, 0 to 890\n",
      "Data columns (total 11 columns):\n",
      "survived    891 non-null int64\n",
      "pclass      891 non-null int64\n",
      "name        891 non-null object\n",
      "sex         891 non-null object\n",
      "age         714 non-null float64\n",
      "sibsp       891 non-null int64\n",
      "parch       891 non-null int64\n",
      "ticket      891 non-null object\n",
      "fare        891 non-null float64\n",
      "cabin       204 non-null object\n",
      "embarked    889 non-null object\n",
      "dtypes: float64(2), int64(4), object(5)\n",
      "memory usage: 76.6+ KB\n",
      "None\n"
     ]
    },
    {
     "data": {
      "text/html": [
       "<div>\n",
       "<table border=\"1\" class=\"dataframe\">\n",
       "  <thead>\n",
       "    <tr style=\"text-align: right;\">\n",
       "      <th></th>\n",
       "      <th>survived</th>\n",
       "      <th>pclass</th>\n",
       "      <th>name</th>\n",
       "      <th>sex</th>\n",
       "      <th>age</th>\n",
       "      <th>sibsp</th>\n",
       "      <th>parch</th>\n",
       "      <th>ticket</th>\n",
       "      <th>fare</th>\n",
       "      <th>cabin</th>\n",
       "      <th>embarked</th>\n",
       "    </tr>\n",
       "  </thead>\n",
       "  <tbody>\n",
       "    <tr>\n",
       "      <th>0</th>\n",
       "      <td>0</td>\n",
       "      <td>3</td>\n",
       "      <td>Braund, Mr. Owen Harris</td>\n",
       "      <td>male</td>\n",
       "      <td>22.0</td>\n",
       "      <td>1</td>\n",
       "      <td>0</td>\n",
       "      <td>A/5 21171</td>\n",
       "      <td>7.2500</td>\n",
       "      <td>NaN</td>\n",
       "      <td>S</td>\n",
       "    </tr>\n",
       "    <tr>\n",
       "      <th>1</th>\n",
       "      <td>1</td>\n",
       "      <td>1</td>\n",
       "      <td>Cumings, Mrs. John Bradley (Florence Briggs Th...</td>\n",
       "      <td>female</td>\n",
       "      <td>38.0</td>\n",
       "      <td>1</td>\n",
       "      <td>0</td>\n",
       "      <td>PC 17599</td>\n",
       "      <td>71.2833</td>\n",
       "      <td>C85</td>\n",
       "      <td>C</td>\n",
       "    </tr>\n",
       "    <tr>\n",
       "      <th>2</th>\n",
       "      <td>1</td>\n",
       "      <td>3</td>\n",
       "      <td>Heikkinen, Miss. Laina</td>\n",
       "      <td>female</td>\n",
       "      <td>26.0</td>\n",
       "      <td>0</td>\n",
       "      <td>0</td>\n",
       "      <td>STON/O2. 3101282</td>\n",
       "      <td>7.9250</td>\n",
       "      <td>NaN</td>\n",
       "      <td>S</td>\n",
       "    </tr>\n",
       "    <tr>\n",
       "      <th>3</th>\n",
       "      <td>1</td>\n",
       "      <td>1</td>\n",
       "      <td>Futrelle, Mrs. Jacques Heath (Lily May Peel)</td>\n",
       "      <td>female</td>\n",
       "      <td>35.0</td>\n",
       "      <td>1</td>\n",
       "      <td>0</td>\n",
       "      <td>113803</td>\n",
       "      <td>53.1000</td>\n",
       "      <td>C123</td>\n",
       "      <td>S</td>\n",
       "    </tr>\n",
       "    <tr>\n",
       "      <th>4</th>\n",
       "      <td>0</td>\n",
       "      <td>3</td>\n",
       "      <td>Allen, Mr. William Henry</td>\n",
       "      <td>male</td>\n",
       "      <td>35.0</td>\n",
       "      <td>0</td>\n",
       "      <td>0</td>\n",
       "      <td>373450</td>\n",
       "      <td>8.0500</td>\n",
       "      <td>NaN</td>\n",
       "      <td>S</td>\n",
       "    </tr>\n",
       "  </tbody>\n",
       "</table>\n",
       "</div>"
      ],
      "text/plain": [
       "   survived  pclass                                               name  \\\n",
       "0         0       3                            Braund, Mr. Owen Harris   \n",
       "1         1       1  Cumings, Mrs. John Bradley (Florence Briggs Th...   \n",
       "2         1       3                             Heikkinen, Miss. Laina   \n",
       "3         1       1       Futrelle, Mrs. Jacques Heath (Lily May Peel)   \n",
       "4         0       3                           Allen, Mr. William Henry   \n",
       "\n",
       "      sex   age  sibsp  parch            ticket     fare cabin embarked  \n",
       "0    male  22.0      1      0         A/5 21171   7.2500   NaN        S  \n",
       "1  female  38.0      1      0          PC 17599  71.2833   C85        C  \n",
       "2  female  26.0      0      0  STON/O2. 3101282   7.9250   NaN        S  \n",
       "3  female  35.0      1      0            113803  53.1000  C123        S  \n",
       "4    male  35.0      0      0            373450   8.0500   NaN        S  "
      ]
     },
     "execution_count": 28,
     "metadata": {},
     "output_type": "execute_result"
    }
   ],
   "source": [
    "# Group Review Exercise\n",
    "import pandas as pd\n",
    "\n",
    "%matplotlib inline\n",
    "\n",
    "# Other imports as you see fit (sklearn, etc)\n",
    "\n",
    "df = pd.read_csv('https://github.com/ga-students/DAT-NYC-37/raw/master/lessons/lesson-11/datasets/titanic.csv')\n",
    "\n",
    "print df.info()\n",
    "\n",
    "df.head()"
   ]
  },
  {
   "cell_type": "markdown",
   "metadata": {},
   "source": [
    "# Your objective:\n",
    "\n",
    "*Given a set of features for a passenger (as defined in the dataset) predict whether or not they will survive on the Titanic.*\n",
    "\n",
    "\n",
    "1. Perform any necessary conditioning or cleaning to the data\n",
    "2. Define the train/test split\n",
    "3. Choose and Define a model with all relevant parameters for that model\n",
    "4. Fit the model\n",
    "5. Determine the precision, recall, and F1 score for this model on the *training* dataset\n",
    "6. Predict whether passengers with the  following features survive:\n",
    "\n",
    "```\n",
    "     pclass     sex   age  sibsp  parch    ticket      fare cabin embarked\n",
    "          3  female   NaN      8      2  CA. 2343   69.5500   NaN        S\n",
    "          3    male   NaN      0      0    349214    7.8958   NaN        S\n",
    "          3    male   NaN      0      0    349253    7.8958   NaN        C\n",
    "          1    male  44.0      2      0     19928   90.0000   C78        Q\n",
    "          2    male  31.0      0      0    244270   13.0000   NaN        S\n",
    "          1  female  31.0      0      2     36928  164.8667    C7        S\n",
    "          3  female  38.0      1      5    347077   31.3875   NaN        S\n",
    "          2    male  30.0      0      0     28228   13.0000   NaN        S\n",
    "          1    male   NaN      0      0  PC 17757  227.5250   NaN        C\n",
    "          2  female  17.0      0      0   SC 1748   12.0000   NaN        C\n",
    "```\n",
    "\n",
    "### Tip: use copy the above block and use pd.read_clipboard() to create a dataframe from the contents of your current clipboard"
   ]
  },
  {
   "cell_type": "code",
   "execution_count": 29,
   "metadata": {
    "collapsed": true
   },
   "outputs": [],
   "source": [
    "import pandas as pd\n",
    "import numpy as np\n",
    "\n",
    "# We're using a new module from sklearn.linear_model called LogisticRegression\n",
    "#  \n",
    "from sklearn.linear_model import LogisticRegression\n",
    "\n",
    "import matplotlib.pyplot as plt\n",
    "from sklearn.cross_validation import train_test_split\n",
    "\n",
    "%matplotlib inline"
   ]
  },
  {
   "cell_type": "code",
   "execution_count": 30,
   "metadata": {
    "collapsed": true
   },
   "outputs": [],
   "source": [
    "# 1 - clean data\n",
    "if (df.dtypes['sex'] != np.int):\n",
    "    df.sex = np.where(df.sex == 'Male', 1, 0)"
   ]
  },
  {
   "cell_type": "code",
   "execution_count": 31,
   "metadata": {
    "collapsed": true
   },
   "outputs": [],
   "source": [
    "ave_age = np.mean(df.age)"
   ]
  },
  {
   "cell_type": "code",
   "execution_count": 32,
   "metadata": {
    "collapsed": false
   },
   "outputs": [],
   "source": [
    "# df.age"
   ]
  },
  {
   "cell_type": "code",
   "execution_count": 33,
   "metadata": {
    "collapsed": true
   },
   "outputs": [],
   "source": [
    "df.age.fillna(value=ave_age, inplace=True)\n",
    "# df.age"
   ]
  },
  {
   "cell_type": "code",
   "execution_count": null,
   "metadata": {
    "collapsed": true
   },
   "outputs": [],
   "source": [
    "# P Class Dummies\n",
    "pclass = pd.get_dummies(df.pclass)\n",
    "pclass.columns = [\"pclass_\" + str(i) for i in pclass.columns]\n",
    "\n",
    "df = pd.concat([df,pclass], axis=1)\n",
    "\n",
    "df.columns\n",
    "df.head()"
   ]
  },
  {
   "cell_type": "code",
   "execution_count": 35,
   "metadata": {
    "collapsed": false
   },
   "outputs": [
    {
     "data": {
      "text/html": [
       "<div>\n",
       "<table border=\"1\" class=\"dataframe\">\n",
       "  <thead>\n",
       "    <tr style=\"text-align: right;\">\n",
       "      <th></th>\n",
       "      <th>survived</th>\n",
       "      <th>pclass</th>\n",
       "      <th>name</th>\n",
       "      <th>sex</th>\n",
       "      <th>age</th>\n",
       "      <th>sibsp</th>\n",
       "      <th>parch</th>\n",
       "      <th>ticket</th>\n",
       "      <th>fare</th>\n",
       "      <th>cabin</th>\n",
       "      <th>embarked</th>\n",
       "      <th>pclass_1</th>\n",
       "      <th>pclass_2</th>\n",
       "      <th>pclass_3</th>\n",
       "      <th>C</th>\n",
       "      <th>Q</th>\n",
       "      <th>S</th>\n",
       "    </tr>\n",
       "  </thead>\n",
       "  <tbody>\n",
       "    <tr>\n",
       "      <th>0</th>\n",
       "      <td>0</td>\n",
       "      <td>3</td>\n",
       "      <td>Braund, Mr. Owen Harris</td>\n",
       "      <td>0</td>\n",
       "      <td>22.0</td>\n",
       "      <td>1</td>\n",
       "      <td>0</td>\n",
       "      <td>A/5 21171</td>\n",
       "      <td>7.2500</td>\n",
       "      <td>NaN</td>\n",
       "      <td>S</td>\n",
       "      <td>0.0</td>\n",
       "      <td>0.0</td>\n",
       "      <td>1.0</td>\n",
       "      <td>0.0</td>\n",
       "      <td>0.0</td>\n",
       "      <td>1.0</td>\n",
       "    </tr>\n",
       "    <tr>\n",
       "      <th>1</th>\n",
       "      <td>1</td>\n",
       "      <td>1</td>\n",
       "      <td>Cumings, Mrs. John Bradley (Florence Briggs Th...</td>\n",
       "      <td>0</td>\n",
       "      <td>38.0</td>\n",
       "      <td>1</td>\n",
       "      <td>0</td>\n",
       "      <td>PC 17599</td>\n",
       "      <td>71.2833</td>\n",
       "      <td>C85</td>\n",
       "      <td>C</td>\n",
       "      <td>1.0</td>\n",
       "      <td>0.0</td>\n",
       "      <td>0.0</td>\n",
       "      <td>1.0</td>\n",
       "      <td>0.0</td>\n",
       "      <td>0.0</td>\n",
       "    </tr>\n",
       "    <tr>\n",
       "      <th>2</th>\n",
       "      <td>1</td>\n",
       "      <td>3</td>\n",
       "      <td>Heikkinen, Miss. Laina</td>\n",
       "      <td>0</td>\n",
       "      <td>26.0</td>\n",
       "      <td>0</td>\n",
       "      <td>0</td>\n",
       "      <td>STON/O2. 3101282</td>\n",
       "      <td>7.9250</td>\n",
       "      <td>NaN</td>\n",
       "      <td>S</td>\n",
       "      <td>0.0</td>\n",
       "      <td>0.0</td>\n",
       "      <td>1.0</td>\n",
       "      <td>0.0</td>\n",
       "      <td>0.0</td>\n",
       "      <td>1.0</td>\n",
       "    </tr>\n",
       "    <tr>\n",
       "      <th>3</th>\n",
       "      <td>1</td>\n",
       "      <td>1</td>\n",
       "      <td>Futrelle, Mrs. Jacques Heath (Lily May Peel)</td>\n",
       "      <td>0</td>\n",
       "      <td>35.0</td>\n",
       "      <td>1</td>\n",
       "      <td>0</td>\n",
       "      <td>113803</td>\n",
       "      <td>53.1000</td>\n",
       "      <td>C123</td>\n",
       "      <td>S</td>\n",
       "      <td>1.0</td>\n",
       "      <td>0.0</td>\n",
       "      <td>0.0</td>\n",
       "      <td>0.0</td>\n",
       "      <td>0.0</td>\n",
       "      <td>1.0</td>\n",
       "    </tr>\n",
       "    <tr>\n",
       "      <th>4</th>\n",
       "      <td>0</td>\n",
       "      <td>3</td>\n",
       "      <td>Allen, Mr. William Henry</td>\n",
       "      <td>0</td>\n",
       "      <td>35.0</td>\n",
       "      <td>0</td>\n",
       "      <td>0</td>\n",
       "      <td>373450</td>\n",
       "      <td>8.0500</td>\n",
       "      <td>NaN</td>\n",
       "      <td>S</td>\n",
       "      <td>0.0</td>\n",
       "      <td>0.0</td>\n",
       "      <td>1.0</td>\n",
       "      <td>0.0</td>\n",
       "      <td>0.0</td>\n",
       "      <td>1.0</td>\n",
       "    </tr>\n",
       "  </tbody>\n",
       "</table>\n",
       "</div>"
      ],
      "text/plain": [
       "   survived  pclass                                               name  sex  \\\n",
       "0         0       3                            Braund, Mr. Owen Harris    0   \n",
       "1         1       1  Cumings, Mrs. John Bradley (Florence Briggs Th...    0   \n",
       "2         1       3                             Heikkinen, Miss. Laina    0   \n",
       "3         1       1       Futrelle, Mrs. Jacques Heath (Lily May Peel)    0   \n",
       "4         0       3                           Allen, Mr. William Henry    0   \n",
       "\n",
       "    age  sibsp  parch            ticket     fare cabin embarked  pclass_1  \\\n",
       "0  22.0      1      0         A/5 21171   7.2500   NaN        S       0.0   \n",
       "1  38.0      1      0          PC 17599  71.2833   C85        C       1.0   \n",
       "2  26.0      0      0  STON/O2. 3101282   7.9250   NaN        S       0.0   \n",
       "3  35.0      1      0            113803  53.1000  C123        S       1.0   \n",
       "4  35.0      0      0            373450   8.0500   NaN        S       0.0   \n",
       "\n",
       "   pclass_2  pclass_3    C    Q    S  \n",
       "0       0.0       1.0  0.0  0.0  1.0  \n",
       "1       0.0       0.0  1.0  0.0  0.0  \n",
       "2       0.0       1.0  0.0  0.0  1.0  \n",
       "3       0.0       0.0  0.0  0.0  1.0  \n",
       "4       0.0       1.0  0.0  0.0  1.0  "
      ]
     },
     "execution_count": 35,
     "metadata": {},
     "output_type": "execute_result"
    }
   ],
   "source": [
    "# Embarked Dummies\n",
    "embarked = pd.get_dummies(df.embarked)\n",
    "# embarked.columns = [\"embarked_\" + str(i) for i in embarked.columns]\n",
    "\n",
    "df = pd.concat([df,embarked], axis=1)\n",
    "\n",
    "df.columns\n",
    "df.head()"
   ]
  },
  {
   "cell_type": "code",
   "execution_count": 36,
   "metadata": {
    "collapsed": false
   },
   "outputs": [],
   "source": [
    "# Select features to include in analysis\n",
    "# from sklearn import feature_selection\n",
    "\n",
    "X = df[['age',\"sibsp\", \"parch\",'sex', \"fare\", \"C\", \"Q\", \"pclass_1\",\"pclass_2\"]]\n",
    "y = df.survived\n",
    "\n",
    "# feature_selection.f_classif(X,y)"
   ]
  },
  {
   "cell_type": "code",
   "execution_count": 37,
   "metadata": {
    "collapsed": true
   },
   "outputs": [],
   "source": [
    "# 2 - Split the data into train and test sets\n",
    "\n",
    "# random_state is just a seed value for the initial state\n",
    "X_train, X_test, y_train, y_test = train_test_split(X, y, test_size=0.3, random_state=1)"
   ]
  },
  {
   "cell_type": "code",
   "execution_count": 38,
   "metadata": {
    "collapsed": true
   },
   "outputs": [],
   "source": [
    "# \n",
    "train = pd.DataFrame(data=X_train, columns=['age',\"sibsp\", \"parch\",'sex', \"fare\", \"C\", \"Q\", \"pclass_1\",\"pclass_2\"])\n",
    "train['survived'] = y_train\n",
    "\n",
    "test = pd.DataFrame(data=X_test, columns=['age',\"sibsp\", \"parch\",'sex', \"fare\", \"C\", \"Q\", \"pclass_1\",\"pclass_2\"])\n",
    "test['survived'] = y_test"
   ]
  },
  {
   "cell_type": "code",
   "execution_count": 56,
   "metadata": {
    "collapsed": false
   },
   "outputs": [
    {
     "name": "stdout",
     "output_type": "stream",
     "text": [
      "Beta1 -0.0360189764223\n",
      "Beta2 -0.206351131376\n",
      "Beta3 0.367443758798\n",
      "Beta4 0.0\n",
      "Beta5 0.00332099727651\n",
      "Beta6 0.57957176825\n",
      "Beta7 1.00363472368\n",
      "Beta8 1.82854871449\n",
      "Beta9 1.38164928449\n"
     ]
    }
   ],
   "source": [
    "'''\n",
    "PART II: Training the Model\n",
    "'''\n",
    "\n",
    "# 1 - Run a logistic regression on the balance variable\n",
    "# 2 - Is the beta  value associated with balance significant?\n",
    "\n",
    "# The model we're using for classification\n",
    "features = LogisticRegression() \n",
    "\n",
    "# TODO: Apply the fit to determine coefficients of our sigmoid function\n",
    "features.fit(train[['age',\"sibsp\", \"parch\",'sex', \"fare\", \"C\", \"Q\", \"pclass_1\",\"pclass_2\"]], y_train)\n",
    "# features.fit(train[['survived']], y_train)\n",
    "\n",
    "features.coef_\n",
    "\n",
    "B9 = features.coef_[0][8]\n",
    "B8 = features.coef_[0][7]\n",
    "B7 = features.coef_[0][6]\n",
    "B6 = features.coef_[0][5]\n",
    "B5 = features.coef_[0][4]\n",
    "B4 = features.coef_[0][3]\n",
    "B3 = features.coef_[0][2]\n",
    "B2 = features.coef_[0][1]\n",
    "B1 = features.coef_[0][0]\n",
    "B0 = features.intercept_[0]\n",
    "np.exp(B1)\n",
    "\n",
    "print \"Beta1\", B1\n",
    "print \"Beta2\", B2\n",
    "print \"Beta3\", B3\n",
    "print \"Beta4\", B4\n",
    "print \"Beta5\", B5\n",
    "print \"Beta6\", B6\n",
    "print \"Beta7\", B7\n",
    "print \"Beta8\", B8\n",
    "print \"Beta9\", B9"
   ]
  },
  {
   "cell_type": "code",
   "execution_count": 66,
   "metadata": {
    "collapsed": false
   },
   "outputs": [
    {
     "name": "stdout",
     "output_type": "stream",
     "text": [
      "N:  268\n",
      "# TP:  51\n",
      "# TN:  128\n",
      "# FP:  25\n",
      "# FN:  64\n"
     ]
    }
   ],
   "source": [
    "# 4 - Create predictions using the model on the test set\n",
    "test['pred_survived'] = features.predict(X_test)\n",
    "\n",
    "predicted_survived = test[\"pred_survived\"]\n",
    "actual_survived = test[\"survived\"]\n",
    "\n",
    "true_positives = (test[\"survived\"] == test[\"pred_survived\"]) & (test[\"pred_survived\"] == 1)\n",
    "    \n",
    "true_negatives = (test[\"survived\"] == test[\"pred_survived\"]) & (test[\"pred_survived\"] == 0)\n",
    "\n",
    "false_positives = (test[\"survived\"] != test[\"pred_survived\"]) & (test[\"pred_survived\"] == 1)\n",
    "\n",
    "false_negatives = (test[\"survived\"] != test[\"pred_survived\"]) & (test[\"pred_survived\"] == 0)\n",
    "\n",
    "\n",
    "print \"N: \", len(test)\n",
    "print \"# TP: \", sum(true_positives)\n",
    "print \"# TN: \", sum(true_negatives)\n",
    "print \"# FP: \", sum(false_positives)\n",
    "print \"# FN: \", sum(false_negatives)"
   ]
  },
  {
   "cell_type": "code",
   "execution_count": 78,
   "metadata": {
    "collapsed": false
   },
   "outputs": [
    {
     "name": "stdout",
     "output_type": "stream",
     "text": [
      "N:  268\n",
      "\n",
      "Recall by hand:  0.44347826087\n",
      "Sklearn:  0.44347826087 \n",
      "\n",
      "Precision By hand:  0.671052631579\n"
     ]
    }
   ],
   "source": [
    "n = len(test)\n",
    "tp = sum(true_positives)  # 25\n",
    "tn = sum(true_negatives)  # 2903\n",
    "fp = sum(false_positives) # 6\n",
    "fn = sum(false_negatives) # 66\n",
    "\n",
    "print \"N: \", len(test)\n",
    "print\n",
    "\n",
    "from sklearn import metrics\n",
    "\n",
    "recall = float(tp) / (tp + fn)\n",
    "print \"Recall by hand: \", recall\n",
    "print \"Sklearn: \", metrics.recall_score(test['survived'], test['pred_survived']), \"\\n\"\n",
    "\n",
    "precision = float(tp) / (tp + fp)\n",
    "print \"Precision By hand: \", precision"
   ]
  },
  {
   "cell_type": "code",
   "execution_count": 71,
   "metadata": {
    "collapsed": false
   },
   "outputs": [
    {
     "data": {
      "text/plain": [
       "0.6633626661918951"
      ]
     },
     "execution_count": 71,
     "metadata": {},
     "output_type": "execute_result"
    }
   ],
   "source": [
    "f_score = (2* recall * precision) *(recall + precision)\n",
    "f_score"
   ]
  },
  {
   "cell_type": "code",
   "execution_count": 80,
   "metadata": {
    "collapsed": false
   },
   "outputs": [],
   "source": [
    "metrics.auc?"
   ]
  },
  {
   "cell_type": "code",
   "execution_count": null,
   "metadata": {
    "collapsed": true
   },
   "outputs": [],
   "source": []
  }
 ],
 "metadata": {
  "kernelspec": {
   "display_name": "Python 2",
   "language": "python",
   "name": "python2"
  },
  "language_info": {
   "codemirror_mode": {
    "name": "ipython",
    "version": 2
   },
   "file_extension": ".py",
   "mimetype": "text/x-python",
   "name": "python",
   "nbconvert_exporter": "python",
   "pygments_lexer": "ipython2",
   "version": "2.7.11"
  }
 },
 "nbformat": 4,
 "nbformat_minor": 0
}
