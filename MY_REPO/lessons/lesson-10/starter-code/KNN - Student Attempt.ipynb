{
 "cells": [
  {
   "cell_type": "code",
   "execution_count": 48,
   "metadata": {
    "collapsed": false
   },
   "outputs": [
    {
     "name": "stdout",
     "output_type": "stream",
     "text": [
      "Target classes:\n",
      "\t['setosa' 'versicolor' 'virginica']\n",
      "Features names:\n",
      "\t['sepal length (cm)', 'sepal width (cm)', 'petal length (cm)', 'petal width (cm)']\n"
     ]
    }
   ],
   "source": [
    "import pandas as pd\n",
    "import numpy as np\n",
    "\n",
    "import matplotlib.pyplot\n",
    "\n",
    "import sklearn.datasets\n",
    "\n",
    "iris_dataset = sklearn.datasets.load_iris()\n",
    "\n",
    "X = iris_dataset.data\n",
    "y = iris_dataset.target\n",
    "\n",
    "print \"Target classes:\\n\\t\", iris_dataset.target_names\n",
    "print \"Features names:\\n\\t\" , iris_dataset.feature_names\n",
    "\n",
    "# print iris_dataset.data\n",
    "# print iris_dataset.target\n",
    "\n",
    "%matplotlib inline"
   ]
  },
  {
   "cell_type": "code",
   "execution_count": 49,
   "metadata": {
    "collapsed": false
   },
   "outputs": [
    {
     "name": "stdout",
     "output_type": "stream",
     "text": [
      "1.0\n"
     ]
    }
   ],
   "source": [
    "from sklearn.neighbors import KNeighborsClassifier\n",
    "from sklearn.cross_validation import train_test_split\n",
    "\n",
    "X = iris_dataset.data\n",
    "y = iris_dataset.target\n",
    "\n",
    "X_train, X_test, y_train, y_test = train_test_split(X, y, test_size=0.3, random_state=1234)\n",
    "\n",
    "k=5\n",
    "\n",
    "knn_classif = KNeighborsClassifier(k)\n",
    "\n",
    "knn_classif.fit(X_train, y_train)\n",
    "\n",
    "print knn_classif.score(X_test, y_test)\n",
    "# print len(X_train)\n",
    "# print len(y_train)"
   ]
  },
  {
   "cell_type": "code",
   "execution_count": 50,
   "metadata": {
    "collapsed": false
   },
   "outputs": [
    {
     "ename": "TypeError",
     "evalue": "'function' object is not iterable",
     "output_type": "error",
     "traceback": [
      "\u001b[0;31m---------------------------------------------------------------------------\u001b[0m",
      "\u001b[0;31mTypeError\u001b[0m                                 Traceback (most recent call last)",
      "\u001b[0;32m<ipython-input-50-deb40db28751>\u001b[0m in \u001b[0;36m<module>\u001b[0;34m()\u001b[0m\n\u001b[0;32m----> 1\u001b[0;31m \u001b[0mX_train\u001b[0m\u001b[0;34m,\u001b[0m \u001b[0mX_test\u001b[0m\u001b[0;34m,\u001b[0m \u001b[0my_train\u001b[0m\u001b[0;34m,\u001b[0m \u001b[0my_test\u001b[0m \u001b[0;34m=\u001b[0m \u001b[0mtrain_test_split\u001b[0m\u001b[0;34m\u001b[0m\u001b[0m\n\u001b[0m",
      "\u001b[0;31mTypeError\u001b[0m: 'function' object is not iterable"
     ]
    }
   ],
   "source": [
    "X_train, X_test, y_train, y_test = train_test_split"
   ]
  },
  {
   "cell_type": "code",
   "execution_count": 51,
   "metadata": {
    "collapsed": false
   },
   "outputs": [
    {
     "name": "stdout",
     "output_type": "stream",
     "text": [
      "k: 2 => 0.978\n",
      "k: 3 => 0.978\n",
      "k: 4 => 0.956\n",
      "k: 5 => 1.000\n",
      "k: 6 => 1.000\n",
      "k: 7 => 0.978\n",
      "k: 8 => 0.978\n",
      "k: 9 => 1.000\n",
      "k: 10 => 1.000\n",
      "k: 11 => 1.000\n",
      "k: 12 => 1.000\n",
      "k: 13 => 0.978\n",
      "k: 14 => 0.978\n",
      "k: 15 => 0.978\n",
      "k: 16 => 0.978\n",
      "k: 17 => 0.978\n",
      "k: 18 => 0.978\n",
      "k: 19 => 0.978\n",
      "k: 20 => 0.978\n",
      "k: 21 => 0.978\n",
      "k: 22 => 0.978\n",
      "k: 23 => 0.978\n",
      "k: 24 => 0.956\n",
      "k: 25 => 0.956\n",
      "k: 26 => 0.956\n",
      "k: 27 => 0.978\n",
      "k: 28 => 0.978\n",
      "k: 29 => 0.978\n",
      "k: 30 => 0.956\n",
      "k: 31 => 0.956\n",
      "k: 32 => 0.956\n",
      "k: 33 => 0.978\n",
      "k: 34 => 0.978\n",
      "k: 35 => 0.978\n",
      "k: 36 => 0.978\n",
      "k: 37 => 0.978\n",
      "k: 38 => 0.978\n",
      "k: 39 => 0.978\n",
      "k: 40 => 0.956\n",
      "k: 41 => 0.978\n",
      "k: 42 => 0.978\n",
      "k: 43 => 0.978\n",
      "k: 44 => 0.978\n",
      "k: 45 => 0.956\n",
      "k: 46 => 0.933\n",
      "k: 47 => 0.956\n",
      "k: 48 => 0.933\n",
      "k: 49 => 0.956\n",
      "k: 50 => 0.956\n",
      "k: 51 => 0.956\n",
      "k: 52 => 0.956\n",
      "k: 53 => 0.956\n",
      "k: 54 => 0.933\n",
      "k: 55 => 0.956\n",
      "k: 56 => 0.933\n",
      "k: 57 => 0.956\n",
      "k: 58 => 0.956\n",
      "k: 59 => 0.956\n",
      "k: 60 => 0.956\n",
      "k: 61 => 0.956\n",
      "k: 62 => 0.956\n",
      "k: 63 => 0.844\n",
      "k: 64 => 0.911\n",
      "k: 65 => 0.911\n",
      "k: 66 => 0.911\n",
      "k: 67 => 0.778\n",
      "k: 68 => 0.778\n",
      "k: 69 => 0.733\n",
      "k: 70 => 0.733\n",
      "k: 71 => 0.733\n",
      "k: 72 => 0.733\n",
      "k: 73 => 0.711\n",
      "k: 74 => 0.711\n",
      "k: 75 => 0.711\n",
      "k: 76 => 0.711\n",
      "k: 77 => 0.711\n",
      "k: 78 => 0.711\n",
      "k: 79 => 0.711\n",
      "k: 80 => 0.711\n",
      "k: 81 => 0.711\n",
      "k: 82 => 0.711\n",
      "k: 83 => 0.711\n",
      "k: 84 => 0.689\n",
      "k: 85 => 0.689\n",
      "k: 86 => 0.689\n",
      "k: 87 => 0.689\n",
      "k: 88 => 0.689\n",
      "k: 89 => 0.689\n",
      "k: 90 => 0.667\n",
      "k: 91 => 0.667\n",
      "k: 92 => 0.667\n",
      "k: 93 => 0.667\n",
      "k: 94 => 0.644\n",
      "k: 95 => 0.644\n",
      "k: 96 => 0.644\n",
      "k: 97 => 0.644\n",
      "k: 98 => 0.644\n",
      "k: 99 => 0.622\n"
     ]
    }
   ],
   "source": [
    "def knn_classif(k):\n",
    "    # Define, fit, score    \n",
    "    knn_classif = KNeighborsClassifier(k)\n",
    "\n",
    "    knn_classif.fit(X_train, y_train)\n",
    "\n",
    "    return knn_classif.score(X_test, y_test)\n",
    "\n",
    "for k in range (2,100):\n",
    "    print \"k: %s => %0.3f\" % (k,knn_classif(k))\n",
    "    \n",
    "    \n",
    "scores = [knn_classif(k) for k in range(2,100)]"
   ]
  },
  {
   "cell_type": "code",
   "execution_count": 69,
   "metadata": {
    "collapsed": false
   },
   "outputs": [
    {
     "name": "stdout",
     "output_type": "stream",
     "text": [
      "1.0\n"
     ]
    }
   ],
   "source": [
    "from sklearn.neighbors import KNeighborsClassifier\n",
    "from sklearn.cross_validation import train_test_split\n",
    "\n",
    "X_iris = iris_dataset.data\n",
    "y_iris = iris_dataset.target\n",
    "\n",
    "X_train, X_test, y_train, y_test = train_test_split(X, y, test_size=0.3, random_state=1234)\n",
    "\n",
    "k=5\n",
    "\n",
    "knn_classif = KNeighborsClassifier(k)\n",
    "\n",
    "knn_classif.fit(X_train, y_train)\n",
    "\n",
    "print knn_classif.score(X_test, y_test)\n",
    "# print len(X_train)\n",
    "# print len(y_train)"
   ]
  },
  {
   "cell_type": "code",
   "execution_count": 82,
   "metadata": {
    "collapsed": false
   },
   "outputs": [
    {
     "ename": "ValueError",
     "evalue": "Unknown label type: array([[ 5.7,  4.4,  1.5,  0.4],\n       [ 5.4,  3.9,  1.3,  0.4],\n       [ 5.1,  3.5,  1.4,  0.3],\n       [ 5.7,  3.8,  1.7,  0.3],\n       [ 5.1,  3.8,  1.5,  0.3],\n       [ 5.4,  3.4,  1.7,  0.2],\n       [ 5.1,  3.7,  1.5,  0.4],\n       [ 4.6,  3.6,  1. ,  0.2],\n       [ 5.1,  3.3,  1.7,  0.5],\n       [ 4.8,  3.4,  1.9,  0.2],\n       [ 5. ,  3. ,  1.6,  0.2],\n       [ 5. ,  3.4,  1.6,  0.4],\n       [ 5.2,  3.5,  1.5,  0.2],\n       [ 5.2,  3.4,  1.4,  0.2],\n       [ 4.7,  3.2,  1.6,  0.2],\n       [ 4.8,  3.1,  1.6,  0.2],\n       [ 5.4,  3.4,  1.5,  0.4],\n       [ 5.2,  4.1,  1.5,  0.1],\n       [ 5.5,  4.2,  1.4,  0.2],\n       [ 4.9,  3.1,  1.5,  0.1],\n       [ 5. ,  3.2,  1.2,  0.2],\n       [ 5.5,  3.5,  1.3,  0.2],\n       [ 4.9,  3.1,  1.5,  0.1],\n       [ 4.4,  3. ,  1.3,  0.2],\n       [ 5.1,  3.4,  1.5,  0.2],\n       [ 5. ,  3.5,  1.3,  0.3],\n       [ 4.5,  2.3,  1.3,  0.3],\n       [ 4.4,  3.2,  1.3,  0.2],\n       [ 5. ,  3.5,  1.6,  0.6],\n       [ 5.1,  3.8,  1.9,  0.4],\n       [ 4.8,  3. ,  1.4,  0.3],\n       [ 5.1,  3.8,  1.6,  0.2],\n       [ 4.6,  3.2,  1.4,  0.2],\n       [ 5.3,  3.7,  1.5,  0.2],\n       [ 5. ,  3.3,  1.4,  0.2],\n       [ 7. ,  3.2,  4.7,  1.4],\n       [ 6.4,  3.2,  4.5,  1.5],\n       [ 6.9,  3.1,  4.9,  1.5],\n       [ 5.5,  2.3,  4. ,  1.3],\n       [ 6.5,  2.8,  4.6,  1.5],\n       [ 5.7,  2.8,  4.5,  1.3],\n       [ 6.3,  3.3,  4.7,  1.6],\n       [ 4.9,  2.4,  3.3,  1. ],\n       [ 6.6,  2.9,  4.6,  1.3],\n       [ 5.2,  2.7,  3.9,  1.4],\n       [ 5. ,  2. ,  3.5,  1. ],\n       [ 5.9,  3. ,  4.2,  1.5],\n       [ 6. ,  2.2,  4. ,  1. ],\n       [ 6.1,  2.9,  4.7,  1.4],\n       [ 5.6,  2.9,  3.6,  1.3],\n       [ 6.7,  3.1,  4.4,  1.4],\n       [ 5.6,  3. ,  4.5,  1.5],\n       [ 5.8,  2.7,  4.1,  1. ],\n       [ 6.2,  2.2,  4.5,  1.5],\n       [ 5.6,  2.5,  3.9,  1.1],\n       [ 5.9,  3.2,  4.8,  1.8],\n       [ 6.1,  2.8,  4. ,  1.3],\n       [ 6.3,  2.5,  4.9,  1.5],\n       [ 6.1,  2.8,  4.7,  1.2],\n       [ 6.4,  2.9,  4.3,  1.3],\n       [ 6.6,  3. ,  4.4,  1.4],\n       [ 6.8,  2.8,  4.8,  1.4],\n       [ 6.7,  3. ,  5. ,  1.7],\n       [ 6. ,  2.9,  4.5,  1.5],\n       [ 5.7,  2.6,  3.5,  1. ],\n       [ 5.5,  2.4,  3.8,  1.1],\n       [ 5.5,  2.4,  3.7,  1. ],\n       [ 5.8,  2.7,  3.9,  1.2],\n       [ 6. ,  2.7,  5.1,  1.6],\n       [ 5.4,  3. ,  4.5,  1.5],\n       [ 6. ,  3.4,  4.5,  1.6],\n       [ 6.7,  3.1,  4.7,  1.5],\n       [ 6.3,  2.3,  4.4,  1.3],\n       [ 5.6,  3. ,  4.1,  1.3],\n       [ 5.5,  2.5,  4. ,  1.3],\n       [ 5.5,  2.6,  4.4,  1.2],\n       [ 6.1,  3. ,  4.6,  1.4],\n       [ 5.8,  2.6,  4. ,  1.2],\n       [ 5. ,  2.3,  3.3,  1. ],\n       [ 5.6,  2.7,  4.2,  1.3],\n       [ 5.7,  3. ,  4.2,  1.2],\n       [ 5.7,  2.9,  4.2,  1.3],\n       [ 6.2,  2.9,  4.3,  1.3],\n       [ 5.1,  2.5,  3. ,  1.1],\n       [ 5.7,  2.8,  4.1,  1.3],\n       [ 6.3,  3.3,  6. ,  2.5],\n       [ 5.8,  2.7,  5.1,  1.9],\n       [ 7.1,  3. ,  5.9,  2.1],\n       [ 6.3,  2.9,  5.6,  1.8],\n       [ 6.5,  3. ,  5.8,  2.2],\n       [ 7.6,  3. ,  6.6,  2.1],\n       [ 4.9,  2.5,  4.5,  1.7],\n       [ 7.3,  2.9,  6.3,  1.8],\n       [ 6.7,  2.5,  5.8,  1.8],\n       [ 7.2,  3.6,  6.1,  2.5],\n       [ 6.5,  3.2,  5.1,  2. ],\n       [ 6.4,  2.7,  5.3,  1.9],\n       [ 6.8,  3. ,  5.5,  2.1],\n       [ 5.7,  2.5,  5. ,  2. ],\n       [ 5.8,  2.8,  5.1,  2.4],\n       [ 6.4,  3.2,  5.3,  2.3],\n       [ 6.5,  3. ,  5.5,  1.8],\n       [ 7.7,  3.8,  6.7,  2.2],\n       [ 7.7,  2.6,  6.9,  2.3],\n       [ 6. ,  2.2,  5. ,  1.5],\n       [ 6.9,  3.2,  5.7,  2.3],\n       [ 5.6,  2.8,  4.9,  2. ],\n       [ 7.7,  2.8,  6.7,  2. ],\n       [ 6.3,  2.7,  4.9,  1.8],\n       [ 6.7,  3.3,  5.7,  2.1],\n       [ 7.2,  3.2,  6. ,  1.8],\n       [ 6.2,  2.8,  4.8,  1.8],\n       [ 6.1,  3. ,  4.9,  1.8],\n       [ 6.4,  2.8,  5.6,  2.1],\n       [ 7.2,  3. ,  5.8,  1.6],\n       [ 7.4,  2.8,  6.1,  1.9],\n       [ 7.9,  3.8,  6.4,  2. ],\n       [ 6.4,  2.8,  5.6,  2.2],\n       [ 6.3,  2.8,  5.1,  1.5],\n       [ 6.1,  2.6,  5.6,  1.4],\n       [ 7.7,  3. ,  6.1,  2.3],\n       [ 6.3,  3.4,  5.6,  2.4],\n       [ 6.4,  3.1,  5.5,  1.8],\n       [ 6. ,  3. ,  4.8,  1.8],\n       [ 6.9,  3.1,  5.4,  2.1],\n       [ 6.7,  3.1,  5.6,  2.4],\n       [ 6.9,  3.1,  5.1,  2.3],\n       [ 5.8,  2.7,  5.1,  1.9],\n       [ 6.8,  3.2,  5.9,  2.3],\n       [ 6.7,  3.3,  5.7,  2.5],\n       [ 6.7,  3. ,  5.2,  2.3],\n       [ 6.3,  2.5,  5. ,  1.9],\n       [ 6.5,  3. ,  5.2,  2. ],\n       [ 6.2,  3.4,  5.4,  2.3],\n       [ 5.9,  3. ,  5.1,  1.8]])",
     "output_type": "error",
     "traceback": [
      "\u001b[0;31m---------------------------------------------------------------------------\u001b[0m",
      "\u001b[0;31mValueError\u001b[0m                                Traceback (most recent call last)",
      "\u001b[0;32m<ipython-input-82-c41147573860>\u001b[0m in \u001b[0;36m<module>\u001b[0;34m()\u001b[0m\n\u001b[1;32m     26\u001b[0m     \u001b[0my_test_fold\u001b[0m \u001b[0;34m=\u001b[0m \u001b[0mX_iris\u001b[0m\u001b[0;34m[\u001b[0m\u001b[0mfold\u001b[0m\u001b[0;34m[\u001b[0m\u001b[0;36m1\u001b[0m\u001b[0;34m]\u001b[0m\u001b[0;34m]\u001b[0m\u001b[0;34m\u001b[0m\u001b[0m\n\u001b[1;32m     27\u001b[0m \u001b[0;34m\u001b[0m\u001b[0m\n\u001b[0;32m---> 28\u001b[0;31m     \u001b[0;32mprint\u001b[0m \u001b[0;34m\"fold: %s => %s\"\u001b[0m \u001b[0;34m%\u001b[0m\u001b[0;34m(\u001b[0m\u001b[0mi\u001b[0m\u001b[0;34m,\u001b[0m \u001b[0mknn_classif\u001b[0m\u001b[0;34m(\u001b[0m\u001b[0mX_train_fold\u001b[0m\u001b[0;34m,\u001b[0m \u001b[0my_train_fold\u001b[0m\u001b[0;34m,\u001b[0m \u001b[0mX_test_fold\u001b[0m\u001b[0;34m,\u001b[0m \u001b[0my_test_fold\u001b[0m\u001b[0;34m)\u001b[0m\u001b[0;34m)\u001b[0m\u001b[0;34m\u001b[0m\u001b[0m\n\u001b[0m\u001b[1;32m     29\u001b[0m \u001b[0;34m\u001b[0m\u001b[0m\n\u001b[1;32m     30\u001b[0m     \u001b[0mi\u001b[0m \u001b[0;34m+=\u001b[0m\u001b[0;36m1\u001b[0m\u001b[0;34m\u001b[0m\u001b[0m\n",
      "\u001b[0;32m<ipython-input-82-c41147573860>\u001b[0m in \u001b[0;36mknn_classif\u001b[0;34m(X_train, y_train, X_test, y_test, k)\u001b[0m\n\u001b[1;32m     12\u001b[0m     \u001b[0mknn_classif\u001b[0m \u001b[0;34m=\u001b[0m \u001b[0mKNeighborsClassifier\u001b[0m\u001b[0;34m(\u001b[0m\u001b[0mk\u001b[0m\u001b[0;34m)\u001b[0m\u001b[0;34m\u001b[0m\u001b[0m\n\u001b[1;32m     13\u001b[0m \u001b[0;34m\u001b[0m\u001b[0m\n\u001b[0;32m---> 14\u001b[0;31m     \u001b[0mknn_classif\u001b[0m\u001b[0;34m.\u001b[0m\u001b[0mfit\u001b[0m\u001b[0;34m(\u001b[0m\u001b[0mX_train\u001b[0m\u001b[0;34m,\u001b[0m \u001b[0my_train\u001b[0m\u001b[0;34m)\u001b[0m\u001b[0;34m\u001b[0m\u001b[0m\n\u001b[0m\u001b[1;32m     15\u001b[0m \u001b[0;34m\u001b[0m\u001b[0m\n\u001b[1;32m     16\u001b[0m     \u001b[0;32mreturn\u001b[0m \u001b[0mknn_classif\u001b[0m\u001b[0;34m.\u001b[0m\u001b[0mscore\u001b[0m\u001b[0;34m(\u001b[0m\u001b[0mX_test\u001b[0m\u001b[0;34m,\u001b[0m \u001b[0my_test\u001b[0m\u001b[0;34m)\u001b[0m\u001b[0;34m\u001b[0m\u001b[0m\n",
      "\u001b[0;32m/Users/nicolai/anaconda/lib/python2.7/site-packages/sklearn/neighbors/base.pyc\u001b[0m in \u001b[0;36mfit\u001b[0;34m(self, X, y)\u001b[0m\n\u001b[1;32m    790\u001b[0m             \u001b[0mself\u001b[0m\u001b[0;34m.\u001b[0m\u001b[0moutputs_2d_\u001b[0m \u001b[0;34m=\u001b[0m \u001b[0mTrue\u001b[0m\u001b[0;34m\u001b[0m\u001b[0m\n\u001b[1;32m    791\u001b[0m \u001b[0;34m\u001b[0m\u001b[0m\n\u001b[0;32m--> 792\u001b[0;31m         \u001b[0mcheck_classification_targets\u001b[0m\u001b[0;34m(\u001b[0m\u001b[0my\u001b[0m\u001b[0;34m)\u001b[0m\u001b[0;34m\u001b[0m\u001b[0m\n\u001b[0m\u001b[1;32m    793\u001b[0m         \u001b[0mself\u001b[0m\u001b[0;34m.\u001b[0m\u001b[0mclasses_\u001b[0m \u001b[0;34m=\u001b[0m \u001b[0;34m[\u001b[0m\u001b[0;34m]\u001b[0m\u001b[0;34m\u001b[0m\u001b[0m\n\u001b[1;32m    794\u001b[0m         \u001b[0mself\u001b[0m\u001b[0;34m.\u001b[0m\u001b[0m_y\u001b[0m \u001b[0;34m=\u001b[0m \u001b[0mnp\u001b[0m\u001b[0;34m.\u001b[0m\u001b[0mempty\u001b[0m\u001b[0;34m(\u001b[0m\u001b[0my\u001b[0m\u001b[0;34m.\u001b[0m\u001b[0mshape\u001b[0m\u001b[0;34m,\u001b[0m \u001b[0mdtype\u001b[0m\u001b[0;34m=\u001b[0m\u001b[0mnp\u001b[0m\u001b[0;34m.\u001b[0m\u001b[0mint\u001b[0m\u001b[0;34m)\u001b[0m\u001b[0;34m\u001b[0m\u001b[0m\n",
      "\u001b[0;32m/Users/nicolai/anaconda/lib/python2.7/site-packages/sklearn/utils/multiclass.pyc\u001b[0m in \u001b[0;36mcheck_classification_targets\u001b[0;34m(y)\u001b[0m\n\u001b[1;32m    171\u001b[0m     if y_type not in ['binary', 'multiclass', 'multiclass-multioutput', \n\u001b[1;32m    172\u001b[0m             'multilabel-indicator', 'multilabel-sequences']:\n\u001b[0;32m--> 173\u001b[0;31m         \u001b[0;32mraise\u001b[0m \u001b[0mValueError\u001b[0m\u001b[0;34m(\u001b[0m\u001b[0;34m\"Unknown label type: %r\"\u001b[0m \u001b[0;34m%\u001b[0m \u001b[0my\u001b[0m\u001b[0;34m)\u001b[0m\u001b[0;34m\u001b[0m\u001b[0m\n\u001b[0m\u001b[1;32m    174\u001b[0m \u001b[0;34m\u001b[0m\u001b[0m\n\u001b[1;32m    175\u001b[0m \u001b[0;34m\u001b[0m\u001b[0m\n",
      "\u001b[0;31mValueError\u001b[0m: Unknown label type: array([[ 5.7,  4.4,  1.5,  0.4],\n       [ 5.4,  3.9,  1.3,  0.4],\n       [ 5.1,  3.5,  1.4,  0.3],\n       [ 5.7,  3.8,  1.7,  0.3],\n       [ 5.1,  3.8,  1.5,  0.3],\n       [ 5.4,  3.4,  1.7,  0.2],\n       [ 5.1,  3.7,  1.5,  0.4],\n       [ 4.6,  3.6,  1. ,  0.2],\n       [ 5.1,  3.3,  1.7,  0.5],\n       [ 4.8,  3.4,  1.9,  0.2],\n       [ 5. ,  3. ,  1.6,  0.2],\n       [ 5. ,  3.4,  1.6,  0.4],\n       [ 5.2,  3.5,  1.5,  0.2],\n       [ 5.2,  3.4,  1.4,  0.2],\n       [ 4.7,  3.2,  1.6,  0.2],\n       [ 4.8,  3.1,  1.6,  0.2],\n       [ 5.4,  3.4,  1.5,  0.4],\n       [ 5.2,  4.1,  1.5,  0.1],\n       [ 5.5,  4.2,  1.4,  0.2],\n       [ 4.9,  3.1,  1.5,  0.1],\n       [ 5. ,  3.2,  1.2,  0.2],\n       [ 5.5,  3.5,  1.3,  0.2],\n       [ 4.9,  3.1,  1.5,  0.1],\n       [ 4.4,  3. ,  1.3,  0.2],\n       [ 5.1,  3.4,  1.5,  0.2],\n       [ 5. ,  3.5,  1.3,  0.3],\n       [ 4.5,  2.3,  1.3,  0.3],\n       [ 4.4,  3.2,  1.3,  0.2],\n       [ 5. ,  3.5,  1.6,  0.6],\n       [ 5.1,  3.8,  1.9,  0.4],\n       [ 4.8,  3. ,  1.4,  0.3],\n       [ 5.1,  3.8,  1.6,  0.2],\n       [ 4.6,  3.2,  1.4,  0.2],\n       [ 5.3,  3.7,  1.5,  0.2],\n       [ 5. ,  3.3,  1.4,  0.2],\n       [ 7. ,  3.2,  4.7,  1.4],\n       [ 6.4,  3.2,  4.5,  1.5],\n       [ 6.9,  3.1,  4.9,  1.5],\n       [ 5.5,  2.3,  4. ,  1.3],\n       [ 6.5,  2.8,  4.6,  1.5],\n       [ 5.7,  2.8,  4.5,  1.3],\n       [ 6.3,  3.3,  4.7,  1.6],\n       [ 4.9,  2.4,  3.3,  1. ],\n       [ 6.6,  2.9,  4.6,  1.3],\n       [ 5.2,  2.7,  3.9,  1.4],\n       [ 5. ,  2. ,  3.5,  1. ],\n       [ 5.9,  3. ,  4.2,  1.5],\n       [ 6. ,  2.2,  4. ,  1. ],\n       [ 6.1,  2.9,  4.7,  1.4],\n       [ 5.6,  2.9,  3.6,  1.3],\n       [ 6.7,  3.1,  4.4,  1.4],\n       [ 5.6,  3. ,  4.5,  1.5],\n       [ 5.8,  2.7,  4.1,  1. ],\n       [ 6.2,  2.2,  4.5,  1.5],\n       [ 5.6,  2.5,  3.9,  1.1],\n       [ 5.9,  3.2,  4.8,  1.8],\n       [ 6.1,  2.8,  4. ,  1.3],\n       [ 6.3,  2.5,  4.9,  1.5],\n       [ 6.1,  2.8,  4.7,  1.2],\n       [ 6.4,  2.9,  4.3,  1.3],\n       [ 6.6,  3. ,  4.4,  1.4],\n       [ 6.8,  2.8,  4.8,  1.4],\n       [ 6.7,  3. ,  5. ,  1.7],\n       [ 6. ,  2.9,  4.5,  1.5],\n       [ 5.7,  2.6,  3.5,  1. ],\n       [ 5.5,  2.4,  3.8,  1.1],\n       [ 5.5,  2.4,  3.7,  1. ],\n       [ 5.8,  2.7,  3.9,  1.2],\n       [ 6. ,  2.7,  5.1,  1.6],\n       [ 5.4,  3. ,  4.5,  1.5],\n       [ 6. ,  3.4,  4.5,  1.6],\n       [ 6.7,  3.1,  4.7,  1.5],\n       [ 6.3,  2.3,  4.4,  1.3],\n       [ 5.6,  3. ,  4.1,  1.3],\n       [ 5.5,  2.5,  4. ,  1.3],\n       [ 5.5,  2.6,  4.4,  1.2],\n       [ 6.1,  3. ,  4.6,  1.4],\n       [ 5.8,  2.6,  4. ,  1.2],\n       [ 5. ,  2.3,  3.3,  1. ],\n       [ 5.6,  2.7,  4.2,  1.3],\n       [ 5.7,  3. ,  4.2,  1.2],\n       [ 5.7,  2.9,  4.2,  1.3],\n       [ 6.2,  2.9,  4.3,  1.3],\n       [ 5.1,  2.5,  3. ,  1.1],\n       [ 5.7,  2.8,  4.1,  1.3],\n       [ 6.3,  3.3,  6. ,  2.5],\n       [ 5.8,  2.7,  5.1,  1.9],\n       [ 7.1,  3. ,  5.9,  2.1],\n       [ 6.3,  2.9,  5.6,  1.8],\n       [ 6.5,  3. ,  5.8,  2.2],\n       [ 7.6,  3. ,  6.6,  2.1],\n       [ 4.9,  2.5,  4.5,  1.7],\n       [ 7.3,  2.9,  6.3,  1.8],\n       [ 6.7,  2.5,  5.8,  1.8],\n       [ 7.2,  3.6,  6.1,  2.5],\n       [ 6.5,  3.2,  5.1,  2. ],\n       [ 6.4,  2.7,  5.3,  1.9],\n       [ 6.8,  3. ,  5.5,  2.1],\n       [ 5.7,  2.5,  5. ,  2. ],\n       [ 5.8,  2.8,  5.1,  2.4],\n       [ 6.4,  3.2,  5.3,  2.3],\n       [ 6.5,  3. ,  5.5,  1.8],\n       [ 7.7,  3.8,  6.7,  2.2],\n       [ 7.7,  2.6,  6.9,  2.3],\n       [ 6. ,  2.2,  5. ,  1.5],\n       [ 6.9,  3.2,  5.7,  2.3],\n       [ 5.6,  2.8,  4.9,  2. ],\n       [ 7.7,  2.8,  6.7,  2. ],\n       [ 6.3,  2.7,  4.9,  1.8],\n       [ 6.7,  3.3,  5.7,  2.1],\n       [ 7.2,  3.2,  6. ,  1.8],\n       [ 6.2,  2.8,  4.8,  1.8],\n       [ 6.1,  3. ,  4.9,  1.8],\n       [ 6.4,  2.8,  5.6,  2.1],\n       [ 7.2,  3. ,  5.8,  1.6],\n       [ 7.4,  2.8,  6.1,  1.9],\n       [ 7.9,  3.8,  6.4,  2. ],\n       [ 6.4,  2.8,  5.6,  2.2],\n       [ 6.3,  2.8,  5.1,  1.5],\n       [ 6.1,  2.6,  5.6,  1.4],\n       [ 7.7,  3. ,  6.1,  2.3],\n       [ 6.3,  3.4,  5.6,  2.4],\n       [ 6.4,  3.1,  5.5,  1.8],\n       [ 6. ,  3. ,  4.8,  1.8],\n       [ 6.9,  3.1,  5.4,  2.1],\n       [ 6.7,  3.1,  5.6,  2.4],\n       [ 6.9,  3.1,  5.1,  2.3],\n       [ 5.8,  2.7,  5.1,  1.9],\n       [ 6.8,  3.2,  5.9,  2.3],\n       [ 6.7,  3.3,  5.7,  2.5],\n       [ 6.7,  3. ,  5.2,  2.3],\n       [ 6.3,  2.5,  5. ,  1.9],\n       [ 6.5,  3. ,  5.2,  2. ],\n       [ 6.2,  3.4,  5.4,  2.3],\n       [ 5.9,  3. ,  5.1,  1.8]])"
     ]
    }
   ],
   "source": [
    "from sklearn.cross_validation import KFold\n",
    "\n",
    "\n",
    "N_SAMPLES = 100\n",
    "scores = []\n",
    "\n",
    "kfolds = 10\n",
    "iris_folds = KFold(len(X_iris), kfolds)\n",
    "\n",
    "def knn_classif(X_train, y_train, X_test, y_test, k=10):\n",
    "    # Define, fit, score    \n",
    "    knn_classif = KNeighborsClassifier(k)\n",
    "\n",
    "    knn_classif.fit(X_train, y_train)\n",
    "\n",
    "    return knn_classif.score(X_test, y_test)\n",
    "\n",
    "i=1\n",
    "for fold in iris_folds:\n",
    "#     print \"TRAINING INDICES:\", fold[0]\n",
    "#     print \"TEST INDICES:\", fold[1]\n",
    "    \n",
    "    X_train_fold = X_iris[fold[0], :] \n",
    "    X_test_fold = X_iris[fold[1], :]\n",
    "    \n",
    "    y_train_fold = X_iris[fold[0]] \n",
    "    y_test_fold = X_iris[fold[1]]\n",
    "    \n",
    "    print \"fold: %s => %s\" %(i, knn_classif(X_train_fold, y_train_fold, X_test_fold, y_test_fold))\n",
    "    \n",
    "    i +=1\n",
    "    \n",
    "\n",
    "\n",
    "# for k in range (2,100):\n",
    "#     print \"k: %s => %0.3f\" % (k,knn_classif(k))\n",
    "    \n",
    "    \n",
    "# scores = [knn_classif(k) for k in range(2,100)]\n",
    "    \n"
   ]
  },
  {
   "cell_type": "code",
   "execution_count": 89,
   "metadata": {
    "collapsed": false
   },
   "outputs": [
    {
     "ename": "SyntaxError",
     "evalue": "non-keyword arg after keyword arg (<ipython-input-89-5b64fcbb26f1>, line 12)",
     "output_type": "error",
     "traceback": [
      "\u001b[0;36m  File \u001b[0;32m\"<ipython-input-89-5b64fcbb26f1>\"\u001b[0;36m, line \u001b[0;32m12\u001b[0m\n\u001b[0;31m    gridsearch = GridSearchCV(estimator=classifier, param_grid=parameter_space, cross_validator)\u001b[0m\n\u001b[0;31mSyntaxError\u001b[0m\u001b[0;31m:\u001b[0m non-keyword arg after keyword arg\n"
     ]
    }
   ],
   "source": [
    "from sklearn.grid_search import GridSearchCV\n",
    "\n",
    "classifier = KNeighborsClassifier()\n",
    "\n",
    "parameter_space = {\n",
    "    \"n_neighbors\": range(2, 99),\n",
    "    \"weights\": [\"uniform\", \"distance\"]\n",
    "}\n",
    "\n",
    "cross_validator = KFold(len(X_iris), 20)\n",
    "\n",
    "gridsearch = GridSearchCV(estimator=classifier, param_grid=parameter_space, cross_validator)\n",
    "\n",
    "grid_search.fit(X_iris, y_iris)\n",
    "\n",
    "print gridsearch.best_params_\n",
    "print grid_search.best_score_\n",
    "\n",
    "print \"Best score was %0.3f at k=%s\" % (gridsearch.best_score)\n"
   ]
  },
  {
   "cell_type": "code",
   "execution_count": null,
   "metadata": {
    "collapsed": true
   },
   "outputs": [],
   "source": []
  }
 ],
 "metadata": {
  "kernelspec": {
   "display_name": "Python 2",
   "language": "python",
   "name": "python2"
  },
  "language_info": {
   "codemirror_mode": {
    "name": "ipython",
    "version": 2
   },
   "file_extension": ".py",
   "mimetype": "text/x-python",
   "name": "python",
   "nbconvert_exporter": "python",
   "pygments_lexer": "ipython2",
   "version": "2.7.11"
  }
 },
 "nbformat": 4,
 "nbformat_minor": 0
}
