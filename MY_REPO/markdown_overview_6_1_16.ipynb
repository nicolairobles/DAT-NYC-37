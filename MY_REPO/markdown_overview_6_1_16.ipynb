{
 "cells": [
  {
   "cell_type": "markdown",
   "metadata": {},
   "source": [
    "# Large Header \n",
    "## Level 2 Header\n",
    "### Level 3 Header\n",
    "#### Level 4 Header\n",
    "###### Level 5 Header\n",
    "---\n",
    "Text Formatting\n",
    "*Italicized*\n",
    "**Bold**\n",
    "_underline_\n",
    "\n",
    "(link)[http://link.com]\n",
    "\n",
    "<p style=\"background-color:red\">Paragraph</p>\n",
    "===\n",
    "\n",
    "- Bullet 1\n",
    "- Bullet 2\n",
    "\n",
    "1. List item 1\n",
    "2. List item 2"
   ]
  },
  {
   "cell_type": "code",
   "execution_count": null,
   "metadata": {
    "collapsed": true
   },
   "outputs": [],
   "source": []
  }
 ],
 "metadata": {
  "kernelspec": {
   "display_name": "Python 2",
   "language": "python",
   "name": "python2"
  },
  "language_info": {
   "codemirror_mode": {
    "name": "ipython",
    "version": 2
   },
   "file_extension": ".py",
   "mimetype": "text/x-python",
   "name": "python",
   "nbconvert_exporter": "python",
   "pygments_lexer": "ipython2",
   "version": "2.7.11"
  }
 },
 "nbformat": 4,
 "nbformat_minor": 0
}
