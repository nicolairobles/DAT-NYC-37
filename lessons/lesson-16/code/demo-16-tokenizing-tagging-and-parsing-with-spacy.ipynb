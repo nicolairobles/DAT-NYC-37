{
 "cells": [
  {
   "cell_type": "markdown",
   "metadata": {},
   "source": [
    "# Demo 16: Tokenizing, Tagging, and Parsing with `spacy`"
   ]
  },
  {
   "cell_type": "markdown",
   "metadata": {},
   "source": [
    "First load the NLP toolkit by specifying the language."
   ]
  },
  {
   "cell_type": "code",
   "execution_count": 3,
   "metadata": {
    "collapsed": false
   },
   "outputs": [],
   "source": [
    "from spacy.en import English\n",
    "nlp_toolkit = English()"
   ]
  },
  {
   "cell_type": "markdown",
   "metadata": {},
   "source": [
    "We want to extract several pieces of information from the following sentence: \"John hit the ball\""
   ]
  },
  {
   "cell_type": "code",
   "execution_count": 6,
   "metadata": {
    "collapsed": true
   },
   "outputs": [],
   "source": [
    "sentence = u\"John stepped up to the plate and swung the bat\" # the 'u' before the string makes it a Unicode string which spacy requires"
   ]
  },
  {
   "cell_type": "markdown",
   "metadata": {},
   "source": [
    "Now, We can use `spacy` to get information about this sentence"
   ]
  },
  {
   "cell_type": "code",
   "execution_count": 7,
   "metadata": {
    "collapsed": false
   },
   "outputs": [
    {
     "name": "stdout",
     "output_type": "stream",
     "text": [
      "‘\n",
      "\tParent: give\n",
      "\tPhrase type: punct\n",
      "\tKnown entity type: n/a\n",
      "\tLemma: '\n",
      "Give\n",
      "\tParent: give\n",
      "\tPhrase type: ROOT\n",
      "\tKnown entity type: n/a\n",
      "\tLemma: give\n",
      "it\n",
      "\tParent: give\n",
      "\tPhrase type: dobj\n",
      "\tKnown entity type: n/a\n",
      "\tLemma: it\n",
      "back\n",
      "\tParent: give\n",
      "\tPhrase type: prt\n",
      "\tKnown entity type: n/a\n",
      "\tLemma: back\n",
      ",\n",
      "\tParent: give\n",
      "\tPhrase type: punct\n",
      "\tKnown entity type: n/a\n",
      "\tLemma: ,\n",
      "’\n",
      "\tParent: give\n",
      "\tPhrase type: punct\n",
      "\tKnown entity type: n/a\n",
      "\tLemma: '\n",
      "he\n",
      "\tParent: plead\n",
      "\tPhrase type: nsubj\n",
      "\tKnown entity type: n/a\n",
      "\tLemma: he\n",
      "pleaded\n",
      "\tParent: plead\n",
      "\tPhrase type: ROOT\n",
      "\tKnown entity type: n/a\n",
      "\tLemma: plead\n",
      "abjectly\n",
      "\tParent: plead\n",
      "\tPhrase type: advmod\n",
      "\tKnown entity type: n/a\n",
      "\tLemma: abjectly\n",
      ",\n",
      "\tParent: plead\n",
      "\tPhrase type: punct\n",
      "\tKnown entity type: n/a\n",
      "\tLemma: ,\n",
      "‘\n",
      "\tParent: plead\n",
      "\tPhrase type: punct\n",
      "\tKnown entity type: n/a\n",
      "\tLemma: '\n",
      "it\n",
      "\tParent: '\n",
      "\tPhrase type: nsubj\n",
      "\tKnown entity type: n/a\n",
      "\tLemma: it\n",
      "'s\n",
      "\tParent: '\n",
      "\tPhrase type: ROOT\n",
      "\tKnown entity type: n/a\n",
      "\tLemma: '\n",
      "mine\n",
      "\tParent: '\n",
      "\tPhrase type: attr\n",
      "\tKnown entity type: n/a\n",
      "\tLemma: mine\n",
      ".\n",
      "\tParent: '\n",
      "\tPhrase type: punct\n",
      "\tKnown entity type: n/a\n",
      "\tLemma: .\n",
      "’\n",
      "\tParent: '\n",
      "\tPhrase type: punct\n",
      "\tKnown entity type: n/a\n",
      "\tLemma: '\n"
     ]
    }
   ],
   "source": [
    "parsed = nlp_toolkit(sentence)\n",
    "\n",
    "for (i, word) in enumerate(parsed): \n",
    "    print word\n",
    "    print \"\\tParent: {}\".format(word.head.lemma_)\n",
    "    print \"\\tPhrase type: {}\".format(word.dep_)\n",
    "    print \"\\tKnown entity type: {}\".format(word.ent_type_ if word.ent_type_ else 'n/a')\n",
    "    print \"\\tLemma: {}\".format(word.lemma_)"
   ]
  }
 ],
 "metadata": {
  "kernelspec": {
   "display_name": "Python 2",
   "language": "python",
   "name": "python2"
  },
  "language_info": {
   "codemirror_mode": {
    "name": "ipython",
    "version": 2
   },
   "file_extension": ".py",
   "mimetype": "text/x-python",
   "name": "python",
   "nbconvert_exporter": "python",
   "pygments_lexer": "ipython2",
   "version": "2.7.11"
  }
 },
 "nbformat": 4,
 "nbformat_minor": 0
}
