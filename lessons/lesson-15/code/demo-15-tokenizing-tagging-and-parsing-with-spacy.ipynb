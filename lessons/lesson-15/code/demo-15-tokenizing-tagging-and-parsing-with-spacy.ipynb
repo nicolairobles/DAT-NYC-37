{
 "cells": [
  {
   "cell_type": "markdown",
   "metadata": {},
   "source": [
    "# DAT-NYC-37 | Demo 15 | Tokenizing, Tagging, and Parsing with `spacy`"
   ]
  },
  {
   "cell_type": "markdown",
   "metadata": {},
   "source": [
    "First load the NLP toolkit by specifying the language.\n",
    "\n",
    "https://spacy.io/\n",
    "\n",
    "**Installation**\n",
    "\n",
    "`pip install spacy`"
   ]
  },
  {
   "cell_type": "code",
   "execution_count": 1,
   "metadata": {
    "collapsed": false
   },
   "outputs": [],
   "source": [
    "from spacy.en import English\n",
    "nlp_toolkit = English()"
   ]
  },
  {
   "cell_type": "markdown",
   "metadata": {},
   "source": [
    "We want to extract several pieces of information from the following sentence: \"John hit the ball\""
   ]
  },
  {
   "cell_type": "code",
   "execution_count": 7,
   "metadata": {
    "collapsed": true
   },
   "outputs": [],
   "source": [
    "sentence = u'John hits the ball quickly' # the 'u' before the string makes it a Unicode string which spacy requires"
   ]
  },
  {
   "cell_type": "markdown",
   "metadata": {},
   "source": [
    "Now, We can use `spacy` to get information about this sentence"
   ]
  },
  {
   "cell_type": "code",
   "execution_count": 12,
   "metadata": {
    "collapsed": false
   },
   "outputs": [
    {
     "name": "stdout",
     "output_type": "stream",
     "text": [
      "John\n",
      "\tParent: hit\n",
      "\tPhrase type: nsubj\n",
      "\tKnown entity type: PERSON\n",
      "\\Orth: John\n",
      "\tLemma: john\n",
      "hits\n",
      "\tParent: hit\n",
      "\tPhrase type: ROOT\n",
      "\tKnown entity type: n/a\n",
      "\\Orth: hits\n",
      "\tLemma: hit\n",
      "the\n",
      "\tParent: ball\n",
      "\tPhrase type: det\n",
      "\tKnown entity type: n/a\n",
      "\\Orth: the\n",
      "\tLemma: the\n",
      "ball\n",
      "\tParent: hit\n",
      "\tPhrase type: dobj\n",
      "\tKnown entity type: n/a\n",
      "\\Orth: ball\n",
      "\tLemma: ball\n",
      "quickly\n",
      "\tParent: hit\n",
      "\tPhrase type: advmod\n",
      "\tKnown entity type: n/a\n",
      "\\Orth: quickly\n",
      "\tLemma: quickly\n"
     ]
    }
   ],
   "source": [
    "parsed = nlp_toolkit(sentence)\n",
    "\n",
    "for (i, word) in enumerate(parsed): \n",
    "    print word\n",
    "    print \"\\tParent: {}\".format(word.head.lemma_)\n",
    "    print \"\\tPhrase type: {}\".format(word.dep_)\n",
    "    print \"\\tKnown entity type: {}\".format(word.ent_type_ if word.ent_type_ else 'n/a')\n",
    "    print \"\\tLemma: {}\".format(word.lemma_)"
   ]
  }
 ],
 "metadata": {
  "kernelspec": {
   "display_name": "Python 2",
   "language": "python",
   "name": "python2"
  },
  "language_info": {
   "codemirror_mode": {
    "name": "ipython",
    "version": 2
   },
   "file_extension": ".py",
   "mimetype": "text/x-python",
   "name": "python",
   "nbconvert_exporter": "python",
   "pygments_lexer": "ipython2",
   "version": "2.7.11"
  }
 },
 "nbformat": 4,
 "nbformat_minor": 0
}
