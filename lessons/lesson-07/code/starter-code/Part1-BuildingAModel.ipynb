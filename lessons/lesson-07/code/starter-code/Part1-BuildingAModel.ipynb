{
 "cells": [
  {
   "cell_type": "markdown",
   "metadata": {},
   "source": [
    "# Guided Practice: Multiple Regression Analysis using citi bike data "
   ]
  },
  {
   "cell_type": "code",
   "execution_count": null,
   "metadata": {
    "collapsed": false
   },
   "outputs": [],
   "source": [
    "import numpy as np\n",
    "import pandas as pd\n",
    "import seaborn as sns\n",
    "from sklearn import linear_model, metrics\n",
    "\n",
    "import statsmodels.api as sm\n",
    "\n",
    "%matplotlib inline\n",
    "\n",
    "bike_data = pd.read_csv('https://github.com/ga-students/DAT-NYC-37/raw/master/lessons/lesson-07/assets/dataset/bikeshare.csv')\n",
    "bike_data.head()"
   ]
  },
  {
   "cell_type": "markdown",
   "metadata": {},
   "source": [
    "### Review! Distributions:"
   ]
  },
  {
   "cell_type": "code",
   "execution_count": null,
   "metadata": {
    "collapsed": false
   },
   "outputs": [],
   "source": [
    "print bike_data['temp'].skew()\n",
    "print bike_data['temp'].kurt()\n",
    "\n",
    "bike_data['temp'].hist(bins=20)\n",
    "sm.qqplot(bike_data['temp'], fit=True)"
   ]
  },
  {
   "cell_type": "markdown",
   "metadata": {},
   "source": [
    "![QQ plot types](http://i.stack.imgur.com/ZXRkL.png)"
   ]
  },
  {
   "cell_type": "markdown",
   "metadata": {},
   "source": [
    "There can be a similar effect from a feature set that is a singular matrix, which is when there is a clear relationship in the matrix (for example, the sum of all rows = 1).\n",
    "\n",
    "### Run through the following code on your own.\n",
    "#### What happens to the coefficients when you include all weather situations instead of just including all except one?"
   ]
  },
  {
   "cell_type": "code",
   "execution_count": null,
   "metadata": {
    "collapsed": true
   },
   "outputs": [],
   "source": [
    "from sklearn import feature_selection, linear_model\n",
    "\n",
    "# From last class...\n",
    "def get_linear_model_metrics(X, y):\n",
    "    \n",
    "    # *TODO* 1: Describe in your words\n",
    "    model = linear_model.LinearRegression()   # Specify the model\n",
    "    pvals = feature_selection.f_regression(X, y)[1]  # Defining the model\n",
    "    # get the pvalue of X given y. Ignore f-stat for now.\n",
    "    \n",
    "    # *TODO*: Describe in your words\n",
    "    \n",
    "    # start with an empty linear regression object\n",
    "    # .fit() runs the linear regression function on X and y\n",
    "    model.fit(X, y)\n",
    "\n",
    "    residuals = (y - model.predict(X)).values\n",
    "\n",
    "    # print the necessary values\n",
    "    # *TODO*: Describe in your words\n",
    "    print 'P Values:', pvals\n",
    "    print 'Coefficients:', model.coef_\n",
    "    print 'y-intercept:', model.intercept_\n",
    "    print 'R-Squared:', model.score(X,y)\n",
    "    print\n",
    "    \n",
    "    # keep the model\n",
    "    return model"
   ]
  },
  {
   "cell_type": "code",
   "execution_count": null,
   "metadata": {
    "collapsed": false
   },
   "outputs": [],
   "source": [
    "y = bike_data['casual']\n",
    "\n",
    "lm = linear_model.LinearRegression()\n",
    "weather = pd.get_dummies(bike_data.weathersit)\n",
    "\n",
    "get_linear_model_metrics(weather[[1, 2, 3, 4]], y)\n",
    "\n",
    "# Set one weather as the reference (drop it), weather situation  = 4\n",
    "get_linear_model_metrics(weather[[1, 2, 3]], y)"
   ]
  },
  {
   "cell_type": "markdown",
   "metadata": {},
   "source": [
    "# Building a model to predict guest ridership\n",
    "With a partner, complete this code together and visualize the correlations of all the numerical features built into the data set.\n",
    "\n",
    "We want to:\n",
    "- Id categorical variables\n",
    "- Create dummies (weather situation is done for you in the starter code)\n",
    "- Find at least two more features that are not correlated with current features, but could be strong indicators for predicting guest riders."
   ]
  },
  {
   "cell_type": "code",
   "execution_count": null,
   "metadata": {
    "collapsed": true
   },
   "outputs": [],
   "source": [
    "# Hint: use sns.heatmap or sns.pairplot(df) to explore your variable relationships!"
   ]
  },
  {
   "cell_type": "code",
   "execution_count": null,
   "metadata": {
    "collapsed": false
   },
   "outputs": [],
   "source": [
    "# Sample starter code (hints!)\n",
    "\n",
    "#Dummies example: \n",
    "weather = pd.get_dummies(bike_data.weathersit)\n",
    "\n",
    "#create new names for our new dummy variables\n",
    "weather.columns = ['weather_' + str(i) for i in weather.columns]\n",
    "\n",
    "#join those new variables back into the larger dataset\n",
    "bikemodel_data = bike_data.join(weather)\n",
    "print bikemodel_data.columns\n",
    "\n",
    "#Select columns to keep. Don't forget to set a reference category for your dummies (aka drop one)\n",
    "columns_to_keep = ['temp', 'weather_1', 'weather_2', 'weather_3'] #[which_variables?]\n",
    "\n",
    "#checking for colinearity\n",
    "cmap = sns.diverging_palette(220, 10, as_cmap=True)\n",
    "correlations = bikemodel_data[columns_to_keep].corr()# what are we getting the correlations of?\n",
    "\n",
    "print correlations\n",
    "print sns.heatmap(correlations, cmap=cmap)"
   ]
  },
  {
   "cell_type": "markdown",
   "metadata": {},
   "source": [
    "## Independent Practice: Building model to predict guest ridership \n",
    "\n",
    "\n",
    "#### Pay attention to:\n",
    "* Which variables would make sense to dummy (because they are categorical, not continuous)? \n",
    "* the distribution of riders (should we rescale the data?)  \n",
    "* checking correlations with variables and guest riders  \n",
    "* having a feature space (our matrix) with low multicollinearity  \n",
    "* the linear assumption -- given all feature values being 0, should we have no ridership? negative ridership? positive ridership?\n",
    "* What features might explain ridership but aren't included in the data set? \n",
    "\n",
    "### You're done when:  \n",
    "If your model has an r-squared above .4, this a relatively effective model for the data available. Kudos! Move on to the bonus!"
   ]
  },
  {
   "cell_type": "code",
   "execution_count": null,
   "metadata": {
    "collapsed": true
   },
   "outputs": [],
   "source": [
    "# your code here...\n",
    "\n",
    "bike_data.columns"
   ]
  },
  {
   "cell_type": "code",
   "execution_count": null,
   "metadata": {
    "collapsed": true
   },
   "outputs": [],
   "source": [
    "# and here"
   ]
  },
  {
   "cell_type": "code",
   "execution_count": null,
   "metadata": {
    "collapsed": true
   },
   "outputs": [],
   "source": [
    "# add as many cells as you need :) "
   ]
  },
  {
   "cell_type": "markdown",
   "metadata": {},
   "source": [
    "#### 1: What's the strongest predictor? "
   ]
  },
  {
   "cell_type": "markdown",
   "metadata": {},
   "source": [
    "Answer:"
   ]
  },
  {
   "cell_type": "markdown",
   "metadata": {},
   "source": [
    "#### 2: How well did your model do? "
   ]
  },
  {
   "cell_type": "markdown",
   "metadata": {},
   "source": [
    "Answer:"
   ]
  },
  {
   "cell_type": "markdown",
   "metadata": {},
   "source": [
    "#### 3: How can you improve it? "
   ]
  },
  {
   "cell_type": "markdown",
   "metadata": {},
   "source": [
    "Answer:"
   ]
  },
  {
   "cell_type": "markdown",
   "metadata": {
    "collapsed": true
   },
   "source": [
    "### Bonus:\n",
    "    \n",
    "We've completed a model that explains casual guest riders. Now it's your turn to build another model, using a different y (outcome) variable: registered riders."
   ]
  },
  {
   "cell_type": "markdown",
   "metadata": {
    "collapsed": true
   },
   "source": [
    "**Bonus 1:** What's the strongest predictor? "
   ]
  },
  {
   "cell_type": "markdown",
   "metadata": {},
   "source": [
    "**Bonus 2:** How well did your model do? "
   ]
  },
  {
   "cell_type": "markdown",
   "metadata": {},
   "source": [
    "**Bonus 3:** How can you improve it? "
   ]
  },
  {
   "cell_type": "markdown",
   "metadata": {},
   "source": [
    "### Additional Resources:\n",
    "\n",
    "- Good explanation of when to apply log scaling: http://stats.stackexchange.com/a/28007"
   ]
  }
 ],
 "metadata": {
  "kernelspec": {
   "display_name": "Python 2",
   "language": "python",
   "name": "python2"
  },
  "language_info": {
   "codemirror_mode": {
    "name": "ipython",
    "version": 2
   },
   "file_extension": ".py",
   "mimetype": "text/x-python",
   "name": "python",
   "nbconvert_exporter": "python",
   "pygments_lexer": "ipython2",
   "version": "2.7.11"
  }
 },
 "nbformat": 4,
 "nbformat_minor": 0
}
