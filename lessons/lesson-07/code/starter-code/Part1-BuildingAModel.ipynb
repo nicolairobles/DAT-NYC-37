{
 "cells": [
  {
   "cell_type": "markdown",
   "metadata": {},
   "source": [
    "# Guided Practice: Multiple Regression Analysis using citi bike data "
   ]
  },
  {
   "cell_type": "code",
   "execution_count": 15,
   "metadata": {
    "collapsed": false
   },
   "outputs": [
    {
     "data": {
      "text/html": [
       "<div>\n",
       "<table border=\"1\" class=\"dataframe\">\n",
       "  <thead>\n",
       "    <tr style=\"text-align: right;\">\n",
       "      <th></th>\n",
       "      <th>instant</th>\n",
       "      <th>dteday</th>\n",
       "      <th>season</th>\n",
       "      <th>yr</th>\n",
       "      <th>mnth</th>\n",
       "      <th>hr</th>\n",
       "      <th>holiday</th>\n",
       "      <th>weekday</th>\n",
       "      <th>workingday</th>\n",
       "      <th>weathersit</th>\n",
       "      <th>temp</th>\n",
       "      <th>atemp</th>\n",
       "      <th>hum</th>\n",
       "      <th>windspeed</th>\n",
       "      <th>casual</th>\n",
       "      <th>registered</th>\n",
       "      <th>cnt</th>\n",
       "    </tr>\n",
       "  </thead>\n",
       "  <tbody>\n",
       "    <tr>\n",
       "      <th>0</th>\n",
       "      <td>1</td>\n",
       "      <td>2011-01-01</td>\n",
       "      <td>1</td>\n",
       "      <td>0</td>\n",
       "      <td>1</td>\n",
       "      <td>0</td>\n",
       "      <td>0</td>\n",
       "      <td>6</td>\n",
       "      <td>0</td>\n",
       "      <td>1</td>\n",
       "      <td>0.24</td>\n",
       "      <td>0.2879</td>\n",
       "      <td>0.81</td>\n",
       "      <td>0.0</td>\n",
       "      <td>3</td>\n",
       "      <td>13</td>\n",
       "      <td>16</td>\n",
       "    </tr>\n",
       "    <tr>\n",
       "      <th>1</th>\n",
       "      <td>2</td>\n",
       "      <td>2011-01-01</td>\n",
       "      <td>1</td>\n",
       "      <td>0</td>\n",
       "      <td>1</td>\n",
       "      <td>1</td>\n",
       "      <td>0</td>\n",
       "      <td>6</td>\n",
       "      <td>0</td>\n",
       "      <td>1</td>\n",
       "      <td>0.22</td>\n",
       "      <td>0.2727</td>\n",
       "      <td>0.80</td>\n",
       "      <td>0.0</td>\n",
       "      <td>8</td>\n",
       "      <td>32</td>\n",
       "      <td>40</td>\n",
       "    </tr>\n",
       "    <tr>\n",
       "      <th>2</th>\n",
       "      <td>3</td>\n",
       "      <td>2011-01-01</td>\n",
       "      <td>1</td>\n",
       "      <td>0</td>\n",
       "      <td>1</td>\n",
       "      <td>2</td>\n",
       "      <td>0</td>\n",
       "      <td>6</td>\n",
       "      <td>0</td>\n",
       "      <td>1</td>\n",
       "      <td>0.22</td>\n",
       "      <td>0.2727</td>\n",
       "      <td>0.80</td>\n",
       "      <td>0.0</td>\n",
       "      <td>5</td>\n",
       "      <td>27</td>\n",
       "      <td>32</td>\n",
       "    </tr>\n",
       "  </tbody>\n",
       "</table>\n",
       "</div>"
      ],
      "text/plain": [
       "   instant      dteday  season  yr  mnth  hr  holiday  weekday  workingday  \\\n",
       "0        1  2011-01-01       1   0     1   0        0        6           0   \n",
       "1        2  2011-01-01       1   0     1   1        0        6           0   \n",
       "2        3  2011-01-01       1   0     1   2        0        6           0   \n",
       "\n",
       "   weathersit  temp   atemp   hum  windspeed  casual  registered  cnt  \n",
       "0           1  0.24  0.2879  0.81        0.0       3          13   16  \n",
       "1           1  0.22  0.2727  0.80        0.0       8          32   40  \n",
       "2           1  0.22  0.2727  0.80        0.0       5          27   32  "
      ]
     },
     "execution_count": 15,
     "metadata": {},
     "output_type": "execute_result"
    }
   ],
   "source": [
    "import numpy as np\n",
    "import pandas as pd\n",
    "import seaborn as sns\n",
    "from sklearn import linear_model, metrics\n",
    "\n",
    "import statsmodels.api as sm\n",
    "\n",
    "%matplotlib inline\n",
    "\n",
    "bike_data = pd.read_csv('https://github.com/ga-students/DAT-NYC-37/raw/master/lessons/lesson-07/assets/dataset/bikeshare.csv')\n",
    "bike_data.head(3)"
   ]
  },
  {
   "cell_type": "code",
   "execution_count": 131,
   "metadata": {
    "collapsed": true
   },
   "outputs": [],
   "source": [
    "from sklearn import feature_selection, linear_model\n",
    "\n",
    "# From last class...\n",
    "def get_linear_model_metrics(X, y):\n",
    "    model = linear_model.LinearRegression()   # Specify the model\n",
    "    pvals, fscores = feature_selection.f_regression(X, y)  # Defining the model\n",
    "    # get the pvalue of X given y. Ignore f-stat for now.\n",
    "    \n",
    "    # start with an empty linear regression object\n",
    "    # .fit() runs the linear regression function on X and y\n",
    "    model.fit(X, y)\n",
    "\n",
    "    residuals = (y - model.predict(X)).values\n",
    "\n",
    "    # print the necessary values\n",
    "    # *TODO*: Describe in your words\n",
    "    print 'F Scores:', fscores\n",
    "    print 'Coefficients:', model.coef_\n",
    "    print 'y-intercept:', model.intercept_\n",
    "    print 'R-Squared:', model.score(X,y)\n",
    "    print\n",
    "    \n",
    "    # keep the model\n",
    "    return model"
   ]
  },
  {
   "cell_type": "markdown",
   "metadata": {},
   "source": [
    "# Building a model to predict guest ridership\n",
    "With a partner, complete this code together and visualize the correlations of all the numerical features built into the data set.\n",
    "\n",
    "We want to:\n",
    "- Id categorical variables\n",
    "- Create dummies (weather situation is done for you in the starter code)\n",
    "- Find at least two more features that are not correlated with current features, but could be strong indicators for predicting guest riders."
   ]
  },
  {
   "cell_type": "code",
   "execution_count": 132,
   "metadata": {
    "collapsed": false
   },
   "outputs": [],
   "source": [
    "#create new names for our new dummy variables\n",
    "weather = pd.get_dummies(bike_data.weathersit)\n",
    "weather.columns = ['weather_' + str(i) for i in weather.columns]\n",
    "\n",
    "season = pd.get_dummies(bike_data.season)\n",
    "season.columns = ['season_' + str(i) for i in season.columns]\n",
    "\n",
    "weekday = pd.get_dummies(bike_data.weekday)\n",
    "weekday.columns = ['weekday_' + str(i) for i in weekday.columns]\n",
    "\n",
    "hr = pd.get_dummies(bike_data.hr)\n",
    "hr.columns = ['hr_' + str(i) for i in hr.columns]\n",
    "\n",
    "month = pd.get_dummies(bike_data.mnth)\n",
    "month.columns = ['month_' + str(i) for i in month.columns]\n",
    "\n",
    "#join those new variables back into the larger dataset\n",
    "bikemodel_data = pd.concat([bike_data, weather, season, month, hr, weekday], axis=1)"
   ]
  },
  {
   "cell_type": "code",
   "execution_count": 133,
   "metadata": {
    "collapsed": false
   },
   "outputs": [
    {
     "name": "stdout",
     "output_type": "stream",
     "text": [
      "Index([u'yr', u'holiday', u'atemp', u'hum', u'windspeed', u'weather_1',\n",
      "       u'weather_2', u'weather_3', u'season_1', u'season_2', u'season_3',\n",
      "       u'month_1', u'month_2', u'month_3', u'month_4', u'month_5', u'month_6',\n",
      "       u'month_7', u'month_8', u'month_9', u'month_10', u'month_12', u'hr_1',\n",
      "       u'hr_2', u'hr_3', u'hr_4', u'hr_5', u'hr_6', u'hr_7', u'hr_8', u'hr_9',\n",
      "       u'hr_10', u'hr_11', u'hr_12', u'hr_13', u'hr_14', u'hr_15', u'hr_16',\n",
      "       u'hr_17', u'hr_18', u'hr_19', u'hr_20', u'hr_21', u'hr_22', u'hr_23',\n",
      "       u'weekday_0', u'weekday_1', u'weekday_2', u'weekday_3', u'weekday_4',\n",
      "       u'weekday_5', u'weekday_6'],\n",
      "      dtype='object')\n",
      "F Scores: [  8.09908774e-080   3.15814032e-005   0.00000000e+000   0.00000000e+000\n",
      "   8.66781628e-033   3.75616929e-073   3.43170021e-022   1.57718666e-055\n",
      "   7.90819136e-239   1.70941845e-060   1.20544330e-119   7.20393520e-107\n",
      "   6.04893370e-081   7.48894210e-006   9.89721401e-008   2.10345324e-034\n",
      "   2.02298294e-036   1.86526710e-043   6.89088813e-027   1.52784974e-026\n",
      "   8.70854193e-006   8.98402890e-067   6.64996464e-060   3.26347943e-066\n",
      "   3.30809960e-073   9.64851198e-080   2.34162115e-081   8.63420127e-070\n",
      "   2.84021955e-043   5.03259555e-015   7.51024245e-003   1.56865913e-009\n",
      "   9.55402696e-041   5.42563140e-075   1.83858247e-094   6.55214084e-112\n",
      "   3.08895832e-108   4.17937513e-102   6.03744699e-105   3.54290569e-046\n",
      "   2.37080976e-013   7.55377998e-001   3.33118416e-005   5.89308930e-014\n",
      "   1.88193460e-030   2.25058832e-113   7.57296501e-015   1.87083828e-039\n",
      "   1.44468004e-042   4.75688343e-032   4.03826417e-006   8.69015528e-178]\n",
      "Coefficients: [  1.20300499e+01   2.21347827e+01   9.15339633e+01  -2.94953645e+01\n",
      "  -1.25192113e+01   3.47549660e+00   2.65176075e-02  -7.46776797e+00\n",
      "  -2.75751523e+00   6.78383446e+00  -3.09993369e-01  -5.62755426e+00\n",
      "  -6.99465266e+00   3.35929947e+00   1.14255659e+00   3.11874872e+00\n",
      "  -4.39162260e+00  -5.67758681e+00  -5.41411146e-01   6.61630046e+00\n",
      "   8.06087397e+00  -5.24950336e+00  -2.60125467e+00  -3.73915760e+00\n",
      "  -5.84022298e+00  -6.29621263e+00  -4.60602873e+00  -1.31878499e+00\n",
      "   4.87258266e+00   1.33508237e+01   1.98836321e+01   3.23734808e+01\n",
      "   4.23610235e+01   4.89313776e+01   5.10530719e+01   5.32018878e+01\n",
      "   5.22005360e+01   5.15128388e+01   5.34367850e+01   4.17049938e+01\n",
      "   3.14462016e+01   2.06699659e+01   1.42972771e+01   9.69555751e+00\n",
      "   4.18025342e+00  -2.04302362e+13  -2.04302362e+13  -2.04302362e+13\n",
      "  -2.04302362e+13  -2.04302362e+13  -2.04302362e+13  -2.04302362e+13]\n",
      "y-intercept: 2.04302361501e+13\n",
      "R-Squared: 0.588174905688\n",
      "\n"
     ]
    },
    {
     "data": {
      "text/plain": [
       "LinearRegression(copy_X=True, fit_intercept=True, n_jobs=1, normalize=False)"
      ]
     },
     "execution_count": 133,
     "metadata": {},
     "output_type": "execute_result"
    }
   ],
   "source": [
    "# -- my code starts here ---\n",
    "\n",
    "y = bike_data['casual']\n",
    "X = bikemodel_data.drop([\n",
    "        'instant',   # This is a date column, and is neither categorical nor numerical\n",
    "        'dteday',   # This is a date category\n",
    "        'weather_4',  # (We discussed this in class)\n",
    "        'season_4',  # (We discussed this in class)\n",
    "        'weekday_6',  # (We discussed this in class)\n",
    "        'month_11',  # (We discussed this in class)\n",
    "        'hr_0',  # (We discussed this in class)\n",
    "        'weathersit', \n",
    "        'season', \n",
    "        'weekday',\n",
    "        'workingday',\n",
    "        'hr',\n",
    "        'mnth',\n",
    "        'casual',\n",
    "        'registered', \n",
    "        'temp', \n",
    "        'cnt'\n",
    "    ], axis=1) # My features\n",
    "\n",
    "# We've only kept these columns\n",
    "print X.columns\n",
    "\n",
    "# The baseline. \n",
    "get_linear_model_metrics(X, y)"
   ]
  },
  {
   "cell_type": "code",
   "execution_count": null,
   "metadata": {
    "collapsed": true
   },
   "outputs": [],
   "source": [
    "f_r"
   ]
  },
  {
   "cell_type": "markdown",
   "metadata": {},
   "source": [
    "\n",
    "## Groups of 3: Building model to predict guest ridership \n",
    "\n",
    "\n",
    "#### Pay attention to:\n",
    "* Which variables would make sense to dummy (because they are categorical, not continuous)? \n",
    "* the distribution of riders (should we rescale the data?)  \n",
    "* checking correlations with variables and guest riders  \n",
    "* having a feature space (our matrix) with low multicollinearity  \n",
    "* the linear assumption -- given all feature values being 0, should we have no ridership? negative ridership? positive ridership?\n",
    "* What features might explain ridership but aren't included in the data set? \n",
    "\n",
    "### You're done when:  \n",
    "If your model has an r-squared above .4, this a relatively effective model for the data available. Kudos! Move on to the bonus!"
   ]
  },
  {
   "cell_type": "code",
   "execution_count": null,
   "metadata": {
    "collapsed": true
   },
   "outputs": [],
   "source": [
    "# your code here...\n",
    "\n",
    "bike_data.columns"
   ]
  },
  {
   "cell_type": "code",
   "execution_count": null,
   "metadata": {
    "collapsed": true
   },
   "outputs": [],
   "source": [
    "# and here"
   ]
  },
  {
   "cell_type": "code",
   "execution_count": null,
   "metadata": {
    "collapsed": true
   },
   "outputs": [],
   "source": [
    "# add as many cells as you need :) "
   ]
  },
  {
   "cell_type": "markdown",
   "metadata": {},
   "source": [
    "#### 1: What's the strongest predictor? "
   ]
  },
  {
   "cell_type": "markdown",
   "metadata": {},
   "source": [
    "Answer:"
   ]
  },
  {
   "cell_type": "markdown",
   "metadata": {},
   "source": [
    "#### 2: How well did your model do? "
   ]
  },
  {
   "cell_type": "markdown",
   "metadata": {},
   "source": [
    "Answer:"
   ]
  },
  {
   "cell_type": "markdown",
   "metadata": {},
   "source": [
    "#### 3: How can you improve it? "
   ]
  },
  {
   "cell_type": "markdown",
   "metadata": {},
   "source": [
    "Answer:"
   ]
  },
  {
   "cell_type": "markdown",
   "metadata": {
    "collapsed": true
   },
   "source": [
    "### Bonus:\n",
    "    \n",
    "We've completed a model that explains casual guest riders. Now it's your turn to build another model, using a different y (outcome) variable: registered riders."
   ]
  },
  {
   "cell_type": "markdown",
   "metadata": {
    "collapsed": true
   },
   "source": [
    "**Bonus 1:** What's the strongest predictor? "
   ]
  },
  {
   "cell_type": "markdown",
   "metadata": {},
   "source": [
    "**Bonus 2:** How well did your model do? "
   ]
  },
  {
   "cell_type": "markdown",
   "metadata": {},
   "source": [
    "**Bonus 3:** How can you improve it? "
   ]
  },
  {
   "cell_type": "markdown",
   "metadata": {},
   "source": [
    "### Additional Resources:\n",
    "\n",
    "- Good explanation of when to apply log scaling: http://stats.stackexchange.com/a/28007"
   ]
  }
 ],
 "metadata": {
  "kernelspec": {
   "display_name": "Python 2",
   "language": "python",
   "name": "python2"
  },
  "language_info": {
   "codemirror_mode": {
    "name": "ipython",
    "version": 2
   },
   "file_extension": ".py",
   "mimetype": "text/x-python",
   "name": "python",
   "nbconvert_exporter": "python",
   "pygments_lexer": "ipython2",
   "version": "2.7.11"
  }
 },
 "nbformat": 4,
 "nbformat_minor": 0
}
