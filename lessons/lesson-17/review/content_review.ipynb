{
 "cells": [
  {
   "cell_type": "markdown",
   "metadata": {},
   "source": [
    "# Review Supervised Learning: Comparing Classifiers\n",
    "\n",
    "In this exercise, we review all classifiers we have learned so far, and test their performance on the 20-newsgroups dataset. We saw this dataset earlier in [20_newsgroups.ipynb](../11_bayes/20_newsgroups.ipynb).\n",
    "\n",
    "Let's import all models."
   ]
  },
  {
   "cell_type": "code",
   "execution_count": 1,
   "metadata": {
    "collapsed": true
   },
   "outputs": [],
   "source": [
    "from sklearn.neighbors import KNeighborsClassifier\n",
    "from sklearn.linear_model import LogisticRegression\n",
    "from sklearn.tree import DecisionTreeClassifier\n",
    "from sklearn.ensemble import RandomForestClassifier"
   ]
  },
  {
   "cell_type": "markdown",
   "metadata": {},
   "source": [
    "Let's import the dataset. We use the keyword argument `categories=[...]` to limit our dataset. Omit this argument to load all twenty newsgroups."
   ]
  },
  {
   "cell_type": "code",
   "execution_count": 1,
   "metadata": {
    "collapsed": false,
    "scrolled": true
   },
   "outputs": [
    {
     "name": "stdout",
     "output_type": "stream",
     "text": [
      "['alt.atheism', 'comp.graphics', 'sci.space', 'talk.religion.misc']\n",
      "2034 newsgroups articles in 4 groups\n"
     ]
    }
   ],
   "source": [
    "from sklearn.datasets import fetch_20newsgroups\n",
    "\n",
    "categories = ['alt.atheism', 'sci.space', 'talk.religion.misc', 'comp.graphics']\n",
    "newsgroups = fetch_20newsgroups(subset='train', categories=categories)\n",
    "print newsgroups.target_names \n",
    "print len(newsgroups.data), 'newsgroups articles in', len(newsgroups.target_names), 'groups'"
   ]
  },
  {
   "cell_type": "markdown",
   "metadata": {},
   "source": [
    "The newsgroup articles are stored in `newsgroups.data`. These are actual messages.\n",
    "\n",
    "The target variables that we want to predict are in `newsgroups.target`. The number in `target` specifies the actual newsgroup in the `target_names`."
   ]
  },
  {
   "cell_type": "code",
   "execution_count": 2,
   "metadata": {
    "collapsed": false
   },
   "outputs": [
    {
     "data": {
      "image/png": "[encoded data removed]",
      "text/plain": [
       "<matplotlib.figure.Figure at 0x10b176c50>"
      ]
     },
     "metadata": {},
     "output_type": "display_data"
    }
   ],
   "source": [
    "import pandas as pd\n",
    "import seaborn\n",
    "from matplotlib import pyplot as plt\n",
    "%matplotlib inline\n",
    "\n",
    "y = newsgroups.target\n",
    "groups = pd.Series(newsgroups.target_names)\n",
    "f = groups[y].value_counts(ascending=True).plot(kind='barh', title=\"Number of articles per newsgroup\")"
   ]
  },
  {
   "cell_type": "markdown",
   "metadata": {},
   "source": [
    "Since we're processing text, we need vectorizers that transform our text features into a usable feature matrix we can feed into our models. You could use `CountVectorizer` or `TfidfVectorizer`, which we both explained in more detail in [20_newsgroups.ipynb](../11_bayes/20_newsgroups.ipynb). \n",
    "\n",
    "Feel free to **try out different options**, such as `ngram_range=(0,3)`."
   ]
  },
  {
   "cell_type": "code",
   "execution_count": 3,
   "metadata": {
    "collapsed": false
   },
   "outputs": [],
   "source": [
    "from sklearn.feature_extraction.text import CountVectorizer, TfidfVectorizer\n",
    "\n",
    "cv = CountVectorizer()  # or TfidfVectorizer, or different options\n",
    "X = cv.fit_transform(newsgroups.data)"
   ]
  },
  {
   "cell_type": "markdown",
   "metadata": {},
   "source": [
    "Fit the model and measure cross-validated accuracy, or AUC. Feel free to **try out different options here** as well, such as the regularization parameter, kernels, etc."
   ]
  },
  {
   "cell_type": "code",
   "execution_count": 5,
   "metadata": {
    "collapsed": true
   },
   "outputs": [],
   "source": [
    "from sklearn.cross_validation import train_test_split, cross_val_score"
   ]
  },
  {
   "cell_type": "code",
   "execution_count": 6,
   "metadata": {
    "collapsed": false
   },
   "outputs": [
    {
     "name": "stdout",
     "output_type": "stream",
     "text": [
      "0.559010378995\n"
     ]
    }
   ],
   "source": [
    "model = KNeighborsClassifier(n_neighbors=50)\n",
    "print cross_val_score(model, X, y).mean()"
   ]
  },
  {
   "cell_type": "markdown",
   "metadata": {},
   "source": [
    "Obviously you can do better than that.\n",
    "\n",
    "## Exercise\n",
    "\n",
    "1. Given the above distribution of newsgroups (the `y`s), what is reasonable accuracy to expect? What would a naive classier's accuracy be?\n",
    "1. Try out different models, testing their cross-validated accuracy\n",
    "1. Try out different options (such as regularization parameters, kernels, etc.)\n",
    "1. Try out different text vectorizers and options\n",
    "1. If you find a model you like, try different categories (or all of them) and see if this impacts your performance\n",
    "1. Try to interpret its learned parameters and plot some nice insights\n",
    "\n",
    "For interpretation, recall that\n",
    "- LogisticRegression gives you coefficients for the log odds of the corresponding feature\n",
    "- Random Forests and Decision Trees give you feature importances\n"
   ]
  },
  {
   "cell_type": "code",
   "execution_count": 7,
   "metadata": {
    "collapsed": true
   },
   "outputs": [],
   "source": [
    "# Your code here"
   ]
  },
  {
   "cell_type": "code",
   "execution_count": null,
   "metadata": {
    "collapsed": true
   },
   "outputs": [],
   "source": []
  },
  {
   "cell_type": "code",
   "execution_count": null,
   "metadata": {
    "collapsed": true
   },
   "outputs": [],
   "source": []
  },
  {
   "cell_type": "code",
   "execution_count": null,
   "metadata": {
    "collapsed": true
   },
   "outputs": [],
   "source": []
  },
  {
   "cell_type": "code",
   "execution_count": null,
   "metadata": {
    "collapsed": true
   },
   "outputs": [],
   "source": []
  }
 ],
 "metadata": {
  "kernelspec": {
   "display_name": "Python 2",
   "language": "python",
   "name": "python2"
  },
  "language_info": {
   "codemirror_mode": {
    "name": "ipython",
    "version": 2
   },
   "file_extension": ".py",
   "mimetype": "text/x-python",
   "name": "python",
   "nbconvert_exporter": "python",
   "pygments_lexer": "ipython2",
   "version": "2.7.11"
  }
 },
 "nbformat": 4,
 "nbformat_minor": 0
}
