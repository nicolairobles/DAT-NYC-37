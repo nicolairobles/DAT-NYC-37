{
 "cells": [
  {
   "cell_type": "markdown",
   "metadata": {},
   "source": [
    "# Stack Overflow - Data Exploration\n",
    "\n",
    "This notebook explores the data of the GADS23 Kaggle Stack Overflow competition.\n",
    "\n",
    "Your goal is to build a classifier that predicts whether or not a question will be closed given the question as submitted."
   ]
  },
  {
   "cell_type": "code",
   "execution_count": 1,
   "metadata": {
    "collapsed": true
   },
   "outputs": [],
   "source": [
    "import numpy as np\n",
    "import pandas as pd\n",
    "from datetime import datetime\n",
    "import seaborn\n",
    "from matplotlib import pyplot as plt\n",
    "%matplotlib inline"
   ]
  },
  {
   "cell_type": "code",
   "execution_count": 2,
   "metadata": {
    "collapsed": false
   },
   "outputs": [
    {
     "name": "stdout",
     "output_type": "stream",
     "text": [
      "(140272, 15)\n"
     ]
    }
   ],
   "source": [
    "data = pd.read_csv(\"/Users/ruben/Downloads/train.csv\", index_col=0)\n",
    "print data.shape"
   ]
  },
  {
   "cell_type": "markdown",
   "metadata": {},
   "source": [
    "Over 140K posts, with 15 columns."
   ]
  },
  {
   "cell_type": "code",
   "execution_count": 3,
   "metadata": {
    "collapsed": false
   },
   "outputs": [
    {
     "data": {
      "text/html": [
       "<div>\n",
       "<table border=\"1\" class=\"dataframe\">\n",
       "  <thead>\n",
       "    <tr style=\"text-align: right;\">\n",
       "      <th></th>\n",
       "      <th>PostId</th>\n",
       "      <th>PostCreationDate</th>\n",
       "      <th>OwnerUserId</th>\n",
       "      <th>OwnerCreationDate</th>\n",
       "      <th>ReputationAtPostCreation</th>\n",
       "      <th>OwnerUndeletedAnswerCountAtPostTime</th>\n",
       "      <th>Title</th>\n",
       "      <th>BodyMarkdown</th>\n",
       "      <th>Tag1</th>\n",
       "      <th>Tag2</th>\n",
       "      <th>Tag3</th>\n",
       "      <th>Tag4</th>\n",
       "      <th>Tag5</th>\n",
       "      <th>PostClosedDate</th>\n",
       "      <th>OpenStatus</th>\n",
       "    </tr>\n",
       "  </thead>\n",
       "  <tbody>\n",
       "    <tr>\n",
       "      <th>0</th>\n",
       "      <td>6046168</td>\n",
       "      <td>05/18/2011 14:14:05</td>\n",
       "      <td>543315</td>\n",
       "      <td>09/17/2010 10:15:06</td>\n",
       "      <td>1</td>\n",
       "      <td>2</td>\n",
       "      <td>For Mongodb is it better to reference an objec...</td>\n",
       "      <td>I am building a corpus of indexed sentences in...</td>\n",
       "      <td>mongodb</td>\n",
       "      <td>NaN</td>\n",
       "      <td>NaN</td>\n",
       "      <td>NaN</td>\n",
       "      <td>NaN</td>\n",
       "      <td>NaN</td>\n",
       "      <td>1</td>\n",
       "    </tr>\n",
       "    <tr>\n",
       "      <th>1</th>\n",
       "      <td>4873911</td>\n",
       "      <td>02/02/2011 11:30:10</td>\n",
       "      <td>465076</td>\n",
       "      <td>10/03/2010 09:30:58</td>\n",
       "      <td>192</td>\n",
       "      <td>24</td>\n",
       "      <td>How to insert schemalocation in a xml document...</td>\n",
       "      <td>i create a xml document with JAXP and search a...</td>\n",
       "      <td>dom</td>\n",
       "      <td>xsd</td>\n",
       "      <td>jaxp</td>\n",
       "      <td>NaN</td>\n",
       "      <td>NaN</td>\n",
       "      <td>NaN</td>\n",
       "      <td>1</td>\n",
       "    </tr>\n",
       "  </tbody>\n",
       "</table>\n",
       "</div>"
      ],
      "text/plain": [
       "    PostId     PostCreationDate  OwnerUserId    OwnerCreationDate  \\\n",
       "0  6046168  05/18/2011 14:14:05       543315  09/17/2010 10:15:06   \n",
       "1  4873911  02/02/2011 11:30:10       465076  10/03/2010 09:30:58   \n",
       "\n",
       "   ReputationAtPostCreation  OwnerUndeletedAnswerCountAtPostTime  \\\n",
       "0                         1                                    2   \n",
       "1                       192                                   24   \n",
       "\n",
       "                                               Title  \\\n",
       "0  For Mongodb is it better to reference an objec...   \n",
       "1  How to insert schemalocation in a xml document...   \n",
       "\n",
       "                                        BodyMarkdown     Tag1 Tag2  Tag3 Tag4  \\\n",
       "0  I am building a corpus of indexed sentences in...  mongodb  NaN   NaN  NaN   \n",
       "1  i create a xml document with JAXP and search a...      dom  xsd  jaxp  NaN   \n",
       "\n",
       "  Tag5 PostClosedDate  OpenStatus  \n",
       "0  NaN            NaN           1  \n",
       "1  NaN            NaN           1  "
      ]
     },
     "execution_count": 3,
     "metadata": {},
     "output_type": "execute_result"
    }
   ],
   "source": [
    "data.head(2)"
   ]
  },
  {
   "cell_type": "markdown",
   "metadata": {},
   "source": [
    "The data has the following features\n",
    "- PostId - ID number of the question\n",
    "- PostCreationDate - Date and time the question was asked\n",
    "- OwnerUserId - ID number of the question asker\n",
    "- OwnerCreationDate - Date and time the question asker's account was created\n",
    "- ReputationAtPostCreation - Reputation of the question asker at the time the question was asked\n",
    "- OwnerUndeletedAnswerCountAtPostTime - Number of answers (to other questions) that the question asker had written at the time the question was asked\n",
    "- Title - Title of the question\n",
    "- BodyMarkdown - Body of the question\n",
    "- Tag1 through Tag5 - Topical tags applied to the question\n",
    "- PostClosedDate - Date and time the question was closed (if it was closed; not in test set)\n",
    "- OpenStatus - 1 indicates open, 0 indicates closed (**to be predicted in test set**)"
   ]
  },
  {
   "cell_type": "code",
   "execution_count": 4,
   "metadata": {
    "collapsed": false
   },
   "outputs": [
    {
     "name": "stdout",
     "output_type": "stream",
     "text": [
      "PostId                               140272 values (100%), of which  140272 uniques\n",
      "PostCreationDate                     140272 values (100%), of which  140118 uniques\n",
      "OwnerUserId                          140272 values (100%), of which   94215 uniques\n",
      "OwnerCreationDate                    140272 values (100%), of which   94149 uniques\n",
      "ReputationAtPostCreation             140272 values (100%), of which    6423 uniques\n",
      "OwnerUndeletedAnswerCountAtPostTime  140272 values (100%), of which     965 uniques\n",
      "Title                                140272 values (100%), of which  140192 uniques\n",
      "BodyMarkdown                         140272 values (100%), of which  140270 uniques\n",
      "Tag1                                 140270 values ( 99%), of which    5210 uniques\n",
      "Tag2                                 113044 values ( 80%), of which    9293 uniques\n",
      "Tag3                                  75944 values ( 54%), of which   11081 uniques\n",
      "Tag4                                  39663 values ( 28%), of which   10028 uniques\n",
      "Tag5                                  15717 values ( 11%), of which    7606 uniques\n",
      "PostClosedDate                        70136 values ( 50%), of which   70070 uniques\n",
      "OpenStatus                           140272 values (100%), of which       2 uniques\n"
     ]
    }
   ],
   "source": [
    "n_samples = len(data)\n",
    "for col in data:\n",
    "    print \"%-35s %7d values (%3d%%), of which %7d uniques\" % \\\n",
    "        (col, data[col].count(), 100. * data[col].count() / n_samples, data[col].nunique())"
   ]
  },
  {
   "cell_type": "markdown",
   "metadata": {},
   "source": [
    "- A few columns we could simply feed into our model as a continous feature (e.g., `ReputationAtPostCreation`)\n",
    "- Not many columns we could simply feed as a categorical value (e.g., perhaps `OwnerUserId`)\n",
    "\n",
    "What is the distribution of our target variable? "
   ]
  },
  {
   "cell_type": "code",
   "execution_count": 5,
   "metadata": {
    "collapsed": false
   },
   "outputs": [
    {
     "data": {
      "text/plain": [
       "1    70136\n",
       "0    70136\n",
       "dtype: int64"
      ]
     },
     "execution_count": 5,
     "metadata": {},
     "output_type": "execute_result"
    }
   ],
   "source": [
    "data.OpenStatus.value_counts()"
   ]
  },
  {
   "cell_type": "markdown",
   "metadata": {},
   "source": [
    "A nice 50-50 distribution! "
   ]
  },
  {
   "cell_type": "markdown",
   "metadata": {},
   "source": [
    "### Datetime\n",
    "\n",
    "The two columns with dates and times are in plain string format. It might be more useful to convert it to special `datetime` format, so we can easily access attributes like `year` or `month`, or sutract two dates to compute a duration."
   ]
  },
  {
   "cell_type": "code",
   "execution_count": 6,
   "metadata": {
    "collapsed": false
   },
   "outputs": [
    {
     "name": "stdout",
     "output_type": "stream",
     "text": [
      "CPU times: user 11 s, sys: 57 ms, total: 11 s\n",
      "Wall time: 11 s\n"
     ]
    }
   ],
   "source": [
    "%%time\n",
    "data['PostCreationDate_dt'] = pd.to_datetime(data.PostCreationDate)"
   ]
  },
  {
   "cell_type": "markdown",
   "metadata": {},
   "source": [
    "Use the `.dt` operator to access special datetime functions."
   ]
  },
  {
   "cell_type": "code",
   "execution_count": 7,
   "metadata": {
    "collapsed": false
   },
   "outputs": [],
   "source": [
    "data['PostCreationDate_year'] = data['PostCreationDate_dt'].dt.year"
   ]
  },
  {
   "cell_type": "code",
   "execution_count": 8,
   "metadata": {
    "collapsed": false
   },
   "outputs": [
    {
     "data": {
      "image/png": "[encoded data removed]",
      "text/plain": [
       "<matplotlib.figure.Figure at 0x10bc3e210>"
      ]
     },
     "metadata": {},
     "output_type": "display_data"
    }
   ],
   "source": [
    "f = data.groupby('PostCreationDate_year').size().plot(kind='bar', rot=0, alpha=.5, label=\"Total\")\n",
    "f = data.groupby('PostCreationDate_year').OpenStatus.sum().plot(kind='bar', rot=0, label=\"Open\")\n",
    "f = plt.title(\"Number of Stack Overflow post per year\"), plt.legend(loc=\"upper left\")"
   ]
  },
  {
   "cell_type": "code",
   "execution_count": null,
   "metadata": {
    "collapsed": true
   },
   "outputs": [],
   "source": []
  }
 ],
 "metadata": {
  "kernelspec": {
   "display_name": "Python 2",
   "language": "python",
   "name": "python2"
  },
  "language_info": {
   "codemirror_mode": {
    "name": "ipython",
    "version": 2
   },
   "file_extension": ".py",
   "mimetype": "text/x-python",
   "name": "python",
   "nbconvert_exporter": "python",
   "pygments_lexer": "ipython2",
   "version": "2.7.10"
  }
 },
 "nbformat": 4,
 "nbformat_minor": 0
}
