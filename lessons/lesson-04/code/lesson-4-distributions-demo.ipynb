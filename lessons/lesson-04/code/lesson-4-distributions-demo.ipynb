{
 "cells": [
  {
   "cell_type": "markdown",
   "metadata": {},
   "source": [
    "# Lesson 3: In-Class Demo"
   ]
  },
  {
   "cell_type": "markdown",
   "metadata": {},
   "source": [
    "## Normality Demo\n",
    "http://hamelg.blogspot.com/2015/11/python-for-data-analysis-part-21.html"
   ]
  },
  {
   "cell_type": "code",
   "execution_count": 280,
   "metadata": {
    "collapsed": false
   },
   "outputs": [],
   "source": [
    "#General imports\n",
    "import numpy as np\n",
    "import pandas as pd\n",
    "\n",
    "import seaborn as sns  # Plots!\n",
    "import matplotlib.pyplot as plt\n",
    "\n",
    "# Set the default figure size for plotting\n",
    "sns.mpl.rc(\"figure\", figsize=(18,13))  # Larger default plots\n",
    "sns.set_context(\"notebook\", font_scale=2)  # Larger fonts\n",
    "\n",
    "# Allows plotting within the Jupyter notebook\n",
    "%matplotlib inline  "
   ]
  },
  {
   "cell_type": "code",
   "execution_count": 264,
   "metadata": {
    "collapsed": false
   },
   "outputs": [
    {
     "data": {
      "text/html": [
       "<div>\n",
       "<table border=\"1\" class=\"dataframe\">\n",
       "  <thead>\n",
       "    <tr style=\"text-align: right;\">\n",
       "      <th></th>\n",
       "      <th>Unnamed: 0</th>\n",
       "      <th>mpg</th>\n",
       "      <th>cyl</th>\n",
       "      <th>disp</th>\n",
       "      <th>hp</th>\n",
       "      <th>drat</th>\n",
       "      <th>wt</th>\n",
       "      <th>qsec</th>\n",
       "      <th>vs</th>\n",
       "      <th>am</th>\n",
       "      <th>gear</th>\n",
       "      <th>carb</th>\n",
       "    </tr>\n",
       "  </thead>\n",
       "  <tbody>\n",
       "    <tr>\n",
       "      <th>0</th>\n",
       "      <td>Mazda RX4</td>\n",
       "      <td>21.0</td>\n",
       "      <td>6</td>\n",
       "      <td>160.0</td>\n",
       "      <td>110</td>\n",
       "      <td>3.90</td>\n",
       "      <td>2.620</td>\n",
       "      <td>16.46</td>\n",
       "      <td>0</td>\n",
       "      <td>1</td>\n",
       "      <td>4</td>\n",
       "      <td>4</td>\n",
       "    </tr>\n",
       "    <tr>\n",
       "      <th>1</th>\n",
       "      <td>Mazda RX4 Wag</td>\n",
       "      <td>21.0</td>\n",
       "      <td>6</td>\n",
       "      <td>160.0</td>\n",
       "      <td>110</td>\n",
       "      <td>3.90</td>\n",
       "      <td>2.875</td>\n",
       "      <td>17.02</td>\n",
       "      <td>0</td>\n",
       "      <td>1</td>\n",
       "      <td>4</td>\n",
       "      <td>4</td>\n",
       "    </tr>\n",
       "    <tr>\n",
       "      <th>2</th>\n",
       "      <td>Datsun 710</td>\n",
       "      <td>22.8</td>\n",
       "      <td>4</td>\n",
       "      <td>108.0</td>\n",
       "      <td>93</td>\n",
       "      <td>3.85</td>\n",
       "      <td>2.320</td>\n",
       "      <td>18.61</td>\n",
       "      <td>1</td>\n",
       "      <td>1</td>\n",
       "      <td>4</td>\n",
       "      <td>1</td>\n",
       "    </tr>\n",
       "    <tr>\n",
       "      <th>3</th>\n",
       "      <td>Hornet 4 Drive</td>\n",
       "      <td>21.4</td>\n",
       "      <td>6</td>\n",
       "      <td>258.0</td>\n",
       "      <td>110</td>\n",
       "      <td>3.08</td>\n",
       "      <td>3.215</td>\n",
       "      <td>19.44</td>\n",
       "      <td>1</td>\n",
       "      <td>0</td>\n",
       "      <td>3</td>\n",
       "      <td>1</td>\n",
       "    </tr>\n",
       "    <tr>\n",
       "      <th>4</th>\n",
       "      <td>Hornet Sportabout</td>\n",
       "      <td>18.7</td>\n",
       "      <td>8</td>\n",
       "      <td>360.0</td>\n",
       "      <td>175</td>\n",
       "      <td>3.15</td>\n",
       "      <td>3.440</td>\n",
       "      <td>17.02</td>\n",
       "      <td>0</td>\n",
       "      <td>0</td>\n",
       "      <td>3</td>\n",
       "      <td>2</td>\n",
       "    </tr>\n",
       "  </tbody>\n",
       "</table>\n",
       "</div>"
      ],
      "text/plain": [
       "          Unnamed: 0   mpg  cyl   disp   hp  drat     wt   qsec  vs  am  gear  \\\n",
       "0          Mazda RX4  21.0    6  160.0  110  3.90  2.620  16.46   0   1     4   \n",
       "1      Mazda RX4 Wag  21.0    6  160.0  110  3.90  2.875  17.02   0   1     4   \n",
       "2         Datsun 710  22.8    4  108.0   93  3.85  2.320  18.61   1   1     4   \n",
       "3     Hornet 4 Drive  21.4    6  258.0  110  3.08  3.215  19.44   1   0     3   \n",
       "4  Hornet Sportabout  18.7    8  360.0  175  3.15  3.440  17.02   0   0     3   \n",
       "\n",
       "   carb  \n",
       "0     4  \n",
       "1     4  \n",
       "2     1  \n",
       "3     1  \n",
       "4     2  "
      ]
     },
     "execution_count": 264,
     "metadata": {},
     "output_type": "execute_result"
    }
   ],
   "source": [
    "mtcars = pd.read_csv(\"../datasets/mtcars.csv\")\n",
    "mtcars.head()"
   ]
  },
  {
   "cell_type": "code",
   "execution_count": null,
   "metadata": {
    "collapsed": true
   },
   "outputs": [],
   "source": []
  },
  {
   "cell_type": "code",
   "execution_count": 265,
   "metadata": {
    "collapsed": false,
    "scrolled": true
   },
   "outputs": [],
   "source": [
    "# Summary statistics\n",
    "# mtcars.mean()\n",
    "# mtcars.median()\n",
    "# mtcars.quantile(0.5)\n",
    "# mtcars.mode()\n",
    "# mtcars.std()\n",
    "# mtcars.median()\n",
    "# mtcars.quantile(0.25)"
   ]
  },
  {
   "cell_type": "code",
   "execution_count": 266,
   "metadata": {
    "collapsed": false
   },
   "outputs": [
    {
     "data": {
      "text/html": [
       "<div>\n",
       "<table border=\"1\" class=\"dataframe\">\n",
       "  <thead>\n",
       "    <tr style=\"text-align: right;\">\n",
       "      <th></th>\n",
       "      <th>mpg</th>\n",
       "      <th>cyl</th>\n",
       "      <th>disp</th>\n",
       "      <th>hp</th>\n",
       "      <th>drat</th>\n",
       "      <th>wt</th>\n",
       "      <th>qsec</th>\n",
       "      <th>vs</th>\n",
       "      <th>am</th>\n",
       "      <th>gear</th>\n",
       "      <th>carb</th>\n",
       "    </tr>\n",
       "  </thead>\n",
       "  <tbody>\n",
       "    <tr>\n",
       "      <th>mpg</th>\n",
       "      <td>1.000000</td>\n",
       "      <td>-0.852162</td>\n",
       "      <td>-0.847551</td>\n",
       "      <td>-0.776168</td>\n",
       "      <td>0.681172</td>\n",
       "      <td>-0.867659</td>\n",
       "      <td>0.418684</td>\n",
       "      <td>0.664039</td>\n",
       "      <td>0.599832</td>\n",
       "      <td>0.480285</td>\n",
       "      <td>-0.550925</td>\n",
       "    </tr>\n",
       "    <tr>\n",
       "      <th>cyl</th>\n",
       "      <td>-0.852162</td>\n",
       "      <td>1.000000</td>\n",
       "      <td>0.902033</td>\n",
       "      <td>0.832447</td>\n",
       "      <td>-0.699938</td>\n",
       "      <td>0.782496</td>\n",
       "      <td>-0.591242</td>\n",
       "      <td>-0.810812</td>\n",
       "      <td>-0.522607</td>\n",
       "      <td>-0.492687</td>\n",
       "      <td>0.526988</td>\n",
       "    </tr>\n",
       "    <tr>\n",
       "      <th>disp</th>\n",
       "      <td>-0.847551</td>\n",
       "      <td>0.902033</td>\n",
       "      <td>1.000000</td>\n",
       "      <td>0.790949</td>\n",
       "      <td>-0.710214</td>\n",
       "      <td>0.887980</td>\n",
       "      <td>-0.433698</td>\n",
       "      <td>-0.710416</td>\n",
       "      <td>-0.591227</td>\n",
       "      <td>-0.555569</td>\n",
       "      <td>0.394977</td>\n",
       "    </tr>\n",
       "    <tr>\n",
       "      <th>hp</th>\n",
       "      <td>-0.776168</td>\n",
       "      <td>0.832447</td>\n",
       "      <td>0.790949</td>\n",
       "      <td>1.000000</td>\n",
       "      <td>-0.448759</td>\n",
       "      <td>0.658748</td>\n",
       "      <td>-0.708223</td>\n",
       "      <td>-0.723097</td>\n",
       "      <td>-0.243204</td>\n",
       "      <td>-0.125704</td>\n",
       "      <td>0.749812</td>\n",
       "    </tr>\n",
       "    <tr>\n",
       "      <th>drat</th>\n",
       "      <td>0.681172</td>\n",
       "      <td>-0.699938</td>\n",
       "      <td>-0.710214</td>\n",
       "      <td>-0.448759</td>\n",
       "      <td>1.000000</td>\n",
       "      <td>-0.712441</td>\n",
       "      <td>0.091205</td>\n",
       "      <td>0.440278</td>\n",
       "      <td>0.712711</td>\n",
       "      <td>0.699610</td>\n",
       "      <td>-0.090790</td>\n",
       "    </tr>\n",
       "    <tr>\n",
       "      <th>wt</th>\n",
       "      <td>-0.867659</td>\n",
       "      <td>0.782496</td>\n",
       "      <td>0.887980</td>\n",
       "      <td>0.658748</td>\n",
       "      <td>-0.712441</td>\n",
       "      <td>1.000000</td>\n",
       "      <td>-0.174716</td>\n",
       "      <td>-0.554916</td>\n",
       "      <td>-0.692495</td>\n",
       "      <td>-0.583287</td>\n",
       "      <td>0.427606</td>\n",
       "    </tr>\n",
       "    <tr>\n",
       "      <th>qsec</th>\n",
       "      <td>0.418684</td>\n",
       "      <td>-0.591242</td>\n",
       "      <td>-0.433698</td>\n",
       "      <td>-0.708223</td>\n",
       "      <td>0.091205</td>\n",
       "      <td>-0.174716</td>\n",
       "      <td>1.000000</td>\n",
       "      <td>0.744535</td>\n",
       "      <td>-0.229861</td>\n",
       "      <td>-0.212682</td>\n",
       "      <td>-0.656249</td>\n",
       "    </tr>\n",
       "    <tr>\n",
       "      <th>vs</th>\n",
       "      <td>0.664039</td>\n",
       "      <td>-0.810812</td>\n",
       "      <td>-0.710416</td>\n",
       "      <td>-0.723097</td>\n",
       "      <td>0.440278</td>\n",
       "      <td>-0.554916</td>\n",
       "      <td>0.744535</td>\n",
       "      <td>1.000000</td>\n",
       "      <td>0.168345</td>\n",
       "      <td>0.206023</td>\n",
       "      <td>-0.569607</td>\n",
       "    </tr>\n",
       "    <tr>\n",
       "      <th>am</th>\n",
       "      <td>0.599832</td>\n",
       "      <td>-0.522607</td>\n",
       "      <td>-0.591227</td>\n",
       "      <td>-0.243204</td>\n",
       "      <td>0.712711</td>\n",
       "      <td>-0.692495</td>\n",
       "      <td>-0.229861</td>\n",
       "      <td>0.168345</td>\n",
       "      <td>1.000000</td>\n",
       "      <td>0.794059</td>\n",
       "      <td>0.057534</td>\n",
       "    </tr>\n",
       "    <tr>\n",
       "      <th>gear</th>\n",
       "      <td>0.480285</td>\n",
       "      <td>-0.492687</td>\n",
       "      <td>-0.555569</td>\n",
       "      <td>-0.125704</td>\n",
       "      <td>0.699610</td>\n",
       "      <td>-0.583287</td>\n",
       "      <td>-0.212682</td>\n",
       "      <td>0.206023</td>\n",
       "      <td>0.794059</td>\n",
       "      <td>1.000000</td>\n",
       "      <td>0.274073</td>\n",
       "    </tr>\n",
       "    <tr>\n",
       "      <th>carb</th>\n",
       "      <td>-0.550925</td>\n",
       "      <td>0.526988</td>\n",
       "      <td>0.394977</td>\n",
       "      <td>0.749812</td>\n",
       "      <td>-0.090790</td>\n",
       "      <td>0.427606</td>\n",
       "      <td>-0.656249</td>\n",
       "      <td>-0.569607</td>\n",
       "      <td>0.057534</td>\n",
       "      <td>0.274073</td>\n",
       "      <td>1.000000</td>\n",
       "    </tr>\n",
       "  </tbody>\n",
       "</table>\n",
       "</div>"
      ],
      "text/plain": [
       "           mpg       cyl      disp        hp      drat        wt      qsec  \\\n",
       "mpg   1.000000 -0.852162 -0.847551 -0.776168  0.681172 -0.867659  0.418684   \n",
       "cyl  -0.852162  1.000000  0.902033  0.832447 -0.699938  0.782496 -0.591242   \n",
       "disp -0.847551  0.902033  1.000000  0.790949 -0.710214  0.887980 -0.433698   \n",
       "hp   -0.776168  0.832447  0.790949  1.000000 -0.448759  0.658748 -0.708223   \n",
       "drat  0.681172 -0.699938 -0.710214 -0.448759  1.000000 -0.712441  0.091205   \n",
       "wt   -0.867659  0.782496  0.887980  0.658748 -0.712441  1.000000 -0.174716   \n",
       "qsec  0.418684 -0.591242 -0.433698 -0.708223  0.091205 -0.174716  1.000000   \n",
       "vs    0.664039 -0.810812 -0.710416 -0.723097  0.440278 -0.554916  0.744535   \n",
       "am    0.599832 -0.522607 -0.591227 -0.243204  0.712711 -0.692495 -0.229861   \n",
       "gear  0.480285 -0.492687 -0.555569 -0.125704  0.699610 -0.583287 -0.212682   \n",
       "carb -0.550925  0.526988  0.394977  0.749812 -0.090790  0.427606 -0.656249   \n",
       "\n",
       "            vs        am      gear      carb  \n",
       "mpg   0.664039  0.599832  0.480285 -0.550925  \n",
       "cyl  -0.810812 -0.522607 -0.492687  0.526988  \n",
       "disp -0.710416 -0.591227 -0.555569  0.394977  \n",
       "hp   -0.723097 -0.243204 -0.125704  0.749812  \n",
       "drat  0.440278  0.712711  0.699610 -0.090790  \n",
       "wt   -0.554916 -0.692495 -0.583287  0.427606  \n",
       "qsec  0.744535 -0.229861 -0.212682 -0.656249  \n",
       "vs    1.000000  0.168345  0.206023 -0.569607  \n",
       "am    0.168345  1.000000  0.794059  0.057534  \n",
       "gear  0.206023  0.794059  1.000000  0.274073  \n",
       "carb -0.569607  0.057534  0.274073  1.000000  "
      ]
     },
     "execution_count": 266,
     "metadata": {},
     "output_type": "execute_result"
    },
    {
     "data": {
      "text/plain": [
       "<matplotlib.figure.Figure at 0x10e812f50>"
      ]
     },
     "metadata": {},
     "output_type": "display_data"
    }
   ],
   "source": [
    "plt.figure(figsize=(10, 10))\n",
    "mtcars.corr()\n",
    "\n",
    "# sns.heatmap\n",
    "\n",
    "# Pandas -> pd\n",
    "# Seaborn -> sns\n",
    "\n",
    "# sns.heatmap?"
   ]
  },
  {
   "cell_type": "code",
   "execution_count": 267,
   "metadata": {
    "collapsed": false
   },
   "outputs": [
    {
     "data": {
      "text/html": [
       "<div>\n",
       "<table border=\"1\" class=\"dataframe\">\n",
       "  <thead>\n",
       "    <tr style=\"text-align: right;\">\n",
       "      <th></th>\n",
       "      <th>cyl</th>\n",
       "      <th>mpg</th>\n",
       "    </tr>\n",
       "  </thead>\n",
       "  <tbody>\n",
       "    <tr>\n",
       "      <th>15</th>\n",
       "      <td>8</td>\n",
       "      <td>10.4</td>\n",
       "    </tr>\n",
       "    <tr>\n",
       "      <th>14</th>\n",
       "      <td>8</td>\n",
       "      <td>10.4</td>\n",
       "    </tr>\n",
       "    <tr>\n",
       "      <th>23</th>\n",
       "      <td>8</td>\n",
       "      <td>13.3</td>\n",
       "    </tr>\n",
       "    <tr>\n",
       "      <th>6</th>\n",
       "      <td>8</td>\n",
       "      <td>14.3</td>\n",
       "    </tr>\n",
       "    <tr>\n",
       "      <th>16</th>\n",
       "      <td>8</td>\n",
       "      <td>14.7</td>\n",
       "    </tr>\n",
       "    <tr>\n",
       "      <th>30</th>\n",
       "      <td>8</td>\n",
       "      <td>15.0</td>\n",
       "    </tr>\n",
       "    <tr>\n",
       "      <th>13</th>\n",
       "      <td>8</td>\n",
       "      <td>15.2</td>\n",
       "    </tr>\n",
       "    <tr>\n",
       "      <th>22</th>\n",
       "      <td>8</td>\n",
       "      <td>15.2</td>\n",
       "    </tr>\n",
       "    <tr>\n",
       "      <th>21</th>\n",
       "      <td>8</td>\n",
       "      <td>15.5</td>\n",
       "    </tr>\n",
       "    <tr>\n",
       "      <th>28</th>\n",
       "      <td>8</td>\n",
       "      <td>15.8</td>\n",
       "    </tr>\n",
       "  </tbody>\n",
       "</table>\n",
       "</div>"
      ],
      "text/plain": [
       "    cyl   mpg\n",
       "15    8  10.4\n",
       "14    8  10.4\n",
       "23    8  13.3\n",
       "6     8  14.3\n",
       "16    8  14.7\n",
       "30    8  15.0\n",
       "13    8  15.2\n",
       "22    8  15.2\n",
       "21    8  15.5\n",
       "28    8  15.8"
      ]
     },
     "execution_count": 267,
     "metadata": {},
     "output_type": "execute_result"
    }
   ],
   "source": [
    "mtcars[['cyl', 'mpg']].sort_values(by=\"mpg\").head(10)"
   ]
  },
  {
   "cell_type": "code",
   "execution_count": 268,
   "metadata": {
    "collapsed": false
   },
   "outputs": [
    {
     "data": {
      "image/png": "[encoded data removed]",
      "text/plain": [
       "<matplotlib.figure.Figure at 0x12008d850>"
      ]
     },
     "metadata": {},
     "output_type": "display_data"
    }
   ],
   "source": [
    "# To change size:\n",
    "\n",
    "sns.swarmplot(x=\"cyl\", y=\"mpg\", data=mtcars);\n",
    "sns.swarmplot?"
   ]
  },
  {
   "cell_type": "code",
   "execution_count": 269,
   "metadata": {
    "collapsed": false
   },
   "outputs": [
    {
     "data": {
      "image/png": "[encoded data removed]",
      "text/plain": [
       "<matplotlib.figure.Figure at 0x11ff820d0>"
      ]
     },
     "metadata": {},
     "output_type": "display_data"
    }
   ],
   "source": [
    "\n",
    "plt = sns.boxplot(x=\"cyl\", y=\"mpg\", data=mtcars)\n",
    "\n",
    "plt.text(x=0.25, y=31.25, s=\"3rd Quartile\")\n",
    "plt.text(x=-.2, y=26.75, s=\"Median\")\n",
    "plt.text(x=0.25, y=21.5, s=\"1st Quartile\")\n",
    "plt.text(x=-0.1, y=20, s=\"Min\")\n",
    "plt.text(x=-0.1, y=34.5, s=\"Max\")\n",
    "plt.text(x=0.45, y=27.5, s=\"IQR\", rotation=90, size=25);\n",
    "\n",
    "# mtcars[['mpg']].quartile(0.25)\n",
    "# mtcars[['mpg']].quartile(0.5)\n",
    "# mtcars[['mpg']].quartile(0.75)\n",
    "# mtcars[['mpg']].max()\n",
    "# mtcars[['mpg']].min()"
   ]
  },
  {
   "cell_type": "markdown",
   "metadata": {},
   "source": [
    "## Analyzing Distributions\n",
    "\n",
    "Although the mean and median both give us some sense of the center of a distribution, they aren't always the same. The *median* gives us a value that **splits the data into two halves** while the *mean* is a **numeric average,** so extreme values can have a significant impact on the mean. \n",
    "\n",
    "In a symmetric distribution, the mean and median will be the same. Let's investigate with a density plot:"
   ]
  },
  {
   "cell_type": "code",
   "execution_count": 270,
   "metadata": {
    "collapsed": false
   },
   "outputs": [
    {
     "data": {
      "image/png": "[encoded data removed]",
      "text/plain": [
       "<matplotlib.figure.Figure at 0x11ff822d0>"
      ]
     },
     "metadata": {},
     "output_type": "display_data"
    }
   ],
   "source": [
    "normal_distribution = np.random.normal(size=10000)\n",
    "\n",
    "norm_data = pd.DataFrame(normal_distribution)\n",
    "\n",
    "plt = sns.distplot(norm_data)\n",
    "\n",
    "# Plot black line at mean\n",
    "plt.vlines(norm_data.mean(), ymin=0, ymax=0.2, linewidth=5.0)\n",
    "\n",
    "# Plot red line at median\n",
    "plt.vlines(norm_data.median(), ymin=0, ymax=0.2, linewidth=2.0, color=\"red\");"
   ]
  },
  {
   "cell_type": "code",
   "execution_count": 279,
   "metadata": {
    "collapsed": false
   },
   "outputs": [],
   "source": [
    "plt.vlines?"
   ]
  },
  {
   "cell_type": "markdown",
   "metadata": {},
   "source": [
    "In the plot above, the mean and median are both so close to zero that the red median line lies on top of the thicker black line drawn at the mean. \n",
    "\n",
    "In skewed distributions, the mean tends to get pulled in the direction of the skew, while the median tends to resist the effects of skew:\n",
    " "
   ]
  },
  {
   "cell_type": "code",
   "execution_count": 281,
   "metadata": {
    "collapsed": false
   },
   "outputs": [
    {
     "data": {
      "text/plain": [
       "0    1.988408\n",
       "dtype: float64"
      ]
     },
     "execution_count": 281,
     "metadata": {},
     "output_type": "execute_result"
    },
    {
     "data": {
      "image/png": "[encoded data removed]",
      "text/plain": [
       "<matplotlib.figure.Figure at 0x11fcfe0d0>"
      ]
     },
     "metadata": {},
     "output_type": "display_data"
    }
   ],
   "source": [
    "exponential_dist = np.random.exponential(size=100000)\n",
    "\n",
    "skewed_data = pd.DataFrame(exponential_dist)\n",
    "\n",
    "plt = sns.distplot(skewed_data)\n",
    "\n",
    "# Plot black line at mean\n",
    "plt.vlines(skewed_data.mean(), ymin=0, ymax=0.2, linewidth=5.0)\n",
    "\n",
    "# Plot red line at median\n",
    "plt.vlines(skewed_data.median(), ymin=0, ymax=0.2, linewidth=2.0, color=\"red\");\n",
    "\n",
    "skewed_data.skew()"
   ]
  },
  {
   "cell_type": "markdown",
   "metadata": {},
   "source": [
    "Notice that the mean is also influenced heavily by outliers, while the median resists the influence of outliers:"
   ]
  },
  {
   "cell_type": "code",
   "execution_count": 272,
   "metadata": {
    "collapsed": false
   },
   "outputs": [
    {
     "data": {
      "image/png": "[encoded data removed]",
      "text/plain": [
       "<matplotlib.figure.Figure at 0x11aa18910>"
      ]
     },
     "metadata": {},
     "output_type": "display_data"
    }
   ],
   "source": [
    "norm_data = np.random.normal(size=50)\n",
    "outliers = np.random.normal(15, size=3)\n",
    "combined_data = pd.DataFrame(np.concatenate((norm_data, outliers), axis=0))\n",
    "\n",
    "plt = sns.distplot(combined_data)\n",
    "\n",
    "# Plot black line at mean\n",
    "plt.vlines(combined_data.mean(), ymin=0, ymax=0.2, linewidth=5.0)\n",
    "\n",
    "# Plot red line at median\n",
    "plt.vlines(combined_data.median(), ymin=0, ymax=0.2, linewidth=2.0, color=\"red\");"
   ]
  },
  {
   "cell_type": "markdown",
   "metadata": {},
   "source": [
    "Since the median tends to resist the effects of skewness and outliers, it is known a \"robust\" statistic. \n",
    "\n",
    "The median generally gives a better sense of the typical value in a distribution with significant skew or outliers."
   ]
  },
  {
   "cell_type": "code",
   "execution_count": 273,
   "metadata": {
    "collapsed": false
   },
   "outputs": [],
   "source": [
    "comp1 = np.random.normal(0, 1, size=200) # N(0, 1)\n",
    "comp2 = np.random.normal(10, 2, size=200) # N(10, 4)\n",
    "\n",
    "df1 = pd.Series(comp1)\n",
    "df2 = pd.Series(comp2)"
   ]
  },
  {
   "cell_type": "markdown",
   "metadata": {},
   "source": [
    "### Skewness and Kurtosis\n",
    "*Skewness* measures the **skew or asymmetry of a distribution** while *Kurtosis* measures the **\"peakedness\" of a distribution**. \n",
    "\n",
    "We won't go into the exact calculations behind these, but they are essentially just statistics that take the idea of variance a step further: while variance involves squaring deviations from the mean, skewness involves cubing deviations from the mean, and kurtosis involves raising deviations from the mean to the 4th power.\n",
    "\n",
    "Pandas has built in functions for checking skewness and kurtosis, df.skew() and df.kurt() respectively:"
   ]
  },
  {
   "cell_type": "code",
   "execution_count": 274,
   "metadata": {
    "collapsed": false
   },
   "outputs": [
    {
     "data": {
      "image/png": "[encoded data removed]",
      "text/plain": [
       "<matplotlib.figure.Figure at 0x11aa18410>"
      ]
     },
     "metadata": {},
     "output_type": "display_data"
    }
   ],
   "source": [
    "sns.distplot(mtcars[\"mpg\"]);"
   ]
  },
  {
   "cell_type": "code",
   "execution_count": 275,
   "metadata": {
    "collapsed": false
   },
   "outputs": [
    {
     "data": {
      "text/plain": [
       "0.67237713762908047"
      ]
     },
     "execution_count": 275,
     "metadata": {},
     "output_type": "execute_result"
    }
   ],
   "source": [
    "mtcars[\"mpg\"].skew()  # Check skewness"
   ]
  },
  {
   "cell_type": "code",
   "execution_count": 276,
   "metadata": {
    "collapsed": false
   },
   "outputs": [
    {
     "data": {
      "text/plain": [
       "-0.0220062914240855"
      ]
     },
     "execution_count": 276,
     "metadata": {},
     "output_type": "execute_result"
    }
   ],
   "source": [
    "mtcars[\"mpg\"].kurt()  # Check kurtosis"
   ]
  },
  {
   "cell_type": "markdown",
   "metadata": {},
   "source": [
    "As we can see from the output, the normally distributed data has a kurtosis near zero, the flat distribution has negative kurtosis, and the two pointier distributions have positive kurtosis."
   ]
  },
  {
   "cell_type": "markdown",
   "metadata": {},
   "source": [
    "### Post-class exercises\n",
    "\n",
    "**Important**\n",
    "- Review notebook in the `post-class-exercise` folder: [Exploratory Data Analysis on Shelter Animal Outcomes](../post-class-exercise/04-shelter-animal-outcomes.ipynb)\n",
    "\n",
    "**Additional Tutorials:**\n",
    "- http://chrisalbon.com/python/pandas_with_seaborn.html\n",
    "- https://stanford.edu/~mwaskom/software/seaborn/tutorial/distributions.html\n",
    "- https://stanford.edu/~mwaskom/software/seaborn/tutorial/categorical.html"
   ]
  }
 ],
 "metadata": {
  "kernelspec": {
   "display_name": "Python 2",
   "language": "python",
   "name": "python2"
  },
  "language_info": {
   "codemirror_mode": {
    "name": "ipython",
    "version": 2
   },
   "file_extension": ".py",
   "mimetype": "text/x-python",
   "name": "python",
   "nbconvert_exporter": "python",
   "pygments_lexer": "ipython2",
   "version": "2.7.11"
  }
 },
 "nbformat": 4,
 "nbformat_minor": 0
}
