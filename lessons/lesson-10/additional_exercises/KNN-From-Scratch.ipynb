{
 "cells": [
  {
   "cell_type": "code",
   "execution_count": 50,
   "metadata": {
    "collapsed": true
   },
   "outputs": [],
   "source": [
    "import pandas as pd\n",
    "import numpy as np\n",
    "\n",
    "import seaborn as sns\n",
    "import sklearn\n",
    "\n",
    "import matplotlib.pyplot as plt\n",
    "\n",
    "%matplotlib inline"
   ]
  },
  {
   "cell_type": "code",
   "execution_count": 23,
   "metadata": {
    "collapsed": false
   },
   "outputs": [
    {
     "data": {
      "text/plain": [
       "['sepal length (cm)',\n",
       " 'sepal width (cm)',\n",
       " 'petal length (cm)',\n",
       " 'petal width (cm)']"
      ]
     },
     "execution_count": 23,
     "metadata": {},
     "output_type": "execute_result"
    }
   ],
   "source": [
    "from sklearn import datasets\n",
    "\n",
    "iris_data = datasets.load_iris()\n",
    "\n",
    "# iris_data.target_names\n",
    "# iris_data.data\n",
    "# iris_data.feature_names"
   ]
  },
  {
   "cell_type": "code",
   "execution_count": 109,
   "metadata": {
    "collapsed": true
   },
   "outputs": [],
   "source": [
    "from sklearn.cross_validation import train_test_split\n",
    "\n",
    "# sklearn.random_projection?\n",
    "\n",
    "\n",
    "arr =  [1, 2, 3, 4, 5, 5, 6]\n",
    "\n",
    "# Standard scaler\n",
    "\n",
    "sklearn.preprocessing.StandardScaler\n",
    "\n",
    "sklearn.preprocessing\n",
    "\n",
    "\n",
    "X = iris_data.data\n",
    "y = iris_data.target\n",
    "\n",
    "X_train, X_test, y_train, y_test = train_test_split(X, y, test_size=0.3, random_state = 123)"
   ]
  },
  {
   "cell_type": "code",
   "execution_count": 45,
   "metadata": {
    "collapsed": false
   },
   "outputs": [],
   "source": [
    "from sklearn.neighbors import KNeighborsClassifier\n",
    "\n",
    "def knn(k=5):\n",
    "    knn_classif = KNeighborsClassifier(k)\n",
    "    knn_classif.fit(X_train, y_train)\n",
    "    return knn_classif.score(X_test, y_test)"
   ]
  },
  {
   "cell_type": "code",
   "execution_count": 61,
   "metadata": {
    "collapsed": true
   },
   "outputs": [
    {
     "name": "stdout",
     "output_type": "stream",
     "text": [
      "k: 1 => 0.911\n",
      "k: 2 => 0.911\n",
      "k: 3 => 0.956\n",
      "k: 4 => 0.956\n",
      "k: 5 => 0.978\n",
      "k: 6 => 0.956\n",
      "k: 7 => 0.978\n",
      "k: 8 => 0.956\n",
      "k: 9 => 0.956\n",
      "k: 10 => 0.956\n",
      "k: 11 => 0.978\n",
      "k: 12 => 0.978\n",
      "k: 13 => 0.978\n",
      "k: 14 => 0.956\n",
      "k: 15 => 0.978\n",
      "k: 16 => 0.956\n",
      "k: 17 => 0.956\n",
      "k: 18 => 0.889\n",
      "k: 19 => 0.911\n",
      "k: 20 => 0.911\n",
      "k: 21 => 0.911\n",
      "k: 22 => 0.889\n",
      "k: 23 => 0.889\n",
      "k: 24 => 0.889\n",
      "k: 25 => 0.911\n",
      "k: 26 => 0.889\n",
      "k: 27 => 0.911\n",
      "k: 28 => 0.889\n",
      "k: 29 => 0.911\n",
      "k: 30 => 0.911\n",
      "k: 31 => 0.911\n",
      "k: 32 => 0.889\n",
      "k: 33 => 0.889\n",
      "k: 34 => 0.867\n",
      "k: 35 => 0.867\n",
      "k: 36 => 0.867\n",
      "k: 37 => 0.867\n",
      "k: 38 => 0.867\n",
      "k: 39 => 0.867\n",
      "k: 40 => 0.867\n",
      "k: 41 => 0.867\n",
      "k: 42 => 0.867\n",
      "k: 43 => 0.867\n",
      "k: 44 => 0.867\n",
      "k: 45 => 0.867\n",
      "k: 46 => 0.867\n",
      "k: 47 => 0.867\n",
      "k: 48 => 0.867\n",
      "k: 49 => 0.867\n",
      "k: 50 => 0.867\n",
      "k: 51 => 0.867\n",
      "k: 52 => 0.867\n",
      "k: 53 => 0.867\n",
      "k: 54 => 0.867\n",
      "k: 55 => 0.867\n",
      "k: 56 => 0.867\n",
      "k: 57 => 0.867\n",
      "k: 58 => 0.867\n",
      "k: 59 => 0.867\n",
      "k: 60 => 0.867\n",
      "k: 61 => 0.867\n",
      "k: 62 => 0.800\n",
      "k: 63 => 0.844\n",
      "k: 64 => 0.711\n",
      "k: 65 => 0.778\n",
      "k: 66 => 0.222\n",
      "k: 67 => 0.222\n",
      "k: 68 => 0.222\n",
      "k: 69 => 0.222\n",
      "k: 70 => 0.222\n",
      "k: 71 => 0.222\n",
      "k: 72 => 0.222\n",
      "k: 73 => 0.222\n",
      "k: 74 => 0.222\n",
      "k: 75 => 0.222\n",
      "k: 76 => 0.222\n",
      "k: 77 => 0.222\n",
      "k: 78 => 0.222\n",
      "k: 79 => 0.222\n",
      "k: 80 => 0.222\n",
      "k: 81 => 0.222\n",
      "k: 82 => 0.222\n",
      "k: 83 => 0.222\n",
      "k: 84 => 0.222\n",
      "k: 85 => 0.222\n",
      "k: 86 => 0.222\n",
      "k: 87 => 0.222\n",
      "k: 88 => 0.222\n",
      "k: 89 => 0.222\n",
      "k: 90 => 0.222\n",
      "k: 91 => 0.222\n",
      "k: 92 => 0.222\n",
      "k: 93 => 0.222\n",
      "k: 94 => 0.222\n",
      "k: 95 => 0.222\n",
      "k: 96 => 0.222\n",
      "k: 97 => 0.222\n",
      "k: 98 => 0.222\n",
      "k: 99 => 0.222\n"
     ]
    },
    {
     "data": {
      "text/plain": [
       "[<matplotlib.lines.Line2D at 0x10b5c1c90>]"
      ]
     },
     "execution_count": 61,
     "metadata": {},
     "output_type": "execute_result"
    },
    {
     "data": {
      "image/png": "[encoded data removed]",
      "text/plain": [
       "<matplotlib.figure.Figure at 0x10b5c1d50>"
      ]
     },
     "metadata": {},
     "output_type": "display_data"
    }
   ],
   "source": [
    "for k in range(1, 100):\n",
    "    print \"k: %i => %0.3f\" % (k, knn(k))\n",
    "    \n",
    "scores = [knn(k) for k in range(1, 100)]\n",
    "\n",
    "plt.figure(figsize=(15, 6))\n",
    "plt.plot(range(1, 100), scores, '-o')"
   ]
  },
  {
   "cell_type": "code",
   "execution_count": 89,
   "metadata": {
    "collapsed": false
   },
   "outputs": [
    {
     "name": "stdout",
     "output_type": "stream",
     "text": [
      "FOLD:  1\n",
      "Training indices [ 4  5  6  7  8  9 10 11 12 13 14 15 16 17 18]\n",
      "Testing indices [0 1 2 3]\n",
      "\n",
      "FOLD:  2\n",
      "Training indices [ 0  1  2  3  8  9 10 11 12 13 14 15 16 17 18]\n",
      "Testing indices [4 5 6 7]\n",
      "\n",
      "FOLD:  3\n",
      "Training indices [ 0  1  2  3  4  5  6  7 12 13 14 15 16 17 18]\n",
      "Testing indices [ 8  9 10 11]\n",
      "\n",
      "FOLD:  4\n",
      "Training indices [ 0  1  2  3  4  5  6  7  8  9 10 11 16 17 18]\n",
      "Testing indices [12 13 14 15]\n",
      "\n",
      "FOLD:  5\n",
      "Training indices [ 0  1  2  3  4  5  6  7  8  9 10 11 12 13 14 15]\n",
      "Testing indices [16 17 18]\n",
      "\n"
     ]
    }
   ],
   "source": [
    "from sklearn.cross_validation import KFold\n",
    "\n",
    "arr = np.array(range(1, 20))\n",
    "\n",
    "kf = KFold(len(arr), n_folds = 5)\n",
    "\n",
    "len(kf)\n",
    "\n",
    "i = 1\n",
    "for train_idx, test_idx in kf:\n",
    "    print \"FOLD: \", i\n",
    "    \n",
    "    print \"Training indices\", train_idx\n",
    "    print \"Testing indices\", test_idx\n",
    "    print\n",
    "    i += 1"
   ]
  },
  {
   "cell_type": "code",
   "execution_count": 108,
   "metadata": {
    "collapsed": false
   },
   "outputs": [
    {
     "name": "stdout",
     "output_type": "stream",
     "text": [
      "{'n_neighbors': 2, 'weights': 'distance'}\n"
     ]
    }
   ],
   "source": [
    "from sklearn.grid_search import GridSearchCV\n",
    "\n",
    "kf = KFold(len(X), n_folds = 10)\n",
    "\n",
    "k_values = range(2, 100)\n",
    "\n",
    "\n",
    "k_parameters = {\n",
    "    'n_neighbors': k_values,\n",
    "    'weights': ['uniform', 'distance']\n",
    "}\n",
    "\n",
    "gs = GridSearchCV(estimator=KNeighborsClassifier(), param_grid=k_parameters, cv=kf)\n",
    "\n",
    "gs.fit(X, y)\n",
    "\n",
    "# print gs.grid_scores_\n",
    "print gs.best_params_\n",
    "\n"
   ]
  }
 ],
 "metadata": {
  "kernelspec": {
   "display_name": "Python 2",
   "language": "python",
   "name": "python2"
  },
  "language_info": {
   "codemirror_mode": {
    "name": "ipython",
    "version": 2
   },
   "file_extension": ".py",
   "mimetype": "text/x-python",
   "name": "python",
   "nbconvert_exporter": "python",
   "pygments_lexer": "ipython2",
   "version": "2.7.11"
  },
  "widgets": {
   "state": {},
   "version": "1.1.2"
  }
 },
 "nbformat": 4,
 "nbformat_minor": 0
}
